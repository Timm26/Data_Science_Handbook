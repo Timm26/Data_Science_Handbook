{
 "cells": [
  {
   "cell_type": "markdown",
   "id": "cc158c5d",
   "metadata": {},
   "source": [
    "### 1. Basic Statistics"
   ]
  },
  {
   "cell_type": "code",
   "execution_count": 1,
   "id": "5f585da2",
   "metadata": {},
   "outputs": [],
   "source": [
    "# Setup\n",
    "from typing import List, Tuple\n",
    "from collections import Counter\n",
    "import numpy as np"
   ]
  },
  {
   "cell_type": "code",
   "execution_count": 2,
   "id": "bc5dfce3",
   "metadata": {},
   "outputs": [],
   "source": [
    "# Some data\n",
    "num_friends = [100.0,49,41,40,25,21,21,19,19,18,18,16,15,15,15,15,14,14,13,13,13,13,12,12,11,10,10,10,10,10,10,10,10,10,10,10,10,10,10,10,9,9,9,9,9,9,9,9,9,9,9,9,9,9,9,9,9,9,8,8,8,8,8,8,8,8,8,8,8,8,8,7,7,7,7,7,7,7,7,7,7,7,7,7,7,7,6,6,6,6,6,6,6,6,6,6,6,6,6,6,6,6,6,6,6,6,6,6,5,5,5,5,5,5,5,5,5,5,5,5,5,5,5,5,5,4,4,4,4,4,4,4,4,4,4,4,4,4,4,4,4,4,4,4,4,3,3,3,3,3,3,3,3,3,3,3,3,3,3,3,3,3,3,3,3,2,2,2,2,2,2,2,2,2,2,2,2,2,2,2,2,2,1,1,1,1,1,1,1,1,1,1,1,1,1,1,1,1,1,1,1,1,1,1]\n",
    "daily_minutes = [1,68.77,51.25,52.08,38.36,44.54,57.13,51.4,41.42,31.22,34.76,54.01,38.79,47.59,49.1,27.66,41.03,36.73,48.65,28.12,46.62,35.57,32.98,35,26.07,23.77,39.73,40.57,31.65,31.21,36.32,20.45,21.93,26.02,27.34,23.49,46.94,30.5,33.8,24.23,21.4,27.94,32.24,40.57,25.07,19.42,22.39,18.42,46.96,23.72,26.41,26.97,36.76,40.32,35.02,29.47,30.2,31,38.11,38.18,36.31,21.03,30.86,36.07,28.66,29.08,37.28,15.28,24.17,22.31,30.17,25.53,19.85,35.37,44.6,17.23,13.47,26.33,35.02,32.09,24.81,19.33,28.77,24.26,31.98,25.73,24.86,16.28,34.51,15.23,39.72,40.8,26.06,35.76,34.76,16.13,44.04,18.03,19.65,32.62,35.59,39.43,14.18,35.24,40.13,41.82,35.45,36.07,43.67,24.61,20.9,21.9,18.79,27.61,27.21,26.61,29.77,20.59,27.53,13.82,33.2,25,33.1,36.65,18.63,14.87,22.2,36.81,25.53,24.62,26.25,18.21,28.08,19.42,29.79,32.8,35.99,28.32,27.79,35.88,29.06,36.28,14.1,36.63,37.49,26.9,18.58,38.48,24.48,18.95,33.55,14.24,29.04,32.51,25.63,22.22,19,32.73,15.16,13.9,27.2,32.01,29.27,33,13.74,20.42,27.32,18.23,35.35,28.48,9.08,24.62,20.12,35.26,19.92,31.02,16.49,12.16,30.7,31.22,34.65,13.13,27.51,33.2,31.57,14.1,33.42,17.44,10.12,24.42,9.82,23.39,30.93,15.03,21.67,31.09,33.29,22.61,26.89,23.48,8.38,27.81,32.35,23.84]"
   ]
  },
  {
   "cell_type": "code",
   "execution_count": 3,
   "id": "5c3d80e2",
   "metadata": {},
   "outputs": [
    {
     "name": "stdout",
     "output_type": "stream",
     "text": [
      "204 100.0 1 49\n"
     ]
    }
   ],
   "source": [
    "# Number of data points\n",
    "num_points = len(num_friends)\n",
    "# Largest data point\n",
    "largest_value = max(num_friends)\n",
    "# Smallest data point\n",
    "smallest_value = min(num_friends)\n",
    "# second_smallest_value\n",
    "sorted_values = sorted(num_friends)\n",
    "second_largest_value = sorted_values[-2]\n",
    "# Results\n",
    "print(num_points, largest_value, smallest_value, second_largest_value)"
   ]
  },
  {
   "cell_type": "markdown",
   "id": "32440597",
   "metadata": {},
   "source": [
    "### 2. Central Tendencies\n",
    "- Mean, Median, Mode\n",
    "- Quantile"
   ]
  },
  {
   "cell_type": "code",
   "execution_count": 4,
   "id": "569799b3",
   "metadata": {},
   "outputs": [
    {
     "data": {
      "text/plain": [
       "7.333333333333333"
      ]
     },
     "execution_count": 4,
     "metadata": {},
     "output_type": "execute_result"
    }
   ],
   "source": [
    "# Mean\n",
    "def mean(xs: List[float]) -> float:\n",
    "    return sum(xs) / len(xs)\n",
    "mean(num_friends)"
   ]
  },
  {
   "cell_type": "code",
   "execution_count": 5,
   "id": "495999f1",
   "metadata": {},
   "outputs": [
    {
     "data": {
      "text/plain": [
       "6.0"
      ]
     },
     "execution_count": 5,
     "metadata": {},
     "output_type": "execute_result"
    }
   ],
   "source": [
    "# Median\n",
    "def _median_odd(xs: List[float]) -> float: # Private function 1\n",
    "    \"If len(xs) is odd, the median is the middle value\"\n",
    "    return sorted(xs)[len(xs) // 2]\n",
    "\n",
    "def _median_even(xs: List[float]) -> float: # Private function 2\n",
    "    \"Find the middle most value\"\n",
    "    sorted_xs = sorted(xs)\n",
    "    middle_point = len(xs) // 2\n",
    "    return (sorted_xs[middle_point -1] + sorted_xs[middle_point]) / 2\n",
    "\n",
    "def median(v: List[float]) -> float:\n",
    "    return _median_even(v) if len(v) % 2 == 0 else _median_odd(v)\n",
    "\n",
    "median(num_friends)"
   ]
  },
  {
   "cell_type": "code",
   "execution_count": 6,
   "id": "8412d4ae",
   "metadata": {},
   "outputs": [],
   "source": [
    "# Mode\n",
    "def mode(x: List[float]) -> List[float]:\n",
    "    counts = Counter(x)\n",
    "    max_count = max(counts.values())\n",
    "    return [x_i for x_i, count in counts.items() if count == max_count]"
   ]
  },
  {
   "cell_type": "code",
   "execution_count": 7,
   "id": "6f2f8441",
   "metadata": {},
   "outputs": [
    {
     "data": {
      "text/plain": [
       "[6, 1]"
      ]
     },
     "execution_count": 7,
     "metadata": {},
     "output_type": "execute_result"
    }
   ],
   "source": [
    "mode(num_friends)"
   ]
  },
  {
   "cell_type": "code",
   "execution_count": 8,
   "id": "2df74a3b",
   "metadata": {},
   "outputs": [
    {
     "data": {
      "text/plain": [
       "9"
      ]
     },
     "execution_count": 8,
     "metadata": {},
     "output_type": "execute_result"
    }
   ],
   "source": [
    "# Quantile\n",
    "def quantile(xs: List[float], p: float) -> float:\n",
    "    p_index = int(p * len(xs))\n",
    "    return sorted(xs)[p_index]\n",
    "# Using our function\n",
    "quantile(num_friends, 0.75) # 75th of the data is below the value 9"
   ]
  },
  {
   "cell_type": "markdown",
   "id": "5579e30b",
   "metadata": {},
   "source": [
    "## 3. Dispersion\n",
    "Measure of how spread out our data is.\n",
    "- Range\n",
    "- Variance\n",
    "- Standard Deviation\n",
    "- Interquartile Range"
   ]
  },
  {
   "cell_type": "markdown",
   "id": "ea1a2ce0",
   "metadata": {},
   "source": [
    "### 3.1 Range\n",
    "Difference between largest and smallest value."
   ]
  },
  {
   "cell_type": "code",
   "execution_count": 9,
   "id": "19aacb27",
   "metadata": {},
   "outputs": [
    {
     "data": {
      "text/plain": [
       "99.0"
      ]
     },
     "execution_count": 9,
     "metadata": {},
     "output_type": "execute_result"
    }
   ],
   "source": [
    "def data_range(xs: List[float]) -> float:\n",
    "    return max(xs) - min(xs)\n",
    "# Use this\n",
    "data_range(num_friends)"
   ]
  },
  {
   "cell_type": "markdown",
   "id": "f4fd41e8",
   "metadata": {},
   "source": [
    "### 3.2 Variance\n",
    "Population Variance:\n",
    "$\\sigma^2 = \\frac{1}{N} \\sum_{i=1}^{N} (x_i - \\mu)^2$\n",
    "\n",
    "- $x_i$ = each data point\n",
    "- $\\mu$ = population mean\n",
    "- $N$ = number of data points\n",
    "\n",
    "Sample Variance:\n",
    "$s^2 = \\frac{1}{n-1} \\sum_{i=1}^{n} (x_i - \\bar{x})^2$\n",
    "\n",
    "- $x_i$ = each sample point\n",
    "- $\\bar{x}$ = sample mean\n",
    "- $n$ = sample size -> *n-1*"
   ]
  },
  {
   "cell_type": "markdown",
   "id": "4f8d3f6a",
   "metadata": {},
   "source": [
    "### 3.3 Standard Deviation\n",
    "Square root of the variance."
   ]
  },
  {
   "cell_type": "code",
   "execution_count": 10,
   "id": "4d6d4983",
   "metadata": {},
   "outputs": [
    {
     "data": {
      "text/plain": [
       "6"
      ]
     },
     "execution_count": 10,
     "metadata": {},
     "output_type": "execute_result"
    }
   ],
   "source": [
    "### 3.4 Interquartile range\n",
    "def interquartile_range(xs: List[float]) -> float:\n",
    "    return quantile(xs, 0.75) - quantile(xs, 0.25)\n",
    "# Use it\n",
    "interquartile_range(num_friends)"
   ]
  },
  {
   "cell_type": "markdown",
   "id": "e04407c8",
   "metadata": {},
   "source": [
    "## 4. Correlation\n",
    "Measures the linear relationship between two metrics."
   ]
  },
  {
   "cell_type": "markdown",
   "id": "3767d949",
   "metadata": {},
   "source": [
    "### 4.1 Covariance\n",
    "Measures how two variables cary in tandem from their means.\n",
    "\n",
    "Population covariance:\n",
    "$\\mathrm{Cov}(X, Y) = \\frac{1}{N} \\sum_{i=1}^{N} (x_i - \\mu_X)(y_i - \\mu_Y)$\n",
    "\n",
    "- $x_i, y_i$ = paired data points\n",
    "- $\\mu_X, \\mu_Y$ = means of X and Y\n",
    "- $N$ = number of data pairs\n",
    "\n",
    "Sample covariance:\n",
    "$\\mathrm{Cov}(X, Y) = \\frac{1}{n-1} \\sum_{i=1}^{n} (x_i - \\bar{x})(y_i - \\bar{y})$\n",
    "- $n$ = sample size\n",
    "- $\\bar{x}, \\bar{y}$ = sample means"
   ]
  },
  {
   "cell_type": "code",
   "execution_count": 11,
   "id": "8739f03a",
   "metadata": {},
   "outputs": [
    {
     "name": "stdout",
     "output_type": "stream",
     "text": [
      "22.425435139573057\n"
     ]
    }
   ],
   "source": [
    "# Sample covariance\n",
    "def covariance(xs: List[float], ys: List[float]) -> float:\n",
    "    assert len(xs) == len(ys),\"xs and ys must have same number of elements\"\n",
    "    x_bar = np.mean(xs)\n",
    "    y_bar = np.mean(ys)\n",
    "    return sum((x - x_bar) * (y - y_bar) for x,y in zip(xs,ys)) / (len(xs) - 1)\n",
    "# Use it\n",
    "print(covariance(num_friends, daily_minutes))"
   ]
  },
  {
   "cell_type": "markdown",
   "id": "2985d2cc",
   "metadata": {},
   "source": [
    "### 4.2 Correlation\n",
    "Correlation is unitless and always lies between -1 (perfect anticorrelation) and 1 (perfect correlation). Extremely sensitive to extreme values.\n",
    "\n",
    "$r_{X,Y} \\;=\\; \\frac{\\mathrm{Cov}(X,Y)}{\\sigma_X \\, \\sigma_Y}$\n",
    "- $\\mathrm{Cov}(X,Y)$ = covariance of X and Y\n",
    "- $\\sigma_X, \\sigma_Y$ = standard deviations of X and Y"
   ]
  },
  {
   "cell_type": "code",
   "execution_count": 12,
   "id": "9a598b9a",
   "metadata": {},
   "outputs": [
    {
     "name": "stdout",
     "output_type": "stream",
     "text": [
      "0.25\n"
     ]
    }
   ],
   "source": [
    "def correlation(xs: List[float], ys: List[float]) -> float:\n",
    "    \"Measures how much xs and ys vary in tandem about their means\"\n",
    "    stdev_x = np.std(xs)\n",
    "    stdev_y = np.std(ys)\n",
    "    if stdev_x > 0 and stdev_y > 0:\n",
    "        return covariance(xs, ys) / stdev_x / stdev_y\n",
    "    else:\n",
    "        return 0 #if no variation, correlation is zero\n",
    "    \n",
    "# Use it\n",
    "print(np.round(correlation(num_friends, daily_minutes),2)) # Moderate positive correlation"
   ]
  },
  {
   "cell_type": "markdown",
   "id": "1b929148",
   "metadata": {},
   "source": [
    "### 4.3 Simpson's Paradox\n",
    "Correlations can be misleading when confounding variables are ignored. E.g. overall dataset has a positive correlation but groupwise correlation is showing the opposite. Groupwise analysis might be better - depending on the research question."
   ]
  },
  {
   "cell_type": "code",
   "execution_count": null,
   "id": "ca93684a",
   "metadata": {},
   "outputs": [],
   "source": []
  }
 ],
 "metadata": {
  "kernelspec": {
   "display_name": "base",
   "language": "python",
   "name": "python3"
  },
  "language_info": {
   "codemirror_mode": {
    "name": "ipython",
    "version": 3
   },
   "file_extension": ".py",
   "mimetype": "text/x-python",
   "name": "python",
   "nbconvert_exporter": "python",
   "pygments_lexer": "ipython3",
   "version": "3.13.5"
  }
 },
 "nbformat": 4,
 "nbformat_minor": 5
}
