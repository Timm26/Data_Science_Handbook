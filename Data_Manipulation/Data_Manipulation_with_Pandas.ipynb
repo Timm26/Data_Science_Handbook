{
 "cells": [
  {
   "cell_type": "markdown",
   "id": "88cf6e51",
   "metadata": {},
   "source": [
    "## 1. Inspecting DataFrames"
   ]
  },
  {
   "cell_type": "code",
   "execution_count": 91,
   "id": "e0cd33b1",
   "metadata": {},
   "outputs": [],
   "source": [
    "import pandas as pd\n",
    "import numpy as np"
   ]
  },
  {
   "cell_type": "code",
   "execution_count": 77,
   "id": "f05e998e",
   "metadata": {},
   "outputs": [
    {
     "data": {
      "application/vnd.microsoft.datawrangler.viewer.v0+json": {
       "columns": [
        {
         "name": "index",
         "rawType": "int64",
         "type": "integer"
        },
        {
         "name": "Unnamed: 0",
         "rawType": "int64",
         "type": "integer"
        },
        {
         "name": "region",
         "rawType": "object",
         "type": "string"
        },
        {
         "name": "state",
         "rawType": "object",
         "type": "string"
        },
        {
         "name": "individuals",
         "rawType": "float64",
         "type": "float"
        },
        {
         "name": "family_members",
         "rawType": "float64",
         "type": "float"
        },
        {
         "name": "state_pop",
         "rawType": "int64",
         "type": "integer"
        }
       ],
       "ref": "fa8c8ff2-3b9f-48f4-9cd7-018a2278ec49",
       "rows": [
        [
         "0",
         "0",
         "East South Central",
         "Alabama",
         "2570.0",
         "864.0",
         "4887681"
        ],
        [
         "1",
         "1",
         "Pacific",
         "Alaska",
         "1434.0",
         "582.0",
         "735139"
        ],
        [
         "2",
         "2",
         "Mountain",
         "Arizona",
         "7259.0",
         "2606.0",
         "7158024"
        ],
        [
         "3",
         "3",
         "West South Central",
         "Arkansas",
         "2280.0",
         "432.0",
         "3009733"
        ],
        [
         "4",
         "4",
         "Pacific",
         "California",
         "109008.0",
         "20964.0",
         "39461588"
        ]
       ],
       "shape": {
        "columns": 6,
        "rows": 5
       }
      },
      "text/html": [
       "<div>\n",
       "<style scoped>\n",
       "    .dataframe tbody tr th:only-of-type {\n",
       "        vertical-align: middle;\n",
       "    }\n",
       "\n",
       "    .dataframe tbody tr th {\n",
       "        vertical-align: top;\n",
       "    }\n",
       "\n",
       "    .dataframe thead th {\n",
       "        text-align: right;\n",
       "    }\n",
       "</style>\n",
       "<table border=\"1\" class=\"dataframe\">\n",
       "  <thead>\n",
       "    <tr style=\"text-align: right;\">\n",
       "      <th></th>\n",
       "      <th>Unnamed: 0</th>\n",
       "      <th>region</th>\n",
       "      <th>state</th>\n",
       "      <th>individuals</th>\n",
       "      <th>family_members</th>\n",
       "      <th>state_pop</th>\n",
       "    </tr>\n",
       "  </thead>\n",
       "  <tbody>\n",
       "    <tr>\n",
       "      <th>0</th>\n",
       "      <td>0</td>\n",
       "      <td>East South Central</td>\n",
       "      <td>Alabama</td>\n",
       "      <td>2570.0</td>\n",
       "      <td>864.0</td>\n",
       "      <td>4887681</td>\n",
       "    </tr>\n",
       "    <tr>\n",
       "      <th>1</th>\n",
       "      <td>1</td>\n",
       "      <td>Pacific</td>\n",
       "      <td>Alaska</td>\n",
       "      <td>1434.0</td>\n",
       "      <td>582.0</td>\n",
       "      <td>735139</td>\n",
       "    </tr>\n",
       "    <tr>\n",
       "      <th>2</th>\n",
       "      <td>2</td>\n",
       "      <td>Mountain</td>\n",
       "      <td>Arizona</td>\n",
       "      <td>7259.0</td>\n",
       "      <td>2606.0</td>\n",
       "      <td>7158024</td>\n",
       "    </tr>\n",
       "    <tr>\n",
       "      <th>3</th>\n",
       "      <td>3</td>\n",
       "      <td>West South Central</td>\n",
       "      <td>Arkansas</td>\n",
       "      <td>2280.0</td>\n",
       "      <td>432.0</td>\n",
       "      <td>3009733</td>\n",
       "    </tr>\n",
       "    <tr>\n",
       "      <th>4</th>\n",
       "      <td>4</td>\n",
       "      <td>Pacific</td>\n",
       "      <td>California</td>\n",
       "      <td>109008.0</td>\n",
       "      <td>20964.0</td>\n",
       "      <td>39461588</td>\n",
       "    </tr>\n",
       "  </tbody>\n",
       "</table>\n",
       "</div>"
      ],
      "text/plain": [
       "   Unnamed: 0              region       state  individuals  family_members  \\\n",
       "0           0  East South Central     Alabama       2570.0           864.0   \n",
       "1           1             Pacific      Alaska       1434.0           582.0   \n",
       "2           2            Mountain     Arizona       7259.0          2606.0   \n",
       "3           3  West South Central    Arkansas       2280.0           432.0   \n",
       "4           4             Pacific  California     109008.0         20964.0   \n",
       "\n",
       "   state_pop  \n",
       "0    4887681  \n",
       "1     735139  \n",
       "2    7158024  \n",
       "3    3009733  \n",
       "4   39461588  "
      ]
     },
     "execution_count": 77,
     "metadata": {},
     "output_type": "execute_result"
    }
   ],
   "source": [
    "df = pd.read_csv(\"../ZDatasets/homelessness.csv\")\n",
    "df.head()"
   ]
  },
  {
   "cell_type": "code",
   "execution_count": 78,
   "id": "d7210743",
   "metadata": {},
   "outputs": [
    {
     "name": "stdout",
     "output_type": "stream",
     "text": [
      "<class 'pandas.core.frame.DataFrame'>\n",
      "RangeIndex: 51 entries, 0 to 50\n",
      "Data columns (total 6 columns):\n",
      " #   Column          Non-Null Count  Dtype  \n",
      "---  ------          --------------  -----  \n",
      " 0   Unnamed: 0      51 non-null     int64  \n",
      " 1   region          51 non-null     object \n",
      " 2   state           51 non-null     object \n",
      " 3   individuals     51 non-null     float64\n",
      " 4   family_members  51 non-null     float64\n",
      " 5   state_pop       51 non-null     int64  \n",
      "dtypes: float64(2), int64(2), object(2)\n",
      "memory usage: 2.5+ KB\n",
      "None\n",
      "(51, 6)\n",
      "       Unnamed: 0    individuals  family_members     state_pop\n",
      "count   51.000000      51.000000       51.000000  5.100000e+01\n",
      "mean    25.000000    7225.784314     3504.882353  6.405637e+06\n",
      "std     14.866069   15991.025083     7805.411811  7.327258e+06\n",
      "min      0.000000     434.000000       75.000000  5.776010e+05\n",
      "25%     12.500000    1446.500000      592.000000  1.777414e+06\n",
      "50%     25.000000    3082.000000     1482.000000  4.461153e+06\n",
      "75%     37.500000    6781.500000     3196.000000  7.340946e+06\n",
      "max     50.000000  109008.000000    52070.000000  3.946159e+07\n"
     ]
    }
   ],
   "source": [
    "### Exploring a DataFrame\n",
    "print(df.info())\n",
    "print(df.shape)\n",
    "print(df.describe())"
   ]
  },
  {
   "cell_type": "code",
   "execution_count": 79,
   "id": "9b602fb7",
   "metadata": {},
   "outputs": [
    {
     "name": "stdout",
     "output_type": "stream",
     "text": [
      "Index(['Unnamed: 0', 'region', 'state', 'individuals', 'family_members',\n",
      "       'state_pop'],\n",
      "      dtype='object')\n",
      "RangeIndex(start=0, stop=51, step=1)\n"
     ]
    }
   ],
   "source": [
    "### Components of a Dataframe\n",
    "df.values\n",
    "print(df.columns)\n",
    "print(df.index)"
   ]
  },
  {
   "cell_type": "markdown",
   "id": "757baaf5",
   "metadata": {},
   "source": [
    "### 1.2. Sorting the DataFrame"
   ]
  },
  {
   "cell_type": "markdown",
   "id": "683a6e81",
   "metadata": {},
   "source": [
    "#### 1.2.1 Sort a column in descending order"
   ]
  },
  {
   "cell_type": "code",
   "execution_count": 80,
   "id": "0022913e",
   "metadata": {},
   "outputs": [
    {
     "data": {
      "application/vnd.microsoft.datawrangler.viewer.v0+json": {
       "columns": [
        {
         "name": "index",
         "rawType": "int64",
         "type": "integer"
        },
        {
         "name": "Unnamed: 0",
         "rawType": "int64",
         "type": "integer"
        },
        {
         "name": "region",
         "rawType": "object",
         "type": "string"
        },
        {
         "name": "state",
         "rawType": "object",
         "type": "string"
        },
        {
         "name": "individuals",
         "rawType": "float64",
         "type": "float"
        },
        {
         "name": "family_members",
         "rawType": "float64",
         "type": "float"
        },
        {
         "name": "state_pop",
         "rawType": "int64",
         "type": "integer"
        }
       ],
       "ref": "36ee3bb1-03aa-415b-9228-7d12b9676e81",
       "rows": [
        [
         "50",
         "50",
         "Mountain",
         "Wyoming",
         "434.0",
         "205.0",
         "577601"
        ],
        [
         "49",
         "49",
         "East North Central",
         "Wisconsin",
         "2740.0",
         "2167.0",
         "5807406"
        ],
        [
         "48",
         "48",
         "South Atlantic",
         "West Virginia",
         "1021.0",
         "222.0",
         "1804291"
        ],
        [
         "47",
         "47",
         "Pacific",
         "Washington",
         "16424.0",
         "5880.0",
         "7523869"
        ],
        [
         "46",
         "46",
         "South Atlantic",
         "Virginia",
         "3928.0",
         "2047.0",
         "8501286"
        ]
       ],
       "shape": {
        "columns": 6,
        "rows": 5
       }
      },
      "text/html": [
       "<div>\n",
       "<style scoped>\n",
       "    .dataframe tbody tr th:only-of-type {\n",
       "        vertical-align: middle;\n",
       "    }\n",
       "\n",
       "    .dataframe tbody tr th {\n",
       "        vertical-align: top;\n",
       "    }\n",
       "\n",
       "    .dataframe thead th {\n",
       "        text-align: right;\n",
       "    }\n",
       "</style>\n",
       "<table border=\"1\" class=\"dataframe\">\n",
       "  <thead>\n",
       "    <tr style=\"text-align: right;\">\n",
       "      <th></th>\n",
       "      <th>Unnamed: 0</th>\n",
       "      <th>region</th>\n",
       "      <th>state</th>\n",
       "      <th>individuals</th>\n",
       "      <th>family_members</th>\n",
       "      <th>state_pop</th>\n",
       "    </tr>\n",
       "  </thead>\n",
       "  <tbody>\n",
       "    <tr>\n",
       "      <th>50</th>\n",
       "      <td>50</td>\n",
       "      <td>Mountain</td>\n",
       "      <td>Wyoming</td>\n",
       "      <td>434.0</td>\n",
       "      <td>205.0</td>\n",
       "      <td>577601</td>\n",
       "    </tr>\n",
       "    <tr>\n",
       "      <th>49</th>\n",
       "      <td>49</td>\n",
       "      <td>East North Central</td>\n",
       "      <td>Wisconsin</td>\n",
       "      <td>2740.0</td>\n",
       "      <td>2167.0</td>\n",
       "      <td>5807406</td>\n",
       "    </tr>\n",
       "    <tr>\n",
       "      <th>48</th>\n",
       "      <td>48</td>\n",
       "      <td>South Atlantic</td>\n",
       "      <td>West Virginia</td>\n",
       "      <td>1021.0</td>\n",
       "      <td>222.0</td>\n",
       "      <td>1804291</td>\n",
       "    </tr>\n",
       "    <tr>\n",
       "      <th>47</th>\n",
       "      <td>47</td>\n",
       "      <td>Pacific</td>\n",
       "      <td>Washington</td>\n",
       "      <td>16424.0</td>\n",
       "      <td>5880.0</td>\n",
       "      <td>7523869</td>\n",
       "    </tr>\n",
       "    <tr>\n",
       "      <th>46</th>\n",
       "      <td>46</td>\n",
       "      <td>South Atlantic</td>\n",
       "      <td>Virginia</td>\n",
       "      <td>3928.0</td>\n",
       "      <td>2047.0</td>\n",
       "      <td>8501286</td>\n",
       "    </tr>\n",
       "  </tbody>\n",
       "</table>\n",
       "</div>"
      ],
      "text/plain": [
       "    Unnamed: 0              region          state  individuals  \\\n",
       "50          50            Mountain        Wyoming        434.0   \n",
       "49          49  East North Central      Wisconsin       2740.0   \n",
       "48          48      South Atlantic  West Virginia       1021.0   \n",
       "47          47             Pacific     Washington      16424.0   \n",
       "46          46      South Atlantic       Virginia       3928.0   \n",
       "\n",
       "    family_members  state_pop  \n",
       "50           205.0     577601  \n",
       "49          2167.0    5807406  \n",
       "48           222.0    1804291  \n",
       "47          5880.0    7523869  \n",
       "46          2047.0    8501286  "
      ]
     },
     "execution_count": 80,
     "metadata": {},
     "output_type": "execute_result"
    }
   ],
   "source": [
    "df.sort_values('state', ascending=False).head()"
   ]
  },
  {
   "cell_type": "markdown",
   "id": "878fb75c",
   "metadata": {},
   "source": [
    "#### 1.2.2 Sort by multiple variables"
   ]
  },
  {
   "cell_type": "code",
   "execution_count": null,
   "id": "c5269fab",
   "metadata": {},
   "outputs": [
    {
     "data": {
      "application/vnd.microsoft.datawrangler.viewer.v0+json": {
       "columns": [
        {
         "name": "index",
         "rawType": "int64",
         "type": "integer"
        },
        {
         "name": "Unnamed: 0",
         "rawType": "int64",
         "type": "integer"
        },
        {
         "name": "region",
         "rawType": "object",
         "type": "string"
        },
        {
         "name": "state",
         "rawType": "object",
         "type": "string"
        },
        {
         "name": "individuals",
         "rawType": "float64",
         "type": "float"
        },
        {
         "name": "family_members",
         "rawType": "float64",
         "type": "float"
        },
        {
         "name": "state_pop",
         "rawType": "int64",
         "type": "integer"
        }
       ],
       "ref": "41dc0c04-8f2e-4b19-93df-3d6014f6e8be",
       "rows": [
        [
         "3",
         "3",
         "West South Central",
         "Arkansas",
         "2280.0",
         "432.0",
         "3009733"
        ],
        [
         "18",
         "18",
         "West South Central",
         "Louisiana",
         "2540.0",
         "519.0",
         "4659690"
        ],
        [
         "36",
         "36",
         "West South Central",
         "Oklahoma",
         "2823.0",
         "1048.0",
         "3940235"
        ],
        [
         "43",
         "43",
         "West South Central",
         "Texas",
         "19199.0",
         "6111.0",
         "28628666"
        ],
        [
         "15",
         "15",
         "West North Central",
         "Iowa",
         "1711.0",
         "1038.0",
         "3148618"
        ],
        [
         "16",
         "16",
         "West North Central",
         "Kansas",
         "1443.0",
         "773.0",
         "2911359"
        ],
        [
         "23",
         "23",
         "West North Central",
         "Minnesota",
         "3993.0",
         "3250.0",
         "5606249"
        ],
        [
         "25",
         "25",
         "West North Central",
         "Missouri",
         "3776.0",
         "2107.0",
         "6121623"
        ],
        [
         "27",
         "27",
         "West North Central",
         "Nebraska",
         "1745.0",
         "676.0",
         "1925614"
        ],
        [
         "34",
         "34",
         "West North Central",
         "North Dakota",
         "467.0",
         "75.0",
         "758080"
        ],
        [
         "41",
         "41",
         "West North Central",
         "South Dakota",
         "836.0",
         "323.0",
         "878698"
        ],
        [
         "7",
         "7",
         "South Atlantic",
         "Delaware",
         "708.0",
         "374.0",
         "965479"
        ],
        [
         "8",
         "8",
         "South Atlantic",
         "District of Columbia",
         "3770.0",
         "3134.0",
         "701547"
        ],
        [
         "9",
         "9",
         "South Atlantic",
         "Florida",
         "21443.0",
         "9587.0",
         "21244317"
        ],
        [
         "10",
         "10",
         "South Atlantic",
         "Georgia",
         "6943.0",
         "2556.0",
         "10511131"
        ],
        [
         "20",
         "20",
         "South Atlantic",
         "Maryland",
         "4914.0",
         "2230.0",
         "6035802"
        ],
        [
         "33",
         "33",
         "South Atlantic",
         "North Carolina",
         "6451.0",
         "2817.0",
         "10381615"
        ],
        [
         "40",
         "40",
         "South Atlantic",
         "South Carolina",
         "3082.0",
         "851.0",
         "5084156"
        ],
        [
         "46",
         "46",
         "South Atlantic",
         "Virginia",
         "3928.0",
         "2047.0",
         "8501286"
        ],
        [
         "48",
         "48",
         "South Atlantic",
         "West Virginia",
         "1021.0",
         "222.0",
         "1804291"
        ],
        [
         "1",
         "1",
         "Pacific",
         "Alaska",
         "1434.0",
         "582.0",
         "735139"
        ],
        [
         "4",
         "4",
         "Pacific",
         "California",
         "109008.0",
         "20964.0",
         "39461588"
        ],
        [
         "11",
         "11",
         "Pacific",
         "Hawaii",
         "4131.0",
         "2399.0",
         "1420593"
        ],
        [
         "37",
         "37",
         "Pacific",
         "Oregon",
         "11139.0",
         "3337.0",
         "4181886"
        ],
        [
         "47",
         "47",
         "Pacific",
         "Washington",
         "16424.0",
         "5880.0",
         "7523869"
        ],
        [
         "6",
         "6",
         "New England",
         "Connecticut",
         "2280.0",
         "1696.0",
         "3571520"
        ],
        [
         "19",
         "19",
         "New England",
         "Maine",
         "1450.0",
         "1066.0",
         "1339057"
        ],
        [
         "21",
         "21",
         "New England",
         "Massachusetts",
         "6811.0",
         "13257.0",
         "6882635"
        ],
        [
         "29",
         "29",
         "New England",
         "New Hampshire",
         "835.0",
         "615.0",
         "1353465"
        ],
        [
         "39",
         "39",
         "New England",
         "Rhode Island",
         "747.0",
         "354.0",
         "1058287"
        ],
        [
         "45",
         "45",
         "New England",
         "Vermont",
         "780.0",
         "511.0",
         "624358"
        ],
        [
         "2",
         "2",
         "Mountain",
         "Arizona",
         "7259.0",
         "2606.0",
         "7158024"
        ],
        [
         "5",
         "5",
         "Mountain",
         "Colorado",
         "7607.0",
         "3250.0",
         "5691287"
        ],
        [
         "12",
         "12",
         "Mountain",
         "Idaho",
         "1297.0",
         "715.0",
         "1750536"
        ],
        [
         "26",
         "26",
         "Mountain",
         "Montana",
         "983.0",
         "422.0",
         "1060665"
        ],
        [
         "28",
         "28",
         "Mountain",
         "Nevada",
         "7058.0",
         "486.0",
         "3027341"
        ],
        [
         "31",
         "31",
         "Mountain",
         "New Mexico",
         "1949.0",
         "602.0",
         "2092741"
        ],
        [
         "44",
         "44",
         "Mountain",
         "Utah",
         "1904.0",
         "972.0",
         "3153550"
        ],
        [
         "50",
         "50",
         "Mountain",
         "Wyoming",
         "434.0",
         "205.0",
         "577601"
        ],
        [
         "30",
         "30",
         "Mid-Atlantic",
         "New Jersey",
         "6048.0",
         "3350.0",
         "8886025"
        ],
        [
         "32",
         "32",
         "Mid-Atlantic",
         "New York",
         "39827.0",
         "52070.0",
         "19530351"
        ],
        [
         "38",
         "38",
         "Mid-Atlantic",
         "Pennsylvania",
         "8163.0",
         "5349.0",
         "12800922"
        ],
        [
         "0",
         "0",
         "East South Central",
         "Alabama",
         "2570.0",
         "864.0",
         "4887681"
        ],
        [
         "17",
         "17",
         "East South Central",
         "Kentucky",
         "2735.0",
         "953.0",
         "4461153"
        ],
        [
         "24",
         "24",
         "East South Central",
         "Mississippi",
         "1024.0",
         "328.0",
         "2981020"
        ],
        [
         "42",
         "42",
         "East South Central",
         "Tennessee",
         "6139.0",
         "1744.0",
         "6771631"
        ],
        [
         "13",
         "13",
         "East North Central",
         "Illinois",
         "6752.0",
         "3891.0",
         "12723071"
        ],
        [
         "14",
         "14",
         "East North Central",
         "Indiana",
         "3776.0",
         "1482.0",
         "6695497"
        ],
        [
         "22",
         "22",
         "East North Central",
         "Michigan",
         "5209.0",
         "3142.0",
         "9984072"
        ],
        [
         "35",
         "35",
         "East North Central",
         "Ohio",
         "6929.0",
         "3320.0",
         "11676341"
        ]
       ],
       "shape": {
        "columns": 6,
        "rows": 51
       }
      },
      "text/html": [
       "<div>\n",
       "<style scoped>\n",
       "    .dataframe tbody tr th:only-of-type {\n",
       "        vertical-align: middle;\n",
       "    }\n",
       "\n",
       "    .dataframe tbody tr th {\n",
       "        vertical-align: top;\n",
       "    }\n",
       "\n",
       "    .dataframe thead th {\n",
       "        text-align: right;\n",
       "    }\n",
       "</style>\n",
       "<table border=\"1\" class=\"dataframe\">\n",
       "  <thead>\n",
       "    <tr style=\"text-align: right;\">\n",
       "      <th></th>\n",
       "      <th>Unnamed: 0</th>\n",
       "      <th>region</th>\n",
       "      <th>state</th>\n",
       "      <th>individuals</th>\n",
       "      <th>family_members</th>\n",
       "      <th>state_pop</th>\n",
       "    </tr>\n",
       "  </thead>\n",
       "  <tbody>\n",
       "    <tr>\n",
       "      <th>3</th>\n",
       "      <td>3</td>\n",
       "      <td>West South Central</td>\n",
       "      <td>Arkansas</td>\n",
       "      <td>2280.0</td>\n",
       "      <td>432.0</td>\n",
       "      <td>3009733</td>\n",
       "    </tr>\n",
       "    <tr>\n",
       "      <th>18</th>\n",
       "      <td>18</td>\n",
       "      <td>West South Central</td>\n",
       "      <td>Louisiana</td>\n",
       "      <td>2540.0</td>\n",
       "      <td>519.0</td>\n",
       "      <td>4659690</td>\n",
       "    </tr>\n",
       "    <tr>\n",
       "      <th>36</th>\n",
       "      <td>36</td>\n",
       "      <td>West South Central</td>\n",
       "      <td>Oklahoma</td>\n",
       "      <td>2823.0</td>\n",
       "      <td>1048.0</td>\n",
       "      <td>3940235</td>\n",
       "    </tr>\n",
       "    <tr>\n",
       "      <th>43</th>\n",
       "      <td>43</td>\n",
       "      <td>West South Central</td>\n",
       "      <td>Texas</td>\n",
       "      <td>19199.0</td>\n",
       "      <td>6111.0</td>\n",
       "      <td>28628666</td>\n",
       "    </tr>\n",
       "    <tr>\n",
       "      <th>15</th>\n",
       "      <td>15</td>\n",
       "      <td>West North Central</td>\n",
       "      <td>Iowa</td>\n",
       "      <td>1711.0</td>\n",
       "      <td>1038.0</td>\n",
       "      <td>3148618</td>\n",
       "    </tr>\n",
       "    <tr>\n",
       "      <th>16</th>\n",
       "      <td>16</td>\n",
       "      <td>West North Central</td>\n",
       "      <td>Kansas</td>\n",
       "      <td>1443.0</td>\n",
       "      <td>773.0</td>\n",
       "      <td>2911359</td>\n",
       "    </tr>\n",
       "    <tr>\n",
       "      <th>23</th>\n",
       "      <td>23</td>\n",
       "      <td>West North Central</td>\n",
       "      <td>Minnesota</td>\n",
       "      <td>3993.0</td>\n",
       "      <td>3250.0</td>\n",
       "      <td>5606249</td>\n",
       "    </tr>\n",
       "    <tr>\n",
       "      <th>25</th>\n",
       "      <td>25</td>\n",
       "      <td>West North Central</td>\n",
       "      <td>Missouri</td>\n",
       "      <td>3776.0</td>\n",
       "      <td>2107.0</td>\n",
       "      <td>6121623</td>\n",
       "    </tr>\n",
       "    <tr>\n",
       "      <th>27</th>\n",
       "      <td>27</td>\n",
       "      <td>West North Central</td>\n",
       "      <td>Nebraska</td>\n",
       "      <td>1745.0</td>\n",
       "      <td>676.0</td>\n",
       "      <td>1925614</td>\n",
       "    </tr>\n",
       "    <tr>\n",
       "      <th>34</th>\n",
       "      <td>34</td>\n",
       "      <td>West North Central</td>\n",
       "      <td>North Dakota</td>\n",
       "      <td>467.0</td>\n",
       "      <td>75.0</td>\n",
       "      <td>758080</td>\n",
       "    </tr>\n",
       "    <tr>\n",
       "      <th>41</th>\n",
       "      <td>41</td>\n",
       "      <td>West North Central</td>\n",
       "      <td>South Dakota</td>\n",
       "      <td>836.0</td>\n",
       "      <td>323.0</td>\n",
       "      <td>878698</td>\n",
       "    </tr>\n",
       "    <tr>\n",
       "      <th>7</th>\n",
       "      <td>7</td>\n",
       "      <td>South Atlantic</td>\n",
       "      <td>Delaware</td>\n",
       "      <td>708.0</td>\n",
       "      <td>374.0</td>\n",
       "      <td>965479</td>\n",
       "    </tr>\n",
       "    <tr>\n",
       "      <th>8</th>\n",
       "      <td>8</td>\n",
       "      <td>South Atlantic</td>\n",
       "      <td>District of Columbia</td>\n",
       "      <td>3770.0</td>\n",
       "      <td>3134.0</td>\n",
       "      <td>701547</td>\n",
       "    </tr>\n",
       "    <tr>\n",
       "      <th>9</th>\n",
       "      <td>9</td>\n",
       "      <td>South Atlantic</td>\n",
       "      <td>Florida</td>\n",
       "      <td>21443.0</td>\n",
       "      <td>9587.0</td>\n",
       "      <td>21244317</td>\n",
       "    </tr>\n",
       "    <tr>\n",
       "      <th>10</th>\n",
       "      <td>10</td>\n",
       "      <td>South Atlantic</td>\n",
       "      <td>Georgia</td>\n",
       "      <td>6943.0</td>\n",
       "      <td>2556.0</td>\n",
       "      <td>10511131</td>\n",
       "    </tr>\n",
       "    <tr>\n",
       "      <th>20</th>\n",
       "      <td>20</td>\n",
       "      <td>South Atlantic</td>\n",
       "      <td>Maryland</td>\n",
       "      <td>4914.0</td>\n",
       "      <td>2230.0</td>\n",
       "      <td>6035802</td>\n",
       "    </tr>\n",
       "    <tr>\n",
       "      <th>33</th>\n",
       "      <td>33</td>\n",
       "      <td>South Atlantic</td>\n",
       "      <td>North Carolina</td>\n",
       "      <td>6451.0</td>\n",
       "      <td>2817.0</td>\n",
       "      <td>10381615</td>\n",
       "    </tr>\n",
       "    <tr>\n",
       "      <th>40</th>\n",
       "      <td>40</td>\n",
       "      <td>South Atlantic</td>\n",
       "      <td>South Carolina</td>\n",
       "      <td>3082.0</td>\n",
       "      <td>851.0</td>\n",
       "      <td>5084156</td>\n",
       "    </tr>\n",
       "    <tr>\n",
       "      <th>46</th>\n",
       "      <td>46</td>\n",
       "      <td>South Atlantic</td>\n",
       "      <td>Virginia</td>\n",
       "      <td>3928.0</td>\n",
       "      <td>2047.0</td>\n",
       "      <td>8501286</td>\n",
       "    </tr>\n",
       "    <tr>\n",
       "      <th>48</th>\n",
       "      <td>48</td>\n",
       "      <td>South Atlantic</td>\n",
       "      <td>West Virginia</td>\n",
       "      <td>1021.0</td>\n",
       "      <td>222.0</td>\n",
       "      <td>1804291</td>\n",
       "    </tr>\n",
       "    <tr>\n",
       "      <th>1</th>\n",
       "      <td>1</td>\n",
       "      <td>Pacific</td>\n",
       "      <td>Alaska</td>\n",
       "      <td>1434.0</td>\n",
       "      <td>582.0</td>\n",
       "      <td>735139</td>\n",
       "    </tr>\n",
       "    <tr>\n",
       "      <th>4</th>\n",
       "      <td>4</td>\n",
       "      <td>Pacific</td>\n",
       "      <td>California</td>\n",
       "      <td>109008.0</td>\n",
       "      <td>20964.0</td>\n",
       "      <td>39461588</td>\n",
       "    </tr>\n",
       "    <tr>\n",
       "      <th>11</th>\n",
       "      <td>11</td>\n",
       "      <td>Pacific</td>\n",
       "      <td>Hawaii</td>\n",
       "      <td>4131.0</td>\n",
       "      <td>2399.0</td>\n",
       "      <td>1420593</td>\n",
       "    </tr>\n",
       "    <tr>\n",
       "      <th>37</th>\n",
       "      <td>37</td>\n",
       "      <td>Pacific</td>\n",
       "      <td>Oregon</td>\n",
       "      <td>11139.0</td>\n",
       "      <td>3337.0</td>\n",
       "      <td>4181886</td>\n",
       "    </tr>\n",
       "    <tr>\n",
       "      <th>47</th>\n",
       "      <td>47</td>\n",
       "      <td>Pacific</td>\n",
       "      <td>Washington</td>\n",
       "      <td>16424.0</td>\n",
       "      <td>5880.0</td>\n",
       "      <td>7523869</td>\n",
       "    </tr>\n",
       "    <tr>\n",
       "      <th>6</th>\n",
       "      <td>6</td>\n",
       "      <td>New England</td>\n",
       "      <td>Connecticut</td>\n",
       "      <td>2280.0</td>\n",
       "      <td>1696.0</td>\n",
       "      <td>3571520</td>\n",
       "    </tr>\n",
       "    <tr>\n",
       "      <th>19</th>\n",
       "      <td>19</td>\n",
       "      <td>New England</td>\n",
       "      <td>Maine</td>\n",
       "      <td>1450.0</td>\n",
       "      <td>1066.0</td>\n",
       "      <td>1339057</td>\n",
       "    </tr>\n",
       "    <tr>\n",
       "      <th>21</th>\n",
       "      <td>21</td>\n",
       "      <td>New England</td>\n",
       "      <td>Massachusetts</td>\n",
       "      <td>6811.0</td>\n",
       "      <td>13257.0</td>\n",
       "      <td>6882635</td>\n",
       "    </tr>\n",
       "    <tr>\n",
       "      <th>29</th>\n",
       "      <td>29</td>\n",
       "      <td>New England</td>\n",
       "      <td>New Hampshire</td>\n",
       "      <td>835.0</td>\n",
       "      <td>615.0</td>\n",
       "      <td>1353465</td>\n",
       "    </tr>\n",
       "    <tr>\n",
       "      <th>39</th>\n",
       "      <td>39</td>\n",
       "      <td>New England</td>\n",
       "      <td>Rhode Island</td>\n",
       "      <td>747.0</td>\n",
       "      <td>354.0</td>\n",
       "      <td>1058287</td>\n",
       "    </tr>\n",
       "    <tr>\n",
       "      <th>45</th>\n",
       "      <td>45</td>\n",
       "      <td>New England</td>\n",
       "      <td>Vermont</td>\n",
       "      <td>780.0</td>\n",
       "      <td>511.0</td>\n",
       "      <td>624358</td>\n",
       "    </tr>\n",
       "    <tr>\n",
       "      <th>2</th>\n",
       "      <td>2</td>\n",
       "      <td>Mountain</td>\n",
       "      <td>Arizona</td>\n",
       "      <td>7259.0</td>\n",
       "      <td>2606.0</td>\n",
       "      <td>7158024</td>\n",
       "    </tr>\n",
       "    <tr>\n",
       "      <th>5</th>\n",
       "      <td>5</td>\n",
       "      <td>Mountain</td>\n",
       "      <td>Colorado</td>\n",
       "      <td>7607.0</td>\n",
       "      <td>3250.0</td>\n",
       "      <td>5691287</td>\n",
       "    </tr>\n",
       "    <tr>\n",
       "      <th>12</th>\n",
       "      <td>12</td>\n",
       "      <td>Mountain</td>\n",
       "      <td>Idaho</td>\n",
       "      <td>1297.0</td>\n",
       "      <td>715.0</td>\n",
       "      <td>1750536</td>\n",
       "    </tr>\n",
       "    <tr>\n",
       "      <th>26</th>\n",
       "      <td>26</td>\n",
       "      <td>Mountain</td>\n",
       "      <td>Montana</td>\n",
       "      <td>983.0</td>\n",
       "      <td>422.0</td>\n",
       "      <td>1060665</td>\n",
       "    </tr>\n",
       "    <tr>\n",
       "      <th>28</th>\n",
       "      <td>28</td>\n",
       "      <td>Mountain</td>\n",
       "      <td>Nevada</td>\n",
       "      <td>7058.0</td>\n",
       "      <td>486.0</td>\n",
       "      <td>3027341</td>\n",
       "    </tr>\n",
       "    <tr>\n",
       "      <th>31</th>\n",
       "      <td>31</td>\n",
       "      <td>Mountain</td>\n",
       "      <td>New Mexico</td>\n",
       "      <td>1949.0</td>\n",
       "      <td>602.0</td>\n",
       "      <td>2092741</td>\n",
       "    </tr>\n",
       "    <tr>\n",
       "      <th>44</th>\n",
       "      <td>44</td>\n",
       "      <td>Mountain</td>\n",
       "      <td>Utah</td>\n",
       "      <td>1904.0</td>\n",
       "      <td>972.0</td>\n",
       "      <td>3153550</td>\n",
       "    </tr>\n",
       "    <tr>\n",
       "      <th>50</th>\n",
       "      <td>50</td>\n",
       "      <td>Mountain</td>\n",
       "      <td>Wyoming</td>\n",
       "      <td>434.0</td>\n",
       "      <td>205.0</td>\n",
       "      <td>577601</td>\n",
       "    </tr>\n",
       "    <tr>\n",
       "      <th>30</th>\n",
       "      <td>30</td>\n",
       "      <td>Mid-Atlantic</td>\n",
       "      <td>New Jersey</td>\n",
       "      <td>6048.0</td>\n",
       "      <td>3350.0</td>\n",
       "      <td>8886025</td>\n",
       "    </tr>\n",
       "    <tr>\n",
       "      <th>32</th>\n",
       "      <td>32</td>\n",
       "      <td>Mid-Atlantic</td>\n",
       "      <td>New York</td>\n",
       "      <td>39827.0</td>\n",
       "      <td>52070.0</td>\n",
       "      <td>19530351</td>\n",
       "    </tr>\n",
       "    <tr>\n",
       "      <th>38</th>\n",
       "      <td>38</td>\n",
       "      <td>Mid-Atlantic</td>\n",
       "      <td>Pennsylvania</td>\n",
       "      <td>8163.0</td>\n",
       "      <td>5349.0</td>\n",
       "      <td>12800922</td>\n",
       "    </tr>\n",
       "    <tr>\n",
       "      <th>0</th>\n",
       "      <td>0</td>\n",
       "      <td>East South Central</td>\n",
       "      <td>Alabama</td>\n",
       "      <td>2570.0</td>\n",
       "      <td>864.0</td>\n",
       "      <td>4887681</td>\n",
       "    </tr>\n",
       "    <tr>\n",
       "      <th>17</th>\n",
       "      <td>17</td>\n",
       "      <td>East South Central</td>\n",
       "      <td>Kentucky</td>\n",
       "      <td>2735.0</td>\n",
       "      <td>953.0</td>\n",
       "      <td>4461153</td>\n",
       "    </tr>\n",
       "    <tr>\n",
       "      <th>24</th>\n",
       "      <td>24</td>\n",
       "      <td>East South Central</td>\n",
       "      <td>Mississippi</td>\n",
       "      <td>1024.0</td>\n",
       "      <td>328.0</td>\n",
       "      <td>2981020</td>\n",
       "    </tr>\n",
       "    <tr>\n",
       "      <th>42</th>\n",
       "      <td>42</td>\n",
       "      <td>East South Central</td>\n",
       "      <td>Tennessee</td>\n",
       "      <td>6139.0</td>\n",
       "      <td>1744.0</td>\n",
       "      <td>6771631</td>\n",
       "    </tr>\n",
       "    <tr>\n",
       "      <th>13</th>\n",
       "      <td>13</td>\n",
       "      <td>East North Central</td>\n",
       "      <td>Illinois</td>\n",
       "      <td>6752.0</td>\n",
       "      <td>3891.0</td>\n",
       "      <td>12723071</td>\n",
       "    </tr>\n",
       "    <tr>\n",
       "      <th>14</th>\n",
       "      <td>14</td>\n",
       "      <td>East North Central</td>\n",
       "      <td>Indiana</td>\n",
       "      <td>3776.0</td>\n",
       "      <td>1482.0</td>\n",
       "      <td>6695497</td>\n",
       "    </tr>\n",
       "    <tr>\n",
       "      <th>22</th>\n",
       "      <td>22</td>\n",
       "      <td>East North Central</td>\n",
       "      <td>Michigan</td>\n",
       "      <td>5209.0</td>\n",
       "      <td>3142.0</td>\n",
       "      <td>9984072</td>\n",
       "    </tr>\n",
       "    <tr>\n",
       "      <th>35</th>\n",
       "      <td>35</td>\n",
       "      <td>East North Central</td>\n",
       "      <td>Ohio</td>\n",
       "      <td>6929.0</td>\n",
       "      <td>3320.0</td>\n",
       "      <td>11676341</td>\n",
       "    </tr>\n",
       "    <tr>\n",
       "      <th>49</th>\n",
       "      <td>49</td>\n",
       "      <td>East North Central</td>\n",
       "      <td>Wisconsin</td>\n",
       "      <td>2740.0</td>\n",
       "      <td>2167.0</td>\n",
       "      <td>5807406</td>\n",
       "    </tr>\n",
       "  </tbody>\n",
       "</table>\n",
       "</div>"
      ],
      "text/plain": [
       "    Unnamed: 0              region                 state  individuals  \\\n",
       "3            3  West South Central              Arkansas       2280.0   \n",
       "18          18  West South Central             Louisiana       2540.0   \n",
       "36          36  West South Central              Oklahoma       2823.0   \n",
       "43          43  West South Central                 Texas      19199.0   \n",
       "15          15  West North Central                  Iowa       1711.0   \n",
       "16          16  West North Central                Kansas       1443.0   \n",
       "23          23  West North Central             Minnesota       3993.0   \n",
       "25          25  West North Central              Missouri       3776.0   \n",
       "27          27  West North Central              Nebraska       1745.0   \n",
       "34          34  West North Central          North Dakota        467.0   \n",
       "41          41  West North Central          South Dakota        836.0   \n",
       "7            7      South Atlantic              Delaware        708.0   \n",
       "8            8      South Atlantic  District of Columbia       3770.0   \n",
       "9            9      South Atlantic               Florida      21443.0   \n",
       "10          10      South Atlantic               Georgia       6943.0   \n",
       "20          20      South Atlantic              Maryland       4914.0   \n",
       "33          33      South Atlantic        North Carolina       6451.0   \n",
       "40          40      South Atlantic        South Carolina       3082.0   \n",
       "46          46      South Atlantic              Virginia       3928.0   \n",
       "48          48      South Atlantic         West Virginia       1021.0   \n",
       "1            1             Pacific                Alaska       1434.0   \n",
       "4            4             Pacific            California     109008.0   \n",
       "11          11             Pacific                Hawaii       4131.0   \n",
       "37          37             Pacific                Oregon      11139.0   \n",
       "47          47             Pacific            Washington      16424.0   \n",
       "6            6         New England           Connecticut       2280.0   \n",
       "19          19         New England                 Maine       1450.0   \n",
       "21          21         New England         Massachusetts       6811.0   \n",
       "29          29         New England         New Hampshire        835.0   \n",
       "39          39         New England          Rhode Island        747.0   \n",
       "45          45         New England               Vermont        780.0   \n",
       "2            2            Mountain               Arizona       7259.0   \n",
       "5            5            Mountain              Colorado       7607.0   \n",
       "12          12            Mountain                 Idaho       1297.0   \n",
       "26          26            Mountain               Montana        983.0   \n",
       "28          28            Mountain                Nevada       7058.0   \n",
       "31          31            Mountain            New Mexico       1949.0   \n",
       "44          44            Mountain                  Utah       1904.0   \n",
       "50          50            Mountain               Wyoming        434.0   \n",
       "30          30        Mid-Atlantic            New Jersey       6048.0   \n",
       "32          32        Mid-Atlantic              New York      39827.0   \n",
       "38          38        Mid-Atlantic          Pennsylvania       8163.0   \n",
       "0            0  East South Central               Alabama       2570.0   \n",
       "17          17  East South Central              Kentucky       2735.0   \n",
       "24          24  East South Central           Mississippi       1024.0   \n",
       "42          42  East South Central             Tennessee       6139.0   \n",
       "13          13  East North Central              Illinois       6752.0   \n",
       "14          14  East North Central               Indiana       3776.0   \n",
       "22          22  East North Central              Michigan       5209.0   \n",
       "35          35  East North Central                  Ohio       6929.0   \n",
       "49          49  East North Central             Wisconsin       2740.0   \n",
       "\n",
       "    family_members  state_pop  \n",
       "3            432.0    3009733  \n",
       "18           519.0    4659690  \n",
       "36          1048.0    3940235  \n",
       "43          6111.0   28628666  \n",
       "15          1038.0    3148618  \n",
       "16           773.0    2911359  \n",
       "23          3250.0    5606249  \n",
       "25          2107.0    6121623  \n",
       "27           676.0    1925614  \n",
       "34            75.0     758080  \n",
       "41           323.0     878698  \n",
       "7            374.0     965479  \n",
       "8           3134.0     701547  \n",
       "9           9587.0   21244317  \n",
       "10          2556.0   10511131  \n",
       "20          2230.0    6035802  \n",
       "33          2817.0   10381615  \n",
       "40           851.0    5084156  \n",
       "46          2047.0    8501286  \n",
       "48           222.0    1804291  \n",
       "1            582.0     735139  \n",
       "4          20964.0   39461588  \n",
       "11          2399.0    1420593  \n",
       "37          3337.0    4181886  \n",
       "47          5880.0    7523869  \n",
       "6           1696.0    3571520  \n",
       "19          1066.0    1339057  \n",
       "21         13257.0    6882635  \n",
       "29           615.0    1353465  \n",
       "39           354.0    1058287  \n",
       "45           511.0     624358  \n",
       "2           2606.0    7158024  \n",
       "5           3250.0    5691287  \n",
       "12           715.0    1750536  \n",
       "26           422.0    1060665  \n",
       "28           486.0    3027341  \n",
       "31           602.0    2092741  \n",
       "44           972.0    3153550  \n",
       "50           205.0     577601  \n",
       "30          3350.0    8886025  \n",
       "32         52070.0   19530351  \n",
       "38          5349.0   12800922  \n",
       "0            864.0    4887681  \n",
       "17           953.0    4461153  \n",
       "24           328.0    2981020  \n",
       "42          1744.0    6771631  \n",
       "13          3891.0   12723071  \n",
       "14          1482.0    6695497  \n",
       "22          3142.0    9984072  \n",
       "35          3320.0   11676341  \n",
       "49          2167.0    5807406  "
      ]
     },
     "execution_count": 81,
     "metadata": {},
     "output_type": "execute_result"
    }
   ],
   "source": [
    "df.sort_values(['region','state'],ascending=[False,True]).head()"
   ]
  },
  {
   "cell_type": "markdown",
   "id": "1739529f",
   "metadata": {},
   "source": [
    "#### 1.2.3 Subsetting"
   ]
  },
  {
   "cell_type": "code",
   "execution_count": 82,
   "id": "409a1cef",
   "metadata": {},
   "outputs": [
    {
     "data": {
      "application/vnd.microsoft.datawrangler.viewer.v0+json": {
       "columns": [
        {
         "name": "index",
         "rawType": "int64",
         "type": "integer"
        },
        {
         "name": "state",
         "rawType": "object",
         "type": "string"
        }
       ],
       "ref": "4b0060af-d066-46d0-bc2f-2ed64cae1cdf",
       "rows": [
        [
         "0",
         "Alabama"
        ],
        [
         "1",
         "Alaska"
        ],
        [
         "2",
         "Arizona"
        ],
        [
         "3",
         "Arkansas"
        ],
        [
         "4",
         "California"
        ]
       ],
       "shape": {
        "columns": 1,
        "rows": 5
       }
      },
      "text/plain": [
       "0       Alabama\n",
       "1        Alaska\n",
       "2       Arizona\n",
       "3      Arkansas\n",
       "4    California\n",
       "Name: state, dtype: object"
      ]
     },
     "execution_count": 82,
     "metadata": {},
     "output_type": "execute_result"
    }
   ],
   "source": [
    "# Subsetting columns\n",
    "df['state'].head()"
   ]
  },
  {
   "cell_type": "code",
   "execution_count": 83,
   "id": "d9ad6a3e",
   "metadata": {},
   "outputs": [
    {
     "data": {
      "application/vnd.microsoft.datawrangler.viewer.v0+json": {
       "columns": [
        {
         "name": "index",
         "rawType": "int64",
         "type": "integer"
        },
        {
         "name": "region",
         "rawType": "object",
         "type": "string"
        },
        {
         "name": "state",
         "rawType": "object",
         "type": "string"
        }
       ],
       "ref": "5f56508f-4d51-47b2-abea-14c83baff927",
       "rows": [
        [
         "0",
         "East South Central",
         "Alabama"
        ],
        [
         "1",
         "Pacific",
         "Alaska"
        ],
        [
         "2",
         "Mountain",
         "Arizona"
        ],
        [
         "3",
         "West South Central",
         "Arkansas"
        ],
        [
         "4",
         "Pacific",
         "California"
        ]
       ],
       "shape": {
        "columns": 2,
        "rows": 5
       }
      },
      "text/html": [
       "<div>\n",
       "<style scoped>\n",
       "    .dataframe tbody tr th:only-of-type {\n",
       "        vertical-align: middle;\n",
       "    }\n",
       "\n",
       "    .dataframe tbody tr th {\n",
       "        vertical-align: top;\n",
       "    }\n",
       "\n",
       "    .dataframe thead th {\n",
       "        text-align: right;\n",
       "    }\n",
       "</style>\n",
       "<table border=\"1\" class=\"dataframe\">\n",
       "  <thead>\n",
       "    <tr style=\"text-align: right;\">\n",
       "      <th></th>\n",
       "      <th>region</th>\n",
       "      <th>state</th>\n",
       "    </tr>\n",
       "  </thead>\n",
       "  <tbody>\n",
       "    <tr>\n",
       "      <th>0</th>\n",
       "      <td>East South Central</td>\n",
       "      <td>Alabama</td>\n",
       "    </tr>\n",
       "    <tr>\n",
       "      <th>1</th>\n",
       "      <td>Pacific</td>\n",
       "      <td>Alaska</td>\n",
       "    </tr>\n",
       "    <tr>\n",
       "      <th>2</th>\n",
       "      <td>Mountain</td>\n",
       "      <td>Arizona</td>\n",
       "    </tr>\n",
       "    <tr>\n",
       "      <th>3</th>\n",
       "      <td>West South Central</td>\n",
       "      <td>Arkansas</td>\n",
       "    </tr>\n",
       "    <tr>\n",
       "      <th>4</th>\n",
       "      <td>Pacific</td>\n",
       "      <td>California</td>\n",
       "    </tr>\n",
       "  </tbody>\n",
       "</table>\n",
       "</div>"
      ],
      "text/plain": [
       "               region       state\n",
       "0  East South Central     Alabama\n",
       "1             Pacific      Alaska\n",
       "2            Mountain     Arizona\n",
       "3  West South Central    Arkansas\n",
       "4             Pacific  California"
      ]
     },
     "execution_count": 83,
     "metadata": {},
     "output_type": "execute_result"
    }
   ],
   "source": [
    "# Subsetting multiple columns\n",
    "df[['region','state']].head()\n",
    "\n",
    "# Or\n",
    "subset_col = ['region','state']\n",
    "df[subset_col].head()"
   ]
  },
  {
   "cell_type": "code",
   "execution_count": 84,
   "id": "37aedcf4",
   "metadata": {},
   "outputs": [
    {
     "data": {
      "application/vnd.microsoft.datawrangler.viewer.v0+json": {
       "columns": [
        {
         "name": "index",
         "rawType": "int64",
         "type": "integer"
        },
        {
         "name": "Unnamed: 0",
         "rawType": "int64",
         "type": "integer"
        },
        {
         "name": "region",
         "rawType": "object",
         "type": "string"
        },
        {
         "name": "state",
         "rawType": "object",
         "type": "string"
        },
        {
         "name": "individuals",
         "rawType": "float64",
         "type": "float"
        },
        {
         "name": "family_members",
         "rawType": "float64",
         "type": "float"
        },
        {
         "name": "state_pop",
         "rawType": "int64",
         "type": "integer"
        }
       ],
       "ref": "0c32ec4d-336c-4cc5-8ed9-7e5f02d6573f",
       "rows": [
        [
         "3",
         "3",
         "West South Central",
         "Arkansas",
         "2280.0",
         "432.0",
         "3009733"
        ],
        [
         "7",
         "7",
         "South Atlantic",
         "Delaware",
         "708.0",
         "374.0",
         "965479"
        ],
        [
         "24",
         "24",
         "East South Central",
         "Mississippi",
         "1024.0",
         "328.0",
         "2981020"
        ],
        [
         "26",
         "26",
         "Mountain",
         "Montana",
         "983.0",
         "422.0",
         "1060665"
        ],
        [
         "28",
         "28",
         "Mountain",
         "Nevada",
         "7058.0",
         "486.0",
         "3027341"
        ]
       ],
       "shape": {
        "columns": 6,
        "rows": 5
       }
      },
      "text/html": [
       "<div>\n",
       "<style scoped>\n",
       "    .dataframe tbody tr th:only-of-type {\n",
       "        vertical-align: middle;\n",
       "    }\n",
       "\n",
       "    .dataframe tbody tr th {\n",
       "        vertical-align: top;\n",
       "    }\n",
       "\n",
       "    .dataframe thead th {\n",
       "        text-align: right;\n",
       "    }\n",
       "</style>\n",
       "<table border=\"1\" class=\"dataframe\">\n",
       "  <thead>\n",
       "    <tr style=\"text-align: right;\">\n",
       "      <th></th>\n",
       "      <th>Unnamed: 0</th>\n",
       "      <th>region</th>\n",
       "      <th>state</th>\n",
       "      <th>individuals</th>\n",
       "      <th>family_members</th>\n",
       "      <th>state_pop</th>\n",
       "    </tr>\n",
       "  </thead>\n",
       "  <tbody>\n",
       "    <tr>\n",
       "      <th>3</th>\n",
       "      <td>3</td>\n",
       "      <td>West South Central</td>\n",
       "      <td>Arkansas</td>\n",
       "      <td>2280.0</td>\n",
       "      <td>432.0</td>\n",
       "      <td>3009733</td>\n",
       "    </tr>\n",
       "    <tr>\n",
       "      <th>7</th>\n",
       "      <td>7</td>\n",
       "      <td>South Atlantic</td>\n",
       "      <td>Delaware</td>\n",
       "      <td>708.0</td>\n",
       "      <td>374.0</td>\n",
       "      <td>965479</td>\n",
       "    </tr>\n",
       "    <tr>\n",
       "      <th>24</th>\n",
       "      <td>24</td>\n",
       "      <td>East South Central</td>\n",
       "      <td>Mississippi</td>\n",
       "      <td>1024.0</td>\n",
       "      <td>328.0</td>\n",
       "      <td>2981020</td>\n",
       "    </tr>\n",
       "    <tr>\n",
       "      <th>26</th>\n",
       "      <td>26</td>\n",
       "      <td>Mountain</td>\n",
       "      <td>Montana</td>\n",
       "      <td>983.0</td>\n",
       "      <td>422.0</td>\n",
       "      <td>1060665</td>\n",
       "    </tr>\n",
       "    <tr>\n",
       "      <th>28</th>\n",
       "      <td>28</td>\n",
       "      <td>Mountain</td>\n",
       "      <td>Nevada</td>\n",
       "      <td>7058.0</td>\n",
       "      <td>486.0</td>\n",
       "      <td>3027341</td>\n",
       "    </tr>\n",
       "  </tbody>\n",
       "</table>\n",
       "</div>"
      ],
      "text/plain": [
       "    Unnamed: 0              region        state  individuals  family_members  \\\n",
       "3            3  West South Central     Arkansas       2280.0           432.0   \n",
       "7            7      South Atlantic     Delaware        708.0           374.0   \n",
       "24          24  East South Central  Mississippi       1024.0           328.0   \n",
       "26          26            Mountain      Montana        983.0           422.0   \n",
       "28          28            Mountain       Nevada       7058.0           486.0   \n",
       "\n",
       "    state_pop  \n",
       "3     3009733  \n",
       "7      965479  \n",
       "24    2981020  \n",
       "26    1060665  \n",
       "28    3027341  "
      ]
     },
     "execution_count": 84,
     "metadata": {},
     "output_type": "execute_result"
    }
   ],
   "source": [
    "# Subsetting rows\n",
    "df[df['family_members'] < 500].head()"
   ]
  },
  {
   "cell_type": "code",
   "execution_count": 85,
   "id": "5c2a3572",
   "metadata": {},
   "outputs": [
    {
     "data": {
      "application/vnd.microsoft.datawrangler.viewer.v0+json": {
       "columns": [
        {
         "name": "index",
         "rawType": "int64",
         "type": "integer"
        },
        {
         "name": "Unnamed: 0",
         "rawType": "int64",
         "type": "integer"
        },
        {
         "name": "region",
         "rawType": "object",
         "type": "string"
        },
        {
         "name": "state",
         "rawType": "object",
         "type": "string"
        },
        {
         "name": "individuals",
         "rawType": "float64",
         "type": "float"
        },
        {
         "name": "family_members",
         "rawType": "float64",
         "type": "float"
        },
        {
         "name": "state_pop",
         "rawType": "int64",
         "type": "integer"
        }
       ],
       "ref": "eddda749-e717-4224-952b-80a698455331",
       "rows": [
        [
         "3",
         "3",
         "West South Central",
         "Arkansas",
         "2280.0",
         "432.0",
         "3009733"
        ]
       ],
       "shape": {
        "columns": 6,
        "rows": 1
       }
      },
      "text/html": [
       "<div>\n",
       "<style scoped>\n",
       "    .dataframe tbody tr th:only-of-type {\n",
       "        vertical-align: middle;\n",
       "    }\n",
       "\n",
       "    .dataframe tbody tr th {\n",
       "        vertical-align: top;\n",
       "    }\n",
       "\n",
       "    .dataframe thead th {\n",
       "        text-align: right;\n",
       "    }\n",
       "</style>\n",
       "<table border=\"1\" class=\"dataframe\">\n",
       "  <thead>\n",
       "    <tr style=\"text-align: right;\">\n",
       "      <th></th>\n",
       "      <th>Unnamed: 0</th>\n",
       "      <th>region</th>\n",
       "      <th>state</th>\n",
       "      <th>individuals</th>\n",
       "      <th>family_members</th>\n",
       "      <th>state_pop</th>\n",
       "    </tr>\n",
       "  </thead>\n",
       "  <tbody>\n",
       "    <tr>\n",
       "      <th>3</th>\n",
       "      <td>3</td>\n",
       "      <td>West South Central</td>\n",
       "      <td>Arkansas</td>\n",
       "      <td>2280.0</td>\n",
       "      <td>432.0</td>\n",
       "      <td>3009733</td>\n",
       "    </tr>\n",
       "  </tbody>\n",
       "</table>\n",
       "</div>"
      ],
      "text/plain": [
       "   Unnamed: 0              region     state  individuals  family_members  \\\n",
       "3           3  West South Central  Arkansas       2280.0           432.0   \n",
       "\n",
       "   state_pop  \n",
       "3    3009733  "
      ]
     },
     "execution_count": 85,
     "metadata": {},
     "output_type": "execute_result"
    }
   ],
   "source": [
    "# Subsetting based on text\n",
    "df[df['state'] == \"Arkansas\"]"
   ]
  },
  {
   "cell_type": "code",
   "execution_count": 86,
   "id": "0594064d",
   "metadata": {},
   "outputs": [
    {
     "data": {
      "application/vnd.microsoft.datawrangler.viewer.v0+json": {
       "columns": [
        {
         "name": "index",
         "rawType": "int64",
         "type": "integer"
        },
        {
         "name": "Unnamed: 0",
         "rawType": "int64",
         "type": "integer"
        },
        {
         "name": "region",
         "rawType": "object",
         "type": "string"
        },
        {
         "name": "state",
         "rawType": "object",
         "type": "string"
        },
        {
         "name": "individuals",
         "rawType": "float64",
         "type": "float"
        },
        {
         "name": "family_members",
         "rawType": "float64",
         "type": "float"
        },
        {
         "name": "state_pop",
         "rawType": "int64",
         "type": "integer"
        }
       ],
       "ref": "1e20e92d-481f-4719-807d-9401c8ef3b58",
       "rows": [
        [
         "50",
         "50",
         "Mountain",
         "Wyoming",
         "434.0",
         "205.0",
         "577601"
        ]
       ],
       "shape": {
        "columns": 6,
        "rows": 1
       }
      },
      "text/html": [
       "<div>\n",
       "<style scoped>\n",
       "    .dataframe tbody tr th:only-of-type {\n",
       "        vertical-align: middle;\n",
       "    }\n",
       "\n",
       "    .dataframe tbody tr th {\n",
       "        vertical-align: top;\n",
       "    }\n",
       "\n",
       "    .dataframe thead th {\n",
       "        text-align: right;\n",
       "    }\n",
       "</style>\n",
       "<table border=\"1\" class=\"dataframe\">\n",
       "  <thead>\n",
       "    <tr style=\"text-align: right;\">\n",
       "      <th></th>\n",
       "      <th>Unnamed: 0</th>\n",
       "      <th>region</th>\n",
       "      <th>state</th>\n",
       "      <th>individuals</th>\n",
       "      <th>family_members</th>\n",
       "      <th>state_pop</th>\n",
       "    </tr>\n",
       "  </thead>\n",
       "  <tbody>\n",
       "    <tr>\n",
       "      <th>50</th>\n",
       "      <td>50</td>\n",
       "      <td>Mountain</td>\n",
       "      <td>Wyoming</td>\n",
       "      <td>434.0</td>\n",
       "      <td>205.0</td>\n",
       "      <td>577601</td>\n",
       "    </tr>\n",
       "  </tbody>\n",
       "</table>\n",
       "</div>"
      ],
      "text/plain": [
       "    Unnamed: 0    region    state  individuals  family_members  state_pop\n",
       "50          50  Mountain  Wyoming        434.0           205.0     577601"
      ]
     },
     "execution_count": 86,
     "metadata": {},
     "output_type": "execute_result"
    }
   ],
   "source": [
    "# Subsetting based on multiple conditions\n",
    "under_400_fm = df['family_members'] < 400\n",
    "region_mountain = df['region'] == \"Mountain\"\n",
    "df[under_400_fm & region_mountain]"
   ]
  },
  {
   "cell_type": "code",
   "execution_count": 87,
   "id": "dee1b834",
   "metadata": {},
   "outputs": [
    {
     "data": {
      "application/vnd.microsoft.datawrangler.viewer.v0+json": {
       "columns": [
        {
         "name": "index",
         "rawType": "int64",
         "type": "integer"
        },
        {
         "name": "Unnamed: 0",
         "rawType": "int64",
         "type": "integer"
        },
        {
         "name": "region",
         "rawType": "object",
         "type": "string"
        },
        {
         "name": "state",
         "rawType": "object",
         "type": "string"
        },
        {
         "name": "individuals",
         "rawType": "float64",
         "type": "float"
        },
        {
         "name": "family_members",
         "rawType": "float64",
         "type": "float"
        },
        {
         "name": "state_pop",
         "rawType": "int64",
         "type": "integer"
        }
       ],
       "ref": "d0a340b7-4504-4253-a168-3fafe298f6bb",
       "rows": [
        [
         "50",
         "50",
         "Mountain",
         "Wyoming",
         "434.0",
         "205.0",
         "577601"
        ]
       ],
       "shape": {
        "columns": 6,
        "rows": 1
       }
      },
      "text/html": [
       "<div>\n",
       "<style scoped>\n",
       "    .dataframe tbody tr th:only-of-type {\n",
       "        vertical-align: middle;\n",
       "    }\n",
       "\n",
       "    .dataframe tbody tr th {\n",
       "        vertical-align: top;\n",
       "    }\n",
       "\n",
       "    .dataframe thead th {\n",
       "        text-align: right;\n",
       "    }\n",
       "</style>\n",
       "<table border=\"1\" class=\"dataframe\">\n",
       "  <thead>\n",
       "    <tr style=\"text-align: right;\">\n",
       "      <th></th>\n",
       "      <th>Unnamed: 0</th>\n",
       "      <th>region</th>\n",
       "      <th>state</th>\n",
       "      <th>individuals</th>\n",
       "      <th>family_members</th>\n",
       "      <th>state_pop</th>\n",
       "    </tr>\n",
       "  </thead>\n",
       "  <tbody>\n",
       "    <tr>\n",
       "      <th>50</th>\n",
       "      <td>50</td>\n",
       "      <td>Mountain</td>\n",
       "      <td>Wyoming</td>\n",
       "      <td>434.0</td>\n",
       "      <td>205.0</td>\n",
       "      <td>577601</td>\n",
       "    </tr>\n",
       "  </tbody>\n",
       "</table>\n",
       "</div>"
      ],
      "text/plain": [
       "    Unnamed: 0    region    state  individuals  family_members  state_pop\n",
       "50          50  Mountain  Wyoming        434.0           205.0     577601"
      ]
     },
     "execution_count": 87,
     "metadata": {},
     "output_type": "execute_result"
    }
   ],
   "source": [
    "# Using .isin()\n",
    "condition = df['state'].isin(['Wyoming'])\n",
    "df[condition]"
   ]
  },
  {
   "cell_type": "markdown",
   "id": "26d599b6",
   "metadata": {},
   "source": [
    "## 2. Summary statistics"
   ]
  },
  {
   "cell_type": "code",
   "execution_count": 51,
   "id": "8c6d7386",
   "metadata": {},
   "outputs": [
    {
     "name": "stdout",
     "output_type": "stream",
     "text": [
      "Mean: 3504.8823529411766\n",
      "Median: 1482.0\n",
      "Mode: 0    3250.0\n",
      "Name: family_members, dtype: float64\n",
      "Var: 60924453.54588234\n",
      "Std: 7805.411811421761\n",
      "Sum: 178749.0\n",
      "Quantile 0.75: 3196.0\n",
      "Min: 75.0\n",
      "Max: 52070.0\n"
     ]
    }
   ],
   "source": [
    "# Summarising numerical data\n",
    "df.head()\n",
    "print(f\"Mean: {df['family_members'].mean()}\")\n",
    "print(f\"Median: {df['family_members'].median()}\")\n",
    "print(f\"Mode: {df['family_members'].mode()}\")\n",
    "print(f\"Var: {df['family_members'].var()}\")\n",
    "print(f\"Std: {df['family_members'].std()}\")\n",
    "print(f\"Sum: {df['family_members'].sum()}\")\n",
    "print(f\"Quantile 0.75: {df['family_members'].quantile(0.75)}\")\n",
    "print(f\"Min: {df['family_members'].min()}\")\n",
    "print(f\"Max: {df['family_members'].max()}\")"
   ]
  },
  {
   "cell_type": "markdown",
   "id": "bf684e4b",
   "metadata": {},
   "source": [
    "### 2.1 Summaries on multiple columns"
   ]
  },
  {
   "cell_type": "code",
   "execution_count": 95,
   "id": "be33ad55",
   "metadata": {},
   "outputs": [
    {
     "data": {
      "application/vnd.microsoft.datawrangler.viewer.v0+json": {
       "columns": [
        {
         "name": "index",
         "rawType": "object",
         "type": "string"
        },
        {
         "name": "family_members",
         "rawType": "float64",
         "type": "float"
        },
        {
         "name": "individuals",
         "rawType": "float64",
         "type": "float"
        }
       ],
       "ref": "6c884a4f-2518-47e4-95fe-708b00dbb6d6",
       "rows": [
        [
         "mean",
         "3504.8823529411766",
         "7225.78431372549"
        ],
        [
         "median",
         "1482.0",
         "3082.0"
        ],
        [
         "var",
         "60924453.54588234",
         "255712883.21254897"
        ],
        [
         "std",
         "7805.411811421761",
         "15991.025083231812"
        ]
       ],
       "shape": {
        "columns": 2,
        "rows": 4
       }
      },
      "text/html": [
       "<div>\n",
       "<style scoped>\n",
       "    .dataframe tbody tr th:only-of-type {\n",
       "        vertical-align: middle;\n",
       "    }\n",
       "\n",
       "    .dataframe tbody tr th {\n",
       "        vertical-align: top;\n",
       "    }\n",
       "\n",
       "    .dataframe thead th {\n",
       "        text-align: right;\n",
       "    }\n",
       "</style>\n",
       "<table border=\"1\" class=\"dataframe\">\n",
       "  <thead>\n",
       "    <tr style=\"text-align: right;\">\n",
       "      <th></th>\n",
       "      <th>family_members</th>\n",
       "      <th>individuals</th>\n",
       "    </tr>\n",
       "  </thead>\n",
       "  <tbody>\n",
       "    <tr>\n",
       "      <th>mean</th>\n",
       "      <td>3.504882e+03</td>\n",
       "      <td>7.225784e+03</td>\n",
       "    </tr>\n",
       "    <tr>\n",
       "      <th>median</th>\n",
       "      <td>1.482000e+03</td>\n",
       "      <td>3.082000e+03</td>\n",
       "    </tr>\n",
       "    <tr>\n",
       "      <th>var</th>\n",
       "      <td>6.092445e+07</td>\n",
       "      <td>2.557129e+08</td>\n",
       "    </tr>\n",
       "    <tr>\n",
       "      <th>std</th>\n",
       "      <td>7.805412e+03</td>\n",
       "      <td>1.599103e+04</td>\n",
       "    </tr>\n",
       "  </tbody>\n",
       "</table>\n",
       "</div>"
      ],
      "text/plain": [
       "        family_members   individuals\n",
       "mean      3.504882e+03  7.225784e+03\n",
       "median    1.482000e+03  3.082000e+03\n",
       "var       6.092445e+07  2.557129e+08\n",
       "std       7.805412e+03  1.599103e+04"
      ]
     },
     "execution_count": 95,
     "metadata": {},
     "output_type": "execute_result"
    }
   ],
   "source": [
    "df[['family_members','individuals']].agg([\"mean\", \"median\", \"var\", \"std\"])"
   ]
  },
  {
   "cell_type": "markdown",
   "id": "a651012b",
   "metadata": {},
   "source": [
    "### 2.2 Dropping duplicates"
   ]
  },
  {
   "cell_type": "code",
   "execution_count": null,
   "id": "b1e8c2da",
   "metadata": {},
   "outputs": [],
   "source": []
  },
  {
   "cell_type": "code",
   "execution_count": null,
   "id": "5b5f7122",
   "metadata": {},
   "outputs": [],
   "source": []
  },
  {
   "cell_type": "code",
   "execution_count": null,
   "id": "6bb7fb6a",
   "metadata": {},
   "outputs": [],
   "source": []
  }
 ],
 "metadata": {
  "kernelspec": {
   "display_name": "base",
   "language": "python",
   "name": "python3"
  },
  "language_info": {
   "codemirror_mode": {
    "name": "ipython",
    "version": 3
   },
   "file_extension": ".py",
   "mimetype": "text/x-python",
   "name": "python",
   "nbconvert_exporter": "python",
   "pygments_lexer": "ipython3",
   "version": "3.13.5"
  }
 },
 "nbformat": 4,
 "nbformat_minor": 5
}
