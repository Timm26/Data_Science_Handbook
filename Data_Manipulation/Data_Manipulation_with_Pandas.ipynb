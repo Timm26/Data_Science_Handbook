{
 "cells": [
  {
   "cell_type": "markdown",
   "id": "88cf6e51",
   "metadata": {},
   "source": [
    "## 1. Inspecting DataFrames"
   ]
  },
  {
   "cell_type": "code",
   "execution_count": 117,
   "id": "e0cd33b1",
   "metadata": {},
   "outputs": [],
   "source": [
    "import pandas as pd\n",
    "import numpy as np"
   ]
  },
  {
   "cell_type": "code",
   "execution_count": 118,
   "id": "f05e998e",
   "metadata": {},
   "outputs": [
    {
     "data": {
      "application/vnd.microsoft.datawrangler.viewer.v0+json": {
       "columns": [
        {
         "name": "index",
         "rawType": "int64",
         "type": "integer"
        },
        {
         "name": "Unnamed: 0",
         "rawType": "int64",
         "type": "integer"
        },
        {
         "name": "region",
         "rawType": "object",
         "type": "string"
        },
        {
         "name": "state",
         "rawType": "object",
         "type": "string"
        },
        {
         "name": "individuals",
         "rawType": "float64",
         "type": "float"
        },
        {
         "name": "family_members",
         "rawType": "float64",
         "type": "float"
        },
        {
         "name": "state_pop",
         "rawType": "int64",
         "type": "integer"
        }
       ],
       "ref": "26f59a78-f31a-4d54-907d-4f5d32c888f8",
       "rows": [
        [
         "0",
         "0",
         "East South Central",
         "Alabama",
         "2570.0",
         "864.0",
         "4887681"
        ],
        [
         "1",
         "1",
         "Pacific",
         "Alaska",
         "1434.0",
         "582.0",
         "735139"
        ],
        [
         "2",
         "2",
         "Mountain",
         "Arizona",
         "7259.0",
         "2606.0",
         "7158024"
        ],
        [
         "3",
         "3",
         "West South Central",
         "Arkansas",
         "2280.0",
         "432.0",
         "3009733"
        ],
        [
         "4",
         "4",
         "Pacific",
         "California",
         "109008.0",
         "20964.0",
         "39461588"
        ]
       ],
       "shape": {
        "columns": 6,
        "rows": 5
       }
      },
      "text/html": [
       "<div>\n",
       "<style scoped>\n",
       "    .dataframe tbody tr th:only-of-type {\n",
       "        vertical-align: middle;\n",
       "    }\n",
       "\n",
       "    .dataframe tbody tr th {\n",
       "        vertical-align: top;\n",
       "    }\n",
       "\n",
       "    .dataframe thead th {\n",
       "        text-align: right;\n",
       "    }\n",
       "</style>\n",
       "<table border=\"1\" class=\"dataframe\">\n",
       "  <thead>\n",
       "    <tr style=\"text-align: right;\">\n",
       "      <th></th>\n",
       "      <th>Unnamed: 0</th>\n",
       "      <th>region</th>\n",
       "      <th>state</th>\n",
       "      <th>individuals</th>\n",
       "      <th>family_members</th>\n",
       "      <th>state_pop</th>\n",
       "    </tr>\n",
       "  </thead>\n",
       "  <tbody>\n",
       "    <tr>\n",
       "      <th>0</th>\n",
       "      <td>0</td>\n",
       "      <td>East South Central</td>\n",
       "      <td>Alabama</td>\n",
       "      <td>2570.0</td>\n",
       "      <td>864.0</td>\n",
       "      <td>4887681</td>\n",
       "    </tr>\n",
       "    <tr>\n",
       "      <th>1</th>\n",
       "      <td>1</td>\n",
       "      <td>Pacific</td>\n",
       "      <td>Alaska</td>\n",
       "      <td>1434.0</td>\n",
       "      <td>582.0</td>\n",
       "      <td>735139</td>\n",
       "    </tr>\n",
       "    <tr>\n",
       "      <th>2</th>\n",
       "      <td>2</td>\n",
       "      <td>Mountain</td>\n",
       "      <td>Arizona</td>\n",
       "      <td>7259.0</td>\n",
       "      <td>2606.0</td>\n",
       "      <td>7158024</td>\n",
       "    </tr>\n",
       "    <tr>\n",
       "      <th>3</th>\n",
       "      <td>3</td>\n",
       "      <td>West South Central</td>\n",
       "      <td>Arkansas</td>\n",
       "      <td>2280.0</td>\n",
       "      <td>432.0</td>\n",
       "      <td>3009733</td>\n",
       "    </tr>\n",
       "    <tr>\n",
       "      <th>4</th>\n",
       "      <td>4</td>\n",
       "      <td>Pacific</td>\n",
       "      <td>California</td>\n",
       "      <td>109008.0</td>\n",
       "      <td>20964.0</td>\n",
       "      <td>39461588</td>\n",
       "    </tr>\n",
       "  </tbody>\n",
       "</table>\n",
       "</div>"
      ],
      "text/plain": [
       "   Unnamed: 0              region       state  individuals  family_members  \\\n",
       "0           0  East South Central     Alabama       2570.0           864.0   \n",
       "1           1             Pacific      Alaska       1434.0           582.0   \n",
       "2           2            Mountain     Arizona       7259.0          2606.0   \n",
       "3           3  West South Central    Arkansas       2280.0           432.0   \n",
       "4           4             Pacific  California     109008.0         20964.0   \n",
       "\n",
       "   state_pop  \n",
       "0    4887681  \n",
       "1     735139  \n",
       "2    7158024  \n",
       "3    3009733  \n",
       "4   39461588  "
      ]
     },
     "execution_count": 118,
     "metadata": {},
     "output_type": "execute_result"
    }
   ],
   "source": [
    "df = pd.read_csv(\"../ZDatasets/homelessness.csv\")\n",
    "df.head()"
   ]
  },
  {
   "cell_type": "code",
   "execution_count": 119,
   "id": "d7210743",
   "metadata": {},
   "outputs": [
    {
     "name": "stdout",
     "output_type": "stream",
     "text": [
      "<class 'pandas.core.frame.DataFrame'>\n",
      "RangeIndex: 51 entries, 0 to 50\n",
      "Data columns (total 6 columns):\n",
      " #   Column          Non-Null Count  Dtype  \n",
      "---  ------          --------------  -----  \n",
      " 0   Unnamed: 0      51 non-null     int64  \n",
      " 1   region          51 non-null     object \n",
      " 2   state           51 non-null     object \n",
      " 3   individuals     51 non-null     float64\n",
      " 4   family_members  51 non-null     float64\n",
      " 5   state_pop       51 non-null     int64  \n",
      "dtypes: float64(2), int64(2), object(2)\n",
      "memory usage: 2.5+ KB\n",
      "None\n",
      "(51, 6)\n",
      "       Unnamed: 0    individuals  family_members     state_pop\n",
      "count   51.000000      51.000000       51.000000  5.100000e+01\n",
      "mean    25.000000    7225.784314     3504.882353  6.405637e+06\n",
      "std     14.866069   15991.025083     7805.411811  7.327258e+06\n",
      "min      0.000000     434.000000       75.000000  5.776010e+05\n",
      "25%     12.500000    1446.500000      592.000000  1.777414e+06\n",
      "50%     25.000000    3082.000000     1482.000000  4.461153e+06\n",
      "75%     37.500000    6781.500000     3196.000000  7.340946e+06\n",
      "max     50.000000  109008.000000    52070.000000  3.946159e+07\n"
     ]
    }
   ],
   "source": [
    "### Exploring a DataFrame\n",
    "print(df.info())\n",
    "print(df.shape)\n",
    "print(df.describe())"
   ]
  },
  {
   "cell_type": "code",
   "execution_count": 120,
   "id": "9b602fb7",
   "metadata": {},
   "outputs": [
    {
     "name": "stdout",
     "output_type": "stream",
     "text": [
      "Index(['Unnamed: 0', 'region', 'state', 'individuals', 'family_members',\n",
      "       'state_pop'],\n",
      "      dtype='object')\n",
      "RangeIndex(start=0, stop=51, step=1)\n"
     ]
    }
   ],
   "source": [
    "### Components of a Dataframe\n",
    "df.values\n",
    "print(df.columns)\n",
    "print(df.index)"
   ]
  },
  {
   "cell_type": "markdown",
   "id": "757baaf5",
   "metadata": {},
   "source": [
    "### 1.2. Sorting the DataFrame"
   ]
  },
  {
   "cell_type": "markdown",
   "id": "683a6e81",
   "metadata": {},
   "source": [
    "#### 1.2.1 Sort a column in descending order"
   ]
  },
  {
   "cell_type": "code",
   "execution_count": 121,
   "id": "0022913e",
   "metadata": {},
   "outputs": [
    {
     "data": {
      "application/vnd.microsoft.datawrangler.viewer.v0+json": {
       "columns": [
        {
         "name": "index",
         "rawType": "int64",
         "type": "integer"
        },
        {
         "name": "Unnamed: 0",
         "rawType": "int64",
         "type": "integer"
        },
        {
         "name": "region",
         "rawType": "object",
         "type": "string"
        },
        {
         "name": "state",
         "rawType": "object",
         "type": "string"
        },
        {
         "name": "individuals",
         "rawType": "float64",
         "type": "float"
        },
        {
         "name": "family_members",
         "rawType": "float64",
         "type": "float"
        },
        {
         "name": "state_pop",
         "rawType": "int64",
         "type": "integer"
        }
       ],
       "ref": "56d53f02-2505-4282-9637-76cd8ffc377c",
       "rows": [
        [
         "50",
         "50",
         "Mountain",
         "Wyoming",
         "434.0",
         "205.0",
         "577601"
        ],
        [
         "49",
         "49",
         "East North Central",
         "Wisconsin",
         "2740.0",
         "2167.0",
         "5807406"
        ],
        [
         "48",
         "48",
         "South Atlantic",
         "West Virginia",
         "1021.0",
         "222.0",
         "1804291"
        ],
        [
         "47",
         "47",
         "Pacific",
         "Washington",
         "16424.0",
         "5880.0",
         "7523869"
        ],
        [
         "46",
         "46",
         "South Atlantic",
         "Virginia",
         "3928.0",
         "2047.0",
         "8501286"
        ]
       ],
       "shape": {
        "columns": 6,
        "rows": 5
       }
      },
      "text/html": [
       "<div>\n",
       "<style scoped>\n",
       "    .dataframe tbody tr th:only-of-type {\n",
       "        vertical-align: middle;\n",
       "    }\n",
       "\n",
       "    .dataframe tbody tr th {\n",
       "        vertical-align: top;\n",
       "    }\n",
       "\n",
       "    .dataframe thead th {\n",
       "        text-align: right;\n",
       "    }\n",
       "</style>\n",
       "<table border=\"1\" class=\"dataframe\">\n",
       "  <thead>\n",
       "    <tr style=\"text-align: right;\">\n",
       "      <th></th>\n",
       "      <th>Unnamed: 0</th>\n",
       "      <th>region</th>\n",
       "      <th>state</th>\n",
       "      <th>individuals</th>\n",
       "      <th>family_members</th>\n",
       "      <th>state_pop</th>\n",
       "    </tr>\n",
       "  </thead>\n",
       "  <tbody>\n",
       "    <tr>\n",
       "      <th>50</th>\n",
       "      <td>50</td>\n",
       "      <td>Mountain</td>\n",
       "      <td>Wyoming</td>\n",
       "      <td>434.0</td>\n",
       "      <td>205.0</td>\n",
       "      <td>577601</td>\n",
       "    </tr>\n",
       "    <tr>\n",
       "      <th>49</th>\n",
       "      <td>49</td>\n",
       "      <td>East North Central</td>\n",
       "      <td>Wisconsin</td>\n",
       "      <td>2740.0</td>\n",
       "      <td>2167.0</td>\n",
       "      <td>5807406</td>\n",
       "    </tr>\n",
       "    <tr>\n",
       "      <th>48</th>\n",
       "      <td>48</td>\n",
       "      <td>South Atlantic</td>\n",
       "      <td>West Virginia</td>\n",
       "      <td>1021.0</td>\n",
       "      <td>222.0</td>\n",
       "      <td>1804291</td>\n",
       "    </tr>\n",
       "    <tr>\n",
       "      <th>47</th>\n",
       "      <td>47</td>\n",
       "      <td>Pacific</td>\n",
       "      <td>Washington</td>\n",
       "      <td>16424.0</td>\n",
       "      <td>5880.0</td>\n",
       "      <td>7523869</td>\n",
       "    </tr>\n",
       "    <tr>\n",
       "      <th>46</th>\n",
       "      <td>46</td>\n",
       "      <td>South Atlantic</td>\n",
       "      <td>Virginia</td>\n",
       "      <td>3928.0</td>\n",
       "      <td>2047.0</td>\n",
       "      <td>8501286</td>\n",
       "    </tr>\n",
       "  </tbody>\n",
       "</table>\n",
       "</div>"
      ],
      "text/plain": [
       "    Unnamed: 0              region          state  individuals  \\\n",
       "50          50            Mountain        Wyoming        434.0   \n",
       "49          49  East North Central      Wisconsin       2740.0   \n",
       "48          48      South Atlantic  West Virginia       1021.0   \n",
       "47          47             Pacific     Washington      16424.0   \n",
       "46          46      South Atlantic       Virginia       3928.0   \n",
       "\n",
       "    family_members  state_pop  \n",
       "50           205.0     577601  \n",
       "49          2167.0    5807406  \n",
       "48           222.0    1804291  \n",
       "47          5880.0    7523869  \n",
       "46          2047.0    8501286  "
      ]
     },
     "execution_count": 121,
     "metadata": {},
     "output_type": "execute_result"
    }
   ],
   "source": [
    "df.sort_values('state', ascending=False).head()"
   ]
  },
  {
   "cell_type": "markdown",
   "id": "878fb75c",
   "metadata": {},
   "source": [
    "#### 1.2.2 Sort by multiple variables"
   ]
  },
  {
   "cell_type": "code",
   "execution_count": 122,
   "id": "c5269fab",
   "metadata": {},
   "outputs": [
    {
     "data": {
      "application/vnd.microsoft.datawrangler.viewer.v0+json": {
       "columns": [
        {
         "name": "index",
         "rawType": "int64",
         "type": "integer"
        },
        {
         "name": "Unnamed: 0",
         "rawType": "int64",
         "type": "integer"
        },
        {
         "name": "region",
         "rawType": "object",
         "type": "string"
        },
        {
         "name": "state",
         "rawType": "object",
         "type": "string"
        },
        {
         "name": "individuals",
         "rawType": "float64",
         "type": "float"
        },
        {
         "name": "family_members",
         "rawType": "float64",
         "type": "float"
        },
        {
         "name": "state_pop",
         "rawType": "int64",
         "type": "integer"
        }
       ],
       "ref": "20f88457-d708-4e62-b636-b60dfffab1d4",
       "rows": [
        [
         "3",
         "3",
         "West South Central",
         "Arkansas",
         "2280.0",
         "432.0",
         "3009733"
        ],
        [
         "18",
         "18",
         "West South Central",
         "Louisiana",
         "2540.0",
         "519.0",
         "4659690"
        ],
        [
         "36",
         "36",
         "West South Central",
         "Oklahoma",
         "2823.0",
         "1048.0",
         "3940235"
        ],
        [
         "43",
         "43",
         "West South Central",
         "Texas",
         "19199.0",
         "6111.0",
         "28628666"
        ],
        [
         "15",
         "15",
         "West North Central",
         "Iowa",
         "1711.0",
         "1038.0",
         "3148618"
        ]
       ],
       "shape": {
        "columns": 6,
        "rows": 5
       }
      },
      "text/html": [
       "<div>\n",
       "<style scoped>\n",
       "    .dataframe tbody tr th:only-of-type {\n",
       "        vertical-align: middle;\n",
       "    }\n",
       "\n",
       "    .dataframe tbody tr th {\n",
       "        vertical-align: top;\n",
       "    }\n",
       "\n",
       "    .dataframe thead th {\n",
       "        text-align: right;\n",
       "    }\n",
       "</style>\n",
       "<table border=\"1\" class=\"dataframe\">\n",
       "  <thead>\n",
       "    <tr style=\"text-align: right;\">\n",
       "      <th></th>\n",
       "      <th>Unnamed: 0</th>\n",
       "      <th>region</th>\n",
       "      <th>state</th>\n",
       "      <th>individuals</th>\n",
       "      <th>family_members</th>\n",
       "      <th>state_pop</th>\n",
       "    </tr>\n",
       "  </thead>\n",
       "  <tbody>\n",
       "    <tr>\n",
       "      <th>3</th>\n",
       "      <td>3</td>\n",
       "      <td>West South Central</td>\n",
       "      <td>Arkansas</td>\n",
       "      <td>2280.0</td>\n",
       "      <td>432.0</td>\n",
       "      <td>3009733</td>\n",
       "    </tr>\n",
       "    <tr>\n",
       "      <th>18</th>\n",
       "      <td>18</td>\n",
       "      <td>West South Central</td>\n",
       "      <td>Louisiana</td>\n",
       "      <td>2540.0</td>\n",
       "      <td>519.0</td>\n",
       "      <td>4659690</td>\n",
       "    </tr>\n",
       "    <tr>\n",
       "      <th>36</th>\n",
       "      <td>36</td>\n",
       "      <td>West South Central</td>\n",
       "      <td>Oklahoma</td>\n",
       "      <td>2823.0</td>\n",
       "      <td>1048.0</td>\n",
       "      <td>3940235</td>\n",
       "    </tr>\n",
       "    <tr>\n",
       "      <th>43</th>\n",
       "      <td>43</td>\n",
       "      <td>West South Central</td>\n",
       "      <td>Texas</td>\n",
       "      <td>19199.0</td>\n",
       "      <td>6111.0</td>\n",
       "      <td>28628666</td>\n",
       "    </tr>\n",
       "    <tr>\n",
       "      <th>15</th>\n",
       "      <td>15</td>\n",
       "      <td>West North Central</td>\n",
       "      <td>Iowa</td>\n",
       "      <td>1711.0</td>\n",
       "      <td>1038.0</td>\n",
       "      <td>3148618</td>\n",
       "    </tr>\n",
       "  </tbody>\n",
       "</table>\n",
       "</div>"
      ],
      "text/plain": [
       "    Unnamed: 0              region      state  individuals  family_members  \\\n",
       "3            3  West South Central   Arkansas       2280.0           432.0   \n",
       "18          18  West South Central  Louisiana       2540.0           519.0   \n",
       "36          36  West South Central   Oklahoma       2823.0          1048.0   \n",
       "43          43  West South Central      Texas      19199.0          6111.0   \n",
       "15          15  West North Central       Iowa       1711.0          1038.0   \n",
       "\n",
       "    state_pop  \n",
       "3     3009733  \n",
       "18    4659690  \n",
       "36    3940235  \n",
       "43   28628666  \n",
       "15    3148618  "
      ]
     },
     "execution_count": 122,
     "metadata": {},
     "output_type": "execute_result"
    }
   ],
   "source": [
    "df.sort_values(['region','state'],ascending=[False,True]).head()"
   ]
  },
  {
   "cell_type": "markdown",
   "id": "1739529f",
   "metadata": {},
   "source": [
    "#### 1.2.3 Subsetting"
   ]
  },
  {
   "cell_type": "code",
   "execution_count": 123,
   "id": "409a1cef",
   "metadata": {},
   "outputs": [
    {
     "data": {
      "application/vnd.microsoft.datawrangler.viewer.v0+json": {
       "columns": [
        {
         "name": "index",
         "rawType": "int64",
         "type": "integer"
        },
        {
         "name": "state",
         "rawType": "object",
         "type": "string"
        }
       ],
       "ref": "38aa2dd9-8e60-4cb3-9a14-1a37d2f6ea81",
       "rows": [
        [
         "0",
         "Alabama"
        ],
        [
         "1",
         "Alaska"
        ],
        [
         "2",
         "Arizona"
        ],
        [
         "3",
         "Arkansas"
        ],
        [
         "4",
         "California"
        ]
       ],
       "shape": {
        "columns": 1,
        "rows": 5
       }
      },
      "text/plain": [
       "0       Alabama\n",
       "1        Alaska\n",
       "2       Arizona\n",
       "3      Arkansas\n",
       "4    California\n",
       "Name: state, dtype: object"
      ]
     },
     "execution_count": 123,
     "metadata": {},
     "output_type": "execute_result"
    }
   ],
   "source": [
    "# Subsetting columns\n",
    "df['state'].head()"
   ]
  },
  {
   "cell_type": "code",
   "execution_count": 124,
   "id": "d9ad6a3e",
   "metadata": {},
   "outputs": [
    {
     "data": {
      "application/vnd.microsoft.datawrangler.viewer.v0+json": {
       "columns": [
        {
         "name": "index",
         "rawType": "int64",
         "type": "integer"
        },
        {
         "name": "region",
         "rawType": "object",
         "type": "string"
        },
        {
         "name": "state",
         "rawType": "object",
         "type": "string"
        }
       ],
       "ref": "62d1908f-5195-4de6-b639-3284ccf7e4fb",
       "rows": [
        [
         "0",
         "East South Central",
         "Alabama"
        ],
        [
         "1",
         "Pacific",
         "Alaska"
        ],
        [
         "2",
         "Mountain",
         "Arizona"
        ],
        [
         "3",
         "West South Central",
         "Arkansas"
        ],
        [
         "4",
         "Pacific",
         "California"
        ]
       ],
       "shape": {
        "columns": 2,
        "rows": 5
       }
      },
      "text/html": [
       "<div>\n",
       "<style scoped>\n",
       "    .dataframe tbody tr th:only-of-type {\n",
       "        vertical-align: middle;\n",
       "    }\n",
       "\n",
       "    .dataframe tbody tr th {\n",
       "        vertical-align: top;\n",
       "    }\n",
       "\n",
       "    .dataframe thead th {\n",
       "        text-align: right;\n",
       "    }\n",
       "</style>\n",
       "<table border=\"1\" class=\"dataframe\">\n",
       "  <thead>\n",
       "    <tr style=\"text-align: right;\">\n",
       "      <th></th>\n",
       "      <th>region</th>\n",
       "      <th>state</th>\n",
       "    </tr>\n",
       "  </thead>\n",
       "  <tbody>\n",
       "    <tr>\n",
       "      <th>0</th>\n",
       "      <td>East South Central</td>\n",
       "      <td>Alabama</td>\n",
       "    </tr>\n",
       "    <tr>\n",
       "      <th>1</th>\n",
       "      <td>Pacific</td>\n",
       "      <td>Alaska</td>\n",
       "    </tr>\n",
       "    <tr>\n",
       "      <th>2</th>\n",
       "      <td>Mountain</td>\n",
       "      <td>Arizona</td>\n",
       "    </tr>\n",
       "    <tr>\n",
       "      <th>3</th>\n",
       "      <td>West South Central</td>\n",
       "      <td>Arkansas</td>\n",
       "    </tr>\n",
       "    <tr>\n",
       "      <th>4</th>\n",
       "      <td>Pacific</td>\n",
       "      <td>California</td>\n",
       "    </tr>\n",
       "  </tbody>\n",
       "</table>\n",
       "</div>"
      ],
      "text/plain": [
       "               region       state\n",
       "0  East South Central     Alabama\n",
       "1             Pacific      Alaska\n",
       "2            Mountain     Arizona\n",
       "3  West South Central    Arkansas\n",
       "4             Pacific  California"
      ]
     },
     "execution_count": 124,
     "metadata": {},
     "output_type": "execute_result"
    }
   ],
   "source": [
    "# Subsetting multiple columns\n",
    "df[['region','state']].head()\n",
    "\n",
    "# Or\n",
    "subset_col = ['region','state']\n",
    "df[subset_col].head()"
   ]
  },
  {
   "cell_type": "code",
   "execution_count": 125,
   "id": "37aedcf4",
   "metadata": {},
   "outputs": [
    {
     "data": {
      "application/vnd.microsoft.datawrangler.viewer.v0+json": {
       "columns": [
        {
         "name": "index",
         "rawType": "int64",
         "type": "integer"
        },
        {
         "name": "Unnamed: 0",
         "rawType": "int64",
         "type": "integer"
        },
        {
         "name": "region",
         "rawType": "object",
         "type": "string"
        },
        {
         "name": "state",
         "rawType": "object",
         "type": "string"
        },
        {
         "name": "individuals",
         "rawType": "float64",
         "type": "float"
        },
        {
         "name": "family_members",
         "rawType": "float64",
         "type": "float"
        },
        {
         "name": "state_pop",
         "rawType": "int64",
         "type": "integer"
        }
       ],
       "ref": "45260a61-9955-40ef-b6ae-7668d8ffdfbb",
       "rows": [
        [
         "3",
         "3",
         "West South Central",
         "Arkansas",
         "2280.0",
         "432.0",
         "3009733"
        ],
        [
         "7",
         "7",
         "South Atlantic",
         "Delaware",
         "708.0",
         "374.0",
         "965479"
        ],
        [
         "24",
         "24",
         "East South Central",
         "Mississippi",
         "1024.0",
         "328.0",
         "2981020"
        ],
        [
         "26",
         "26",
         "Mountain",
         "Montana",
         "983.0",
         "422.0",
         "1060665"
        ],
        [
         "28",
         "28",
         "Mountain",
         "Nevada",
         "7058.0",
         "486.0",
         "3027341"
        ]
       ],
       "shape": {
        "columns": 6,
        "rows": 5
       }
      },
      "text/html": [
       "<div>\n",
       "<style scoped>\n",
       "    .dataframe tbody tr th:only-of-type {\n",
       "        vertical-align: middle;\n",
       "    }\n",
       "\n",
       "    .dataframe tbody tr th {\n",
       "        vertical-align: top;\n",
       "    }\n",
       "\n",
       "    .dataframe thead th {\n",
       "        text-align: right;\n",
       "    }\n",
       "</style>\n",
       "<table border=\"1\" class=\"dataframe\">\n",
       "  <thead>\n",
       "    <tr style=\"text-align: right;\">\n",
       "      <th></th>\n",
       "      <th>Unnamed: 0</th>\n",
       "      <th>region</th>\n",
       "      <th>state</th>\n",
       "      <th>individuals</th>\n",
       "      <th>family_members</th>\n",
       "      <th>state_pop</th>\n",
       "    </tr>\n",
       "  </thead>\n",
       "  <tbody>\n",
       "    <tr>\n",
       "      <th>3</th>\n",
       "      <td>3</td>\n",
       "      <td>West South Central</td>\n",
       "      <td>Arkansas</td>\n",
       "      <td>2280.0</td>\n",
       "      <td>432.0</td>\n",
       "      <td>3009733</td>\n",
       "    </tr>\n",
       "    <tr>\n",
       "      <th>7</th>\n",
       "      <td>7</td>\n",
       "      <td>South Atlantic</td>\n",
       "      <td>Delaware</td>\n",
       "      <td>708.0</td>\n",
       "      <td>374.0</td>\n",
       "      <td>965479</td>\n",
       "    </tr>\n",
       "    <tr>\n",
       "      <th>24</th>\n",
       "      <td>24</td>\n",
       "      <td>East South Central</td>\n",
       "      <td>Mississippi</td>\n",
       "      <td>1024.0</td>\n",
       "      <td>328.0</td>\n",
       "      <td>2981020</td>\n",
       "    </tr>\n",
       "    <tr>\n",
       "      <th>26</th>\n",
       "      <td>26</td>\n",
       "      <td>Mountain</td>\n",
       "      <td>Montana</td>\n",
       "      <td>983.0</td>\n",
       "      <td>422.0</td>\n",
       "      <td>1060665</td>\n",
       "    </tr>\n",
       "    <tr>\n",
       "      <th>28</th>\n",
       "      <td>28</td>\n",
       "      <td>Mountain</td>\n",
       "      <td>Nevada</td>\n",
       "      <td>7058.0</td>\n",
       "      <td>486.0</td>\n",
       "      <td>3027341</td>\n",
       "    </tr>\n",
       "  </tbody>\n",
       "</table>\n",
       "</div>"
      ],
      "text/plain": [
       "    Unnamed: 0              region        state  individuals  family_members  \\\n",
       "3            3  West South Central     Arkansas       2280.0           432.0   \n",
       "7            7      South Atlantic     Delaware        708.0           374.0   \n",
       "24          24  East South Central  Mississippi       1024.0           328.0   \n",
       "26          26            Mountain      Montana        983.0           422.0   \n",
       "28          28            Mountain       Nevada       7058.0           486.0   \n",
       "\n",
       "    state_pop  \n",
       "3     3009733  \n",
       "7      965479  \n",
       "24    2981020  \n",
       "26    1060665  \n",
       "28    3027341  "
      ]
     },
     "execution_count": 125,
     "metadata": {},
     "output_type": "execute_result"
    }
   ],
   "source": [
    "# Subsetting rows\n",
    "df[df['family_members'] < 500].head()"
   ]
  },
  {
   "cell_type": "code",
   "execution_count": 126,
   "id": "5c2a3572",
   "metadata": {},
   "outputs": [
    {
     "data": {
      "application/vnd.microsoft.datawrangler.viewer.v0+json": {
       "columns": [
        {
         "name": "index",
         "rawType": "int64",
         "type": "integer"
        },
        {
         "name": "Unnamed: 0",
         "rawType": "int64",
         "type": "integer"
        },
        {
         "name": "region",
         "rawType": "object",
         "type": "string"
        },
        {
         "name": "state",
         "rawType": "object",
         "type": "string"
        },
        {
         "name": "individuals",
         "rawType": "float64",
         "type": "float"
        },
        {
         "name": "family_members",
         "rawType": "float64",
         "type": "float"
        },
        {
         "name": "state_pop",
         "rawType": "int64",
         "type": "integer"
        }
       ],
       "ref": "81d3fb16-9dda-4cbb-a9b7-5989a79488de",
       "rows": [
        [
         "3",
         "3",
         "West South Central",
         "Arkansas",
         "2280.0",
         "432.0",
         "3009733"
        ]
       ],
       "shape": {
        "columns": 6,
        "rows": 1
       }
      },
      "text/html": [
       "<div>\n",
       "<style scoped>\n",
       "    .dataframe tbody tr th:only-of-type {\n",
       "        vertical-align: middle;\n",
       "    }\n",
       "\n",
       "    .dataframe tbody tr th {\n",
       "        vertical-align: top;\n",
       "    }\n",
       "\n",
       "    .dataframe thead th {\n",
       "        text-align: right;\n",
       "    }\n",
       "</style>\n",
       "<table border=\"1\" class=\"dataframe\">\n",
       "  <thead>\n",
       "    <tr style=\"text-align: right;\">\n",
       "      <th></th>\n",
       "      <th>Unnamed: 0</th>\n",
       "      <th>region</th>\n",
       "      <th>state</th>\n",
       "      <th>individuals</th>\n",
       "      <th>family_members</th>\n",
       "      <th>state_pop</th>\n",
       "    </tr>\n",
       "  </thead>\n",
       "  <tbody>\n",
       "    <tr>\n",
       "      <th>3</th>\n",
       "      <td>3</td>\n",
       "      <td>West South Central</td>\n",
       "      <td>Arkansas</td>\n",
       "      <td>2280.0</td>\n",
       "      <td>432.0</td>\n",
       "      <td>3009733</td>\n",
       "    </tr>\n",
       "  </tbody>\n",
       "</table>\n",
       "</div>"
      ],
      "text/plain": [
       "   Unnamed: 0              region     state  individuals  family_members  \\\n",
       "3           3  West South Central  Arkansas       2280.0           432.0   \n",
       "\n",
       "   state_pop  \n",
       "3    3009733  "
      ]
     },
     "execution_count": 126,
     "metadata": {},
     "output_type": "execute_result"
    }
   ],
   "source": [
    "# Subsetting based on text\n",
    "df[df['state'] == \"Arkansas\"]"
   ]
  },
  {
   "cell_type": "code",
   "execution_count": 127,
   "id": "0594064d",
   "metadata": {},
   "outputs": [
    {
     "data": {
      "application/vnd.microsoft.datawrangler.viewer.v0+json": {
       "columns": [
        {
         "name": "index",
         "rawType": "int64",
         "type": "integer"
        },
        {
         "name": "Unnamed: 0",
         "rawType": "int64",
         "type": "integer"
        },
        {
         "name": "region",
         "rawType": "object",
         "type": "string"
        },
        {
         "name": "state",
         "rawType": "object",
         "type": "string"
        },
        {
         "name": "individuals",
         "rawType": "float64",
         "type": "float"
        },
        {
         "name": "family_members",
         "rawType": "float64",
         "type": "float"
        },
        {
         "name": "state_pop",
         "rawType": "int64",
         "type": "integer"
        }
       ],
       "ref": "e5c0213e-a319-4b00-bb3e-5504183e2107",
       "rows": [
        [
         "50",
         "50",
         "Mountain",
         "Wyoming",
         "434.0",
         "205.0",
         "577601"
        ]
       ],
       "shape": {
        "columns": 6,
        "rows": 1
       }
      },
      "text/html": [
       "<div>\n",
       "<style scoped>\n",
       "    .dataframe tbody tr th:only-of-type {\n",
       "        vertical-align: middle;\n",
       "    }\n",
       "\n",
       "    .dataframe tbody tr th {\n",
       "        vertical-align: top;\n",
       "    }\n",
       "\n",
       "    .dataframe thead th {\n",
       "        text-align: right;\n",
       "    }\n",
       "</style>\n",
       "<table border=\"1\" class=\"dataframe\">\n",
       "  <thead>\n",
       "    <tr style=\"text-align: right;\">\n",
       "      <th></th>\n",
       "      <th>Unnamed: 0</th>\n",
       "      <th>region</th>\n",
       "      <th>state</th>\n",
       "      <th>individuals</th>\n",
       "      <th>family_members</th>\n",
       "      <th>state_pop</th>\n",
       "    </tr>\n",
       "  </thead>\n",
       "  <tbody>\n",
       "    <tr>\n",
       "      <th>50</th>\n",
       "      <td>50</td>\n",
       "      <td>Mountain</td>\n",
       "      <td>Wyoming</td>\n",
       "      <td>434.0</td>\n",
       "      <td>205.0</td>\n",
       "      <td>577601</td>\n",
       "    </tr>\n",
       "  </tbody>\n",
       "</table>\n",
       "</div>"
      ],
      "text/plain": [
       "    Unnamed: 0    region    state  individuals  family_members  state_pop\n",
       "50          50  Mountain  Wyoming        434.0           205.0     577601"
      ]
     },
     "execution_count": 127,
     "metadata": {},
     "output_type": "execute_result"
    }
   ],
   "source": [
    "# Subsetting based on multiple conditions\n",
    "under_400_fm = df['family_members'] < 400\n",
    "region_mountain = df['region'] == \"Mountain\"\n",
    "df[under_400_fm & region_mountain]"
   ]
  },
  {
   "cell_type": "code",
   "execution_count": 128,
   "id": "dee1b834",
   "metadata": {},
   "outputs": [
    {
     "data": {
      "application/vnd.microsoft.datawrangler.viewer.v0+json": {
       "columns": [
        {
         "name": "index",
         "rawType": "int64",
         "type": "integer"
        },
        {
         "name": "Unnamed: 0",
         "rawType": "int64",
         "type": "integer"
        },
        {
         "name": "region",
         "rawType": "object",
         "type": "string"
        },
        {
         "name": "state",
         "rawType": "object",
         "type": "string"
        },
        {
         "name": "individuals",
         "rawType": "float64",
         "type": "float"
        },
        {
         "name": "family_members",
         "rawType": "float64",
         "type": "float"
        },
        {
         "name": "state_pop",
         "rawType": "int64",
         "type": "integer"
        }
       ],
       "ref": "72521d36-dc41-436a-b6dc-e26e8298718a",
       "rows": [
        [
         "50",
         "50",
         "Mountain",
         "Wyoming",
         "434.0",
         "205.0",
         "577601"
        ]
       ],
       "shape": {
        "columns": 6,
        "rows": 1
       }
      },
      "text/html": [
       "<div>\n",
       "<style scoped>\n",
       "    .dataframe tbody tr th:only-of-type {\n",
       "        vertical-align: middle;\n",
       "    }\n",
       "\n",
       "    .dataframe tbody tr th {\n",
       "        vertical-align: top;\n",
       "    }\n",
       "\n",
       "    .dataframe thead th {\n",
       "        text-align: right;\n",
       "    }\n",
       "</style>\n",
       "<table border=\"1\" class=\"dataframe\">\n",
       "  <thead>\n",
       "    <tr style=\"text-align: right;\">\n",
       "      <th></th>\n",
       "      <th>Unnamed: 0</th>\n",
       "      <th>region</th>\n",
       "      <th>state</th>\n",
       "      <th>individuals</th>\n",
       "      <th>family_members</th>\n",
       "      <th>state_pop</th>\n",
       "    </tr>\n",
       "  </thead>\n",
       "  <tbody>\n",
       "    <tr>\n",
       "      <th>50</th>\n",
       "      <td>50</td>\n",
       "      <td>Mountain</td>\n",
       "      <td>Wyoming</td>\n",
       "      <td>434.0</td>\n",
       "      <td>205.0</td>\n",
       "      <td>577601</td>\n",
       "    </tr>\n",
       "  </tbody>\n",
       "</table>\n",
       "</div>"
      ],
      "text/plain": [
       "    Unnamed: 0    region    state  individuals  family_members  state_pop\n",
       "50          50  Mountain  Wyoming        434.0           205.0     577601"
      ]
     },
     "execution_count": 128,
     "metadata": {},
     "output_type": "execute_result"
    }
   ],
   "source": [
    "# Using .isin()\n",
    "condition = df['state'].isin(['Wyoming'])\n",
    "df[condition]"
   ]
  },
  {
   "cell_type": "markdown",
   "id": "26d599b6",
   "metadata": {},
   "source": [
    "## 2. Summary statistics"
   ]
  },
  {
   "cell_type": "code",
   "execution_count": 129,
   "id": "8c6d7386",
   "metadata": {},
   "outputs": [
    {
     "name": "stdout",
     "output_type": "stream",
     "text": [
      "Mean: 3504.8823529411766\n",
      "Median: 1482.0\n",
      "Mode: 0    3250.0\n",
      "Name: family_members, dtype: float64\n",
      "Var: 60924453.54588234\n",
      "Std: 7805.411811421761\n",
      "Sum: 178749.0\n",
      "Quantile 0.75: 3196.0\n",
      "Min: 75.0\n",
      "Max: 52070.0\n"
     ]
    }
   ],
   "source": [
    "# Summarising numerical data\n",
    "df.head()\n",
    "print(f\"Mean: {df['family_members'].mean()}\")\n",
    "print(f\"Median: {df['family_members'].median()}\")\n",
    "print(f\"Mode: {df['family_members'].mode()}\")\n",
    "print(f\"Var: {df['family_members'].var()}\")\n",
    "print(f\"Std: {df['family_members'].std()}\")\n",
    "print(f\"Sum: {df['family_members'].sum()}\")\n",
    "print(f\"Quantile 0.75: {df['family_members'].quantile(0.75)}\")\n",
    "print(f\"Min: {df['family_members'].min()}\")\n",
    "print(f\"Max: {df['family_members'].max()}\")"
   ]
  },
  {
   "cell_type": "markdown",
   "id": "bf684e4b",
   "metadata": {},
   "source": [
    "### 2.1 Summaries on multiple columns"
   ]
  },
  {
   "cell_type": "code",
   "execution_count": 130,
   "id": "be33ad55",
   "metadata": {},
   "outputs": [
    {
     "data": {
      "application/vnd.microsoft.datawrangler.viewer.v0+json": {
       "columns": [
        {
         "name": "index",
         "rawType": "object",
         "type": "string"
        },
        {
         "name": "family_members",
         "rawType": "float64",
         "type": "float"
        },
        {
         "name": "individuals",
         "rawType": "float64",
         "type": "float"
        }
       ],
       "ref": "6faee10d-e860-4753-ba10-10a54082ab26",
       "rows": [
        [
         "mean",
         "3504.8823529411766",
         "7225.78431372549"
        ],
        [
         "median",
         "1482.0",
         "3082.0"
        ],
        [
         "var",
         "60924453.54588234",
         "255712883.21254897"
        ],
        [
         "std",
         "7805.411811421761",
         "15991.025083231812"
        ]
       ],
       "shape": {
        "columns": 2,
        "rows": 4
       }
      },
      "text/html": [
       "<div>\n",
       "<style scoped>\n",
       "    .dataframe tbody tr th:only-of-type {\n",
       "        vertical-align: middle;\n",
       "    }\n",
       "\n",
       "    .dataframe tbody tr th {\n",
       "        vertical-align: top;\n",
       "    }\n",
       "\n",
       "    .dataframe thead th {\n",
       "        text-align: right;\n",
       "    }\n",
       "</style>\n",
       "<table border=\"1\" class=\"dataframe\">\n",
       "  <thead>\n",
       "    <tr style=\"text-align: right;\">\n",
       "      <th></th>\n",
       "      <th>family_members</th>\n",
       "      <th>individuals</th>\n",
       "    </tr>\n",
       "  </thead>\n",
       "  <tbody>\n",
       "    <tr>\n",
       "      <th>mean</th>\n",
       "      <td>3.504882e+03</td>\n",
       "      <td>7.225784e+03</td>\n",
       "    </tr>\n",
       "    <tr>\n",
       "      <th>median</th>\n",
       "      <td>1.482000e+03</td>\n",
       "      <td>3.082000e+03</td>\n",
       "    </tr>\n",
       "    <tr>\n",
       "      <th>var</th>\n",
       "      <td>6.092445e+07</td>\n",
       "      <td>2.557129e+08</td>\n",
       "    </tr>\n",
       "    <tr>\n",
       "      <th>std</th>\n",
       "      <td>7.805412e+03</td>\n",
       "      <td>1.599103e+04</td>\n",
       "    </tr>\n",
       "  </tbody>\n",
       "</table>\n",
       "</div>"
      ],
      "text/plain": [
       "        family_members   individuals\n",
       "mean      3.504882e+03  7.225784e+03\n",
       "median    1.482000e+03  3.082000e+03\n",
       "var       6.092445e+07  2.557129e+08\n",
       "std       7.805412e+03  1.599103e+04"
      ]
     },
     "execution_count": 130,
     "metadata": {},
     "output_type": "execute_result"
    }
   ],
   "source": [
    "df[['family_members','individuals']].agg([\"mean\", \"median\", \"var\", \"std\"])"
   ]
  },
  {
   "cell_type": "markdown",
   "id": "a651012b",
   "metadata": {},
   "source": [
    "### 2.2 Dropping duplicates"
   ]
  },
  {
   "cell_type": "code",
   "execution_count": null,
   "id": "b1e8c2da",
   "metadata": {},
   "outputs": [],
   "source": []
  },
  {
   "cell_type": "code",
   "execution_count": null,
   "id": "5b5f7122",
   "metadata": {},
   "outputs": [],
   "source": []
  },
  {
   "cell_type": "code",
   "execution_count": null,
   "id": "6bb7fb6a",
   "metadata": {},
   "outputs": [],
   "source": []
  }
 ],
 "metadata": {
  "kernelspec": {
   "display_name": "base",
   "language": "python",
   "name": "python3"
  },
  "language_info": {
   "codemirror_mode": {
    "name": "ipython",
    "version": 3
   },
   "file_extension": ".py",
   "mimetype": "text/x-python",
   "name": "python",
   "nbconvert_exporter": "python",
   "pygments_lexer": "ipython3",
   "version": "3.13.5"
  }
 },
 "nbformat": 4,
 "nbformat_minor": 5
}
