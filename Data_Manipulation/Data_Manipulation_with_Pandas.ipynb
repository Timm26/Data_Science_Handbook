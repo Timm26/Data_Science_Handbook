{
 "cells": [
  {
   "cell_type": "markdown",
   "id": "5fef60a5",
   "metadata": {},
   "source": [
    "# Data Manipulation with pandas"
   ]
  },
  {
   "cell_type": "markdown",
   "id": "74edd62b",
   "metadata": {},
   "source": [
    "## Topics covered:"
   ]
  },
  {
   "cell_type": "markdown",
   "id": "489ff3bc",
   "metadata": {},
   "source": [
    "1. Transforming DataFrames\n",
    "2. Aggregating DataFrame\n",
    "3. Slicing and Indexing DataFrames\n",
    "4. Creating and Visualizing DataFrame\n",
    "5. Handling missing values"
   ]
  },
  {
   "cell_type": "markdown",
   "id": "88cf6e51",
   "metadata": {},
   "source": [
    "This Notebook contains arguments and methods to manipulate dataframes.\n",
    "\n",
    "- DataFrames: A two-dimensional labeled data structure in pandas, sumular to a spreadsheet or SQL table, that holds rows and columns of data.\n",
    "- Series: A one-dimensional array-like pandas object that contains data for a single variables, with an index to label each value.\n",
    "- Index: The labels or row identifiers of a pandas Series or DataFrame that allow for easy data alignment and selection.\n",
    "- Mask: A pandas Series of Boolean values (True/False) used to filter rows of a DataFrame.\n",
    "- Boolean Indexing: Selecting rows or columns in a DataFrame using logical conditions that return True or False.\n",
    "- _loc[]_: A pandas method used to select rows and columns by label or conditional statements.\n",
    "- _iloc[]_: A pandas method used to select rows and columns by integer position.\n",
    "- Slicing: Extracting a subset of rows or columns from a DataFrame or Series using index ranges.\n",
    "- Aggregation: The process of summarizing data values, such as calculating the sum, mean, or count.\n",
    "- GroupBy: A pandas method to splot data into groups based on one or more variables and aggregated across multiple dimensions.\n",
    "- _apply()_: A pandas function that applies a given function along an axis of a DataFrame, often slower than built-in methods.\n",
    "- Imputation: The process of handling missing values by replacing them with substituted values such as mean, median, or placeholder.\n",
    "- _fillna()_: A pandas methods used to replace missing values with specific values.\n",
    "- _dropna()_: A pandas methods used to remove rows or columns with missing values.\n",
    "- *set_index()*: A method to assign one or more columns as the index of a DataFrame.\n",
    "- *reset_index()*: A method to restore the default integer index of a DataFrame, moving any existing index back into columns.\n",
    "- *sort_values()*: A method to sort a DataFrame by one or more column values.\n",
    "- *sort_index()*: A method to sort a DataFrame by its index values.\n",
    "- *describe()*: A method to generate summary statistics (mean, median, count, etc.) for numerical columns in a DataFrame.\n",
    "- _head()_: A method taht displays the first five rows of a DataFrame by default.\n",
    "- _info()_: A method to print concise details about a DataFrame, including column data types and non-null values.\n",
    "- *read_csv()*: A pandas function to import data from a CSV file into a DataFrame.\n",
    "- *to_csv()*: A pandas function to export a DataFrame to a CSV file."
   ]
  },
  {
   "cell_type": "markdown",
   "id": "c8adc9cd",
   "metadata": {},
   "source": [
    "## 1. DataFrames"
   ]
  },
  {
   "cell_type": "code",
   "execution_count": 195,
   "id": "e0cd33b1",
   "metadata": {},
   "outputs": [],
   "source": [
    "import pandas as pd\n",
    "import numpy as np\n",
    "import matplotlib.pyplot as plt\n",
    "plt.rcParams[\"figure.figsize\"] = (5,3)"
   ]
  },
  {
   "cell_type": "code",
   "execution_count": 196,
   "id": "f05e998e",
   "metadata": {},
   "outputs": [
    {
     "data": {
      "application/vnd.microsoft.datawrangler.viewer.v0+json": {
       "columns": [
        {
         "name": "index",
         "rawType": "int64",
         "type": "integer"
        },
        {
         "name": "Unnamed: 0",
         "rawType": "int64",
         "type": "integer"
        },
        {
         "name": "region",
         "rawType": "object",
         "type": "string"
        },
        {
         "name": "state",
         "rawType": "object",
         "type": "string"
        },
        {
         "name": "individuals",
         "rawType": "float64",
         "type": "float"
        },
        {
         "name": "family_members",
         "rawType": "float64",
         "type": "float"
        },
        {
         "name": "state_pop",
         "rawType": "int64",
         "type": "integer"
        }
       ],
       "ref": "97c12a0e-ab6c-4bb6-923f-8884822c92e7",
       "rows": [
        [
         "0",
         "0",
         "East South Central",
         "Alabama",
         "2570.0",
         "864.0",
         "4887681"
        ],
        [
         "1",
         "1",
         "Pacific",
         "Alaska",
         "1434.0",
         "582.0",
         "735139"
        ],
        [
         "2",
         "2",
         "Mountain",
         "Arizona",
         "7259.0",
         "2606.0",
         "7158024"
        ],
        [
         "3",
         "3",
         "West South Central",
         "Arkansas",
         "2280.0",
         "432.0",
         "3009733"
        ],
        [
         "4",
         "4",
         "Pacific",
         "California",
         "109008.0",
         "20964.0",
         "39461588"
        ]
       ],
       "shape": {
        "columns": 6,
        "rows": 5
       }
      },
      "text/html": [
       "<div>\n",
       "<style scoped>\n",
       "    .dataframe tbody tr th:only-of-type {\n",
       "        vertical-align: middle;\n",
       "    }\n",
       "\n",
       "    .dataframe tbody tr th {\n",
       "        vertical-align: top;\n",
       "    }\n",
       "\n",
       "    .dataframe thead th {\n",
       "        text-align: right;\n",
       "    }\n",
       "</style>\n",
       "<table border=\"1\" class=\"dataframe\">\n",
       "  <thead>\n",
       "    <tr style=\"text-align: right;\">\n",
       "      <th></th>\n",
       "      <th>Unnamed: 0</th>\n",
       "      <th>region</th>\n",
       "      <th>state</th>\n",
       "      <th>individuals</th>\n",
       "      <th>family_members</th>\n",
       "      <th>state_pop</th>\n",
       "    </tr>\n",
       "  </thead>\n",
       "  <tbody>\n",
       "    <tr>\n",
       "      <th>0</th>\n",
       "      <td>0</td>\n",
       "      <td>East South Central</td>\n",
       "      <td>Alabama</td>\n",
       "      <td>2570.0</td>\n",
       "      <td>864.0</td>\n",
       "      <td>4887681</td>\n",
       "    </tr>\n",
       "    <tr>\n",
       "      <th>1</th>\n",
       "      <td>1</td>\n",
       "      <td>Pacific</td>\n",
       "      <td>Alaska</td>\n",
       "      <td>1434.0</td>\n",
       "      <td>582.0</td>\n",
       "      <td>735139</td>\n",
       "    </tr>\n",
       "    <tr>\n",
       "      <th>2</th>\n",
       "      <td>2</td>\n",
       "      <td>Mountain</td>\n",
       "      <td>Arizona</td>\n",
       "      <td>7259.0</td>\n",
       "      <td>2606.0</td>\n",
       "      <td>7158024</td>\n",
       "    </tr>\n",
       "    <tr>\n",
       "      <th>3</th>\n",
       "      <td>3</td>\n",
       "      <td>West South Central</td>\n",
       "      <td>Arkansas</td>\n",
       "      <td>2280.0</td>\n",
       "      <td>432.0</td>\n",
       "      <td>3009733</td>\n",
       "    </tr>\n",
       "    <tr>\n",
       "      <th>4</th>\n",
       "      <td>4</td>\n",
       "      <td>Pacific</td>\n",
       "      <td>California</td>\n",
       "      <td>109008.0</td>\n",
       "      <td>20964.0</td>\n",
       "      <td>39461588</td>\n",
       "    </tr>\n",
       "  </tbody>\n",
       "</table>\n",
       "</div>"
      ],
      "text/plain": [
       "   Unnamed: 0              region       state  individuals  family_members  \\\n",
       "0           0  East South Central     Alabama       2570.0           864.0   \n",
       "1           1             Pacific      Alaska       1434.0           582.0   \n",
       "2           2            Mountain     Arizona       7259.0          2606.0   \n",
       "3           3  West South Central    Arkansas       2280.0           432.0   \n",
       "4           4             Pacific  California     109008.0         20964.0   \n",
       "\n",
       "   state_pop  \n",
       "0    4887681  \n",
       "1     735139  \n",
       "2    7158024  \n",
       "3    3009733  \n",
       "4   39461588  "
      ]
     },
     "execution_count": 196,
     "metadata": {},
     "output_type": "execute_result"
    }
   ],
   "source": [
    "df = pd.read_csv(\"../ZDatasets/homelessness.csv\")\n",
    "df.head()"
   ]
  },
  {
   "cell_type": "code",
   "execution_count": 197,
   "id": "d7210743",
   "metadata": {},
   "outputs": [
    {
     "name": "stdout",
     "output_type": "stream",
     "text": [
      "<class 'pandas.core.frame.DataFrame'>\n",
      "RangeIndex: 51 entries, 0 to 50\n",
      "Data columns (total 6 columns):\n",
      " #   Column          Non-Null Count  Dtype  \n",
      "---  ------          --------------  -----  \n",
      " 0   Unnamed: 0      51 non-null     int64  \n",
      " 1   region          51 non-null     object \n",
      " 2   state           51 non-null     object \n",
      " 3   individuals     51 non-null     float64\n",
      " 4   family_members  51 non-null     float64\n",
      " 5   state_pop       51 non-null     int64  \n",
      "dtypes: float64(2), int64(2), object(2)\n",
      "memory usage: 2.5+ KB\n",
      "None\n",
      "(51, 6)\n",
      "       Unnamed: 0    individuals  family_members     state_pop\n",
      "count   51.000000      51.000000       51.000000  5.100000e+01\n",
      "mean    25.000000    7225.784314     3504.882353  6.405637e+06\n",
      "std     14.866069   15991.025083     7805.411811  7.327258e+06\n",
      "min      0.000000     434.000000       75.000000  5.776010e+05\n",
      "25%     12.500000    1446.500000      592.000000  1.777414e+06\n",
      "50%     25.000000    3082.000000     1482.000000  4.461153e+06\n",
      "75%     37.500000    6781.500000     3196.000000  7.340946e+06\n",
      "max     50.000000  109008.000000    52070.000000  3.946159e+07\n"
     ]
    }
   ],
   "source": [
    "### Exploring a DataFrame\n",
    "print(df.info())\n",
    "print(df.shape)\n",
    "print(df.describe())"
   ]
  },
  {
   "cell_type": "code",
   "execution_count": 198,
   "id": "9b602fb7",
   "metadata": {},
   "outputs": [
    {
     "name": "stdout",
     "output_type": "stream",
     "text": [
      "Index(['Unnamed: 0', 'region', 'state', 'individuals', 'family_members',\n",
      "       'state_pop'],\n",
      "      dtype='object')\n",
      "RangeIndex(start=0, stop=51, step=1)\n"
     ]
    }
   ],
   "source": [
    "### Components of a Dataframe\n",
    "df.values\n",
    "print(df.columns)\n",
    "print(df.index)"
   ]
  },
  {
   "cell_type": "markdown",
   "id": "757baaf5",
   "metadata": {},
   "source": [
    "### 1.2. Sorting the DataFrame"
   ]
  },
  {
   "cell_type": "markdown",
   "id": "683a6e81",
   "metadata": {},
   "source": [
    "#### 1.2.1 Sort a column in descending order"
   ]
  },
  {
   "cell_type": "code",
   "execution_count": 199,
   "id": "0022913e",
   "metadata": {},
   "outputs": [
    {
     "data": {
      "application/vnd.microsoft.datawrangler.viewer.v0+json": {
       "columns": [
        {
         "name": "index",
         "rawType": "int64",
         "type": "integer"
        },
        {
         "name": "Unnamed: 0",
         "rawType": "int64",
         "type": "integer"
        },
        {
         "name": "region",
         "rawType": "object",
         "type": "string"
        },
        {
         "name": "state",
         "rawType": "object",
         "type": "string"
        },
        {
         "name": "individuals",
         "rawType": "float64",
         "type": "float"
        },
        {
         "name": "family_members",
         "rawType": "float64",
         "type": "float"
        },
        {
         "name": "state_pop",
         "rawType": "int64",
         "type": "integer"
        }
       ],
       "ref": "482e50f8-dd96-4f7e-ab80-96ec2f63213b",
       "rows": [
        [
         "50",
         "50",
         "Mountain",
         "Wyoming",
         "434.0",
         "205.0",
         "577601"
        ],
        [
         "49",
         "49",
         "East North Central",
         "Wisconsin",
         "2740.0",
         "2167.0",
         "5807406"
        ],
        [
         "48",
         "48",
         "South Atlantic",
         "West Virginia",
         "1021.0",
         "222.0",
         "1804291"
        ],
        [
         "47",
         "47",
         "Pacific",
         "Washington",
         "16424.0",
         "5880.0",
         "7523869"
        ],
        [
         "46",
         "46",
         "South Atlantic",
         "Virginia",
         "3928.0",
         "2047.0",
         "8501286"
        ]
       ],
       "shape": {
        "columns": 6,
        "rows": 5
       }
      },
      "text/html": [
       "<div>\n",
       "<style scoped>\n",
       "    .dataframe tbody tr th:only-of-type {\n",
       "        vertical-align: middle;\n",
       "    }\n",
       "\n",
       "    .dataframe tbody tr th {\n",
       "        vertical-align: top;\n",
       "    }\n",
       "\n",
       "    .dataframe thead th {\n",
       "        text-align: right;\n",
       "    }\n",
       "</style>\n",
       "<table border=\"1\" class=\"dataframe\">\n",
       "  <thead>\n",
       "    <tr style=\"text-align: right;\">\n",
       "      <th></th>\n",
       "      <th>Unnamed: 0</th>\n",
       "      <th>region</th>\n",
       "      <th>state</th>\n",
       "      <th>individuals</th>\n",
       "      <th>family_members</th>\n",
       "      <th>state_pop</th>\n",
       "    </tr>\n",
       "  </thead>\n",
       "  <tbody>\n",
       "    <tr>\n",
       "      <th>50</th>\n",
       "      <td>50</td>\n",
       "      <td>Mountain</td>\n",
       "      <td>Wyoming</td>\n",
       "      <td>434.0</td>\n",
       "      <td>205.0</td>\n",
       "      <td>577601</td>\n",
       "    </tr>\n",
       "    <tr>\n",
       "      <th>49</th>\n",
       "      <td>49</td>\n",
       "      <td>East North Central</td>\n",
       "      <td>Wisconsin</td>\n",
       "      <td>2740.0</td>\n",
       "      <td>2167.0</td>\n",
       "      <td>5807406</td>\n",
       "    </tr>\n",
       "    <tr>\n",
       "      <th>48</th>\n",
       "      <td>48</td>\n",
       "      <td>South Atlantic</td>\n",
       "      <td>West Virginia</td>\n",
       "      <td>1021.0</td>\n",
       "      <td>222.0</td>\n",
       "      <td>1804291</td>\n",
       "    </tr>\n",
       "    <tr>\n",
       "      <th>47</th>\n",
       "      <td>47</td>\n",
       "      <td>Pacific</td>\n",
       "      <td>Washington</td>\n",
       "      <td>16424.0</td>\n",
       "      <td>5880.0</td>\n",
       "      <td>7523869</td>\n",
       "    </tr>\n",
       "    <tr>\n",
       "      <th>46</th>\n",
       "      <td>46</td>\n",
       "      <td>South Atlantic</td>\n",
       "      <td>Virginia</td>\n",
       "      <td>3928.0</td>\n",
       "      <td>2047.0</td>\n",
       "      <td>8501286</td>\n",
       "    </tr>\n",
       "  </tbody>\n",
       "</table>\n",
       "</div>"
      ],
      "text/plain": [
       "    Unnamed: 0              region          state  individuals  \\\n",
       "50          50            Mountain        Wyoming        434.0   \n",
       "49          49  East North Central      Wisconsin       2740.0   \n",
       "48          48      South Atlantic  West Virginia       1021.0   \n",
       "47          47             Pacific     Washington      16424.0   \n",
       "46          46      South Atlantic       Virginia       3928.0   \n",
       "\n",
       "    family_members  state_pop  \n",
       "50           205.0     577601  \n",
       "49          2167.0    5807406  \n",
       "48           222.0    1804291  \n",
       "47          5880.0    7523869  \n",
       "46          2047.0    8501286  "
      ]
     },
     "execution_count": 199,
     "metadata": {},
     "output_type": "execute_result"
    }
   ],
   "source": [
    "df.sort_values('state', ascending=False).head()"
   ]
  },
  {
   "cell_type": "markdown",
   "id": "878fb75c",
   "metadata": {},
   "source": [
    "#### 1.2.2 Sort by multiple variables"
   ]
  },
  {
   "cell_type": "code",
   "execution_count": 200,
   "id": "c5269fab",
   "metadata": {},
   "outputs": [
    {
     "data": {
      "application/vnd.microsoft.datawrangler.viewer.v0+json": {
       "columns": [
        {
         "name": "index",
         "rawType": "int64",
         "type": "integer"
        },
        {
         "name": "Unnamed: 0",
         "rawType": "int64",
         "type": "integer"
        },
        {
         "name": "region",
         "rawType": "object",
         "type": "string"
        },
        {
         "name": "state",
         "rawType": "object",
         "type": "string"
        },
        {
         "name": "individuals",
         "rawType": "float64",
         "type": "float"
        },
        {
         "name": "family_members",
         "rawType": "float64",
         "type": "float"
        },
        {
         "name": "state_pop",
         "rawType": "int64",
         "type": "integer"
        }
       ],
       "ref": "64c51cb7-c4d0-4d73-99b7-8003dbd0d6a0",
       "rows": [
        [
         "3",
         "3",
         "West South Central",
         "Arkansas",
         "2280.0",
         "432.0",
         "3009733"
        ],
        [
         "18",
         "18",
         "West South Central",
         "Louisiana",
         "2540.0",
         "519.0",
         "4659690"
        ],
        [
         "36",
         "36",
         "West South Central",
         "Oklahoma",
         "2823.0",
         "1048.0",
         "3940235"
        ],
        [
         "43",
         "43",
         "West South Central",
         "Texas",
         "19199.0",
         "6111.0",
         "28628666"
        ],
        [
         "15",
         "15",
         "West North Central",
         "Iowa",
         "1711.0",
         "1038.0",
         "3148618"
        ]
       ],
       "shape": {
        "columns": 6,
        "rows": 5
       }
      },
      "text/html": [
       "<div>\n",
       "<style scoped>\n",
       "    .dataframe tbody tr th:only-of-type {\n",
       "        vertical-align: middle;\n",
       "    }\n",
       "\n",
       "    .dataframe tbody tr th {\n",
       "        vertical-align: top;\n",
       "    }\n",
       "\n",
       "    .dataframe thead th {\n",
       "        text-align: right;\n",
       "    }\n",
       "</style>\n",
       "<table border=\"1\" class=\"dataframe\">\n",
       "  <thead>\n",
       "    <tr style=\"text-align: right;\">\n",
       "      <th></th>\n",
       "      <th>Unnamed: 0</th>\n",
       "      <th>region</th>\n",
       "      <th>state</th>\n",
       "      <th>individuals</th>\n",
       "      <th>family_members</th>\n",
       "      <th>state_pop</th>\n",
       "    </tr>\n",
       "  </thead>\n",
       "  <tbody>\n",
       "    <tr>\n",
       "      <th>3</th>\n",
       "      <td>3</td>\n",
       "      <td>West South Central</td>\n",
       "      <td>Arkansas</td>\n",
       "      <td>2280.0</td>\n",
       "      <td>432.0</td>\n",
       "      <td>3009733</td>\n",
       "    </tr>\n",
       "    <tr>\n",
       "      <th>18</th>\n",
       "      <td>18</td>\n",
       "      <td>West South Central</td>\n",
       "      <td>Louisiana</td>\n",
       "      <td>2540.0</td>\n",
       "      <td>519.0</td>\n",
       "      <td>4659690</td>\n",
       "    </tr>\n",
       "    <tr>\n",
       "      <th>36</th>\n",
       "      <td>36</td>\n",
       "      <td>West South Central</td>\n",
       "      <td>Oklahoma</td>\n",
       "      <td>2823.0</td>\n",
       "      <td>1048.0</td>\n",
       "      <td>3940235</td>\n",
       "    </tr>\n",
       "    <tr>\n",
       "      <th>43</th>\n",
       "      <td>43</td>\n",
       "      <td>West South Central</td>\n",
       "      <td>Texas</td>\n",
       "      <td>19199.0</td>\n",
       "      <td>6111.0</td>\n",
       "      <td>28628666</td>\n",
       "    </tr>\n",
       "    <tr>\n",
       "      <th>15</th>\n",
       "      <td>15</td>\n",
       "      <td>West North Central</td>\n",
       "      <td>Iowa</td>\n",
       "      <td>1711.0</td>\n",
       "      <td>1038.0</td>\n",
       "      <td>3148618</td>\n",
       "    </tr>\n",
       "  </tbody>\n",
       "</table>\n",
       "</div>"
      ],
      "text/plain": [
       "    Unnamed: 0              region      state  individuals  family_members  \\\n",
       "3            3  West South Central   Arkansas       2280.0           432.0   \n",
       "18          18  West South Central  Louisiana       2540.0           519.0   \n",
       "36          36  West South Central   Oklahoma       2823.0          1048.0   \n",
       "43          43  West South Central      Texas      19199.0          6111.0   \n",
       "15          15  West North Central       Iowa       1711.0          1038.0   \n",
       "\n",
       "    state_pop  \n",
       "3     3009733  \n",
       "18    4659690  \n",
       "36    3940235  \n",
       "43   28628666  \n",
       "15    3148618  "
      ]
     },
     "execution_count": 200,
     "metadata": {},
     "output_type": "execute_result"
    }
   ],
   "source": [
    "df.sort_values(['region','state'],ascending=[False,True]).head()"
   ]
  },
  {
   "cell_type": "markdown",
   "id": "1739529f",
   "metadata": {},
   "source": [
    "#### 1.2.3 Subsetting"
   ]
  },
  {
   "cell_type": "code",
   "execution_count": 201,
   "id": "409a1cef",
   "metadata": {},
   "outputs": [
    {
     "data": {
      "application/vnd.microsoft.datawrangler.viewer.v0+json": {
       "columns": [
        {
         "name": "index",
         "rawType": "int64",
         "type": "integer"
        },
        {
         "name": "state",
         "rawType": "object",
         "type": "string"
        }
       ],
       "ref": "40c82fbf-dc9a-45af-a15a-fdb64b40b4e4",
       "rows": [
        [
         "0",
         "Alabama"
        ],
        [
         "1",
         "Alaska"
        ],
        [
         "2",
         "Arizona"
        ],
        [
         "3",
         "Arkansas"
        ],
        [
         "4",
         "California"
        ]
       ],
       "shape": {
        "columns": 1,
        "rows": 5
       }
      },
      "text/plain": [
       "0       Alabama\n",
       "1        Alaska\n",
       "2       Arizona\n",
       "3      Arkansas\n",
       "4    California\n",
       "Name: state, dtype: object"
      ]
     },
     "execution_count": 201,
     "metadata": {},
     "output_type": "execute_result"
    }
   ],
   "source": [
    "# Subsetting columns\n",
    "df['state'].head()"
   ]
  },
  {
   "cell_type": "code",
   "execution_count": 202,
   "id": "d9ad6a3e",
   "metadata": {},
   "outputs": [
    {
     "data": {
      "application/vnd.microsoft.datawrangler.viewer.v0+json": {
       "columns": [
        {
         "name": "index",
         "rawType": "int64",
         "type": "integer"
        },
        {
         "name": "region",
         "rawType": "object",
         "type": "string"
        },
        {
         "name": "state",
         "rawType": "object",
         "type": "string"
        }
       ],
       "ref": "0b4389e9-2d83-4761-b49e-a7f1cb3b12f0",
       "rows": [
        [
         "0",
         "East South Central",
         "Alabama"
        ],
        [
         "1",
         "Pacific",
         "Alaska"
        ],
        [
         "2",
         "Mountain",
         "Arizona"
        ],
        [
         "3",
         "West South Central",
         "Arkansas"
        ],
        [
         "4",
         "Pacific",
         "California"
        ]
       ],
       "shape": {
        "columns": 2,
        "rows": 5
       }
      },
      "text/html": [
       "<div>\n",
       "<style scoped>\n",
       "    .dataframe tbody tr th:only-of-type {\n",
       "        vertical-align: middle;\n",
       "    }\n",
       "\n",
       "    .dataframe tbody tr th {\n",
       "        vertical-align: top;\n",
       "    }\n",
       "\n",
       "    .dataframe thead th {\n",
       "        text-align: right;\n",
       "    }\n",
       "</style>\n",
       "<table border=\"1\" class=\"dataframe\">\n",
       "  <thead>\n",
       "    <tr style=\"text-align: right;\">\n",
       "      <th></th>\n",
       "      <th>region</th>\n",
       "      <th>state</th>\n",
       "    </tr>\n",
       "  </thead>\n",
       "  <tbody>\n",
       "    <tr>\n",
       "      <th>0</th>\n",
       "      <td>East South Central</td>\n",
       "      <td>Alabama</td>\n",
       "    </tr>\n",
       "    <tr>\n",
       "      <th>1</th>\n",
       "      <td>Pacific</td>\n",
       "      <td>Alaska</td>\n",
       "    </tr>\n",
       "    <tr>\n",
       "      <th>2</th>\n",
       "      <td>Mountain</td>\n",
       "      <td>Arizona</td>\n",
       "    </tr>\n",
       "    <tr>\n",
       "      <th>3</th>\n",
       "      <td>West South Central</td>\n",
       "      <td>Arkansas</td>\n",
       "    </tr>\n",
       "    <tr>\n",
       "      <th>4</th>\n",
       "      <td>Pacific</td>\n",
       "      <td>California</td>\n",
       "    </tr>\n",
       "  </tbody>\n",
       "</table>\n",
       "</div>"
      ],
      "text/plain": [
       "               region       state\n",
       "0  East South Central     Alabama\n",
       "1             Pacific      Alaska\n",
       "2            Mountain     Arizona\n",
       "3  West South Central    Arkansas\n",
       "4             Pacific  California"
      ]
     },
     "execution_count": 202,
     "metadata": {},
     "output_type": "execute_result"
    }
   ],
   "source": [
    "# Subsetting multiple columns\n",
    "df[['region','state']].head()\n",
    "\n",
    "# Or\n",
    "subset_col = ['region','state']\n",
    "df[subset_col].head()"
   ]
  },
  {
   "cell_type": "code",
   "execution_count": 203,
   "id": "37aedcf4",
   "metadata": {},
   "outputs": [
    {
     "data": {
      "application/vnd.microsoft.datawrangler.viewer.v0+json": {
       "columns": [
        {
         "name": "index",
         "rawType": "int64",
         "type": "integer"
        },
        {
         "name": "Unnamed: 0",
         "rawType": "int64",
         "type": "integer"
        },
        {
         "name": "region",
         "rawType": "object",
         "type": "string"
        },
        {
         "name": "state",
         "rawType": "object",
         "type": "string"
        },
        {
         "name": "individuals",
         "rawType": "float64",
         "type": "float"
        },
        {
         "name": "family_members",
         "rawType": "float64",
         "type": "float"
        },
        {
         "name": "state_pop",
         "rawType": "int64",
         "type": "integer"
        }
       ],
       "ref": "aa54b0b9-3754-4264-80b2-8bda3084bb17",
       "rows": [
        [
         "3",
         "3",
         "West South Central",
         "Arkansas",
         "2280.0",
         "432.0",
         "3009733"
        ],
        [
         "7",
         "7",
         "South Atlantic",
         "Delaware",
         "708.0",
         "374.0",
         "965479"
        ],
        [
         "24",
         "24",
         "East South Central",
         "Mississippi",
         "1024.0",
         "328.0",
         "2981020"
        ],
        [
         "26",
         "26",
         "Mountain",
         "Montana",
         "983.0",
         "422.0",
         "1060665"
        ],
        [
         "28",
         "28",
         "Mountain",
         "Nevada",
         "7058.0",
         "486.0",
         "3027341"
        ]
       ],
       "shape": {
        "columns": 6,
        "rows": 5
       }
      },
      "text/html": [
       "<div>\n",
       "<style scoped>\n",
       "    .dataframe tbody tr th:only-of-type {\n",
       "        vertical-align: middle;\n",
       "    }\n",
       "\n",
       "    .dataframe tbody tr th {\n",
       "        vertical-align: top;\n",
       "    }\n",
       "\n",
       "    .dataframe thead th {\n",
       "        text-align: right;\n",
       "    }\n",
       "</style>\n",
       "<table border=\"1\" class=\"dataframe\">\n",
       "  <thead>\n",
       "    <tr style=\"text-align: right;\">\n",
       "      <th></th>\n",
       "      <th>Unnamed: 0</th>\n",
       "      <th>region</th>\n",
       "      <th>state</th>\n",
       "      <th>individuals</th>\n",
       "      <th>family_members</th>\n",
       "      <th>state_pop</th>\n",
       "    </tr>\n",
       "  </thead>\n",
       "  <tbody>\n",
       "    <tr>\n",
       "      <th>3</th>\n",
       "      <td>3</td>\n",
       "      <td>West South Central</td>\n",
       "      <td>Arkansas</td>\n",
       "      <td>2280.0</td>\n",
       "      <td>432.0</td>\n",
       "      <td>3009733</td>\n",
       "    </tr>\n",
       "    <tr>\n",
       "      <th>7</th>\n",
       "      <td>7</td>\n",
       "      <td>South Atlantic</td>\n",
       "      <td>Delaware</td>\n",
       "      <td>708.0</td>\n",
       "      <td>374.0</td>\n",
       "      <td>965479</td>\n",
       "    </tr>\n",
       "    <tr>\n",
       "      <th>24</th>\n",
       "      <td>24</td>\n",
       "      <td>East South Central</td>\n",
       "      <td>Mississippi</td>\n",
       "      <td>1024.0</td>\n",
       "      <td>328.0</td>\n",
       "      <td>2981020</td>\n",
       "    </tr>\n",
       "    <tr>\n",
       "      <th>26</th>\n",
       "      <td>26</td>\n",
       "      <td>Mountain</td>\n",
       "      <td>Montana</td>\n",
       "      <td>983.0</td>\n",
       "      <td>422.0</td>\n",
       "      <td>1060665</td>\n",
       "    </tr>\n",
       "    <tr>\n",
       "      <th>28</th>\n",
       "      <td>28</td>\n",
       "      <td>Mountain</td>\n",
       "      <td>Nevada</td>\n",
       "      <td>7058.0</td>\n",
       "      <td>486.0</td>\n",
       "      <td>3027341</td>\n",
       "    </tr>\n",
       "  </tbody>\n",
       "</table>\n",
       "</div>"
      ],
      "text/plain": [
       "    Unnamed: 0              region        state  individuals  family_members  \\\n",
       "3            3  West South Central     Arkansas       2280.0           432.0   \n",
       "7            7      South Atlantic     Delaware        708.0           374.0   \n",
       "24          24  East South Central  Mississippi       1024.0           328.0   \n",
       "26          26            Mountain      Montana        983.0           422.0   \n",
       "28          28            Mountain       Nevada       7058.0           486.0   \n",
       "\n",
       "    state_pop  \n",
       "3     3009733  \n",
       "7      965479  \n",
       "24    2981020  \n",
       "26    1060665  \n",
       "28    3027341  "
      ]
     },
     "execution_count": 203,
     "metadata": {},
     "output_type": "execute_result"
    }
   ],
   "source": [
    "# Subsetting rows\n",
    "df[df['family_members'] < 500].head()"
   ]
  },
  {
   "cell_type": "code",
   "execution_count": 204,
   "id": "5c2a3572",
   "metadata": {},
   "outputs": [
    {
     "data": {
      "application/vnd.microsoft.datawrangler.viewer.v0+json": {
       "columns": [
        {
         "name": "index",
         "rawType": "int64",
         "type": "integer"
        },
        {
         "name": "Unnamed: 0",
         "rawType": "int64",
         "type": "integer"
        },
        {
         "name": "region",
         "rawType": "object",
         "type": "string"
        },
        {
         "name": "state",
         "rawType": "object",
         "type": "string"
        },
        {
         "name": "individuals",
         "rawType": "float64",
         "type": "float"
        },
        {
         "name": "family_members",
         "rawType": "float64",
         "type": "float"
        },
        {
         "name": "state_pop",
         "rawType": "int64",
         "type": "integer"
        }
       ],
       "ref": "e4bb422e-2487-4fc3-b7bb-b84a34329034",
       "rows": [
        [
         "3",
         "3",
         "West South Central",
         "Arkansas",
         "2280.0",
         "432.0",
         "3009733"
        ]
       ],
       "shape": {
        "columns": 6,
        "rows": 1
       }
      },
      "text/html": [
       "<div>\n",
       "<style scoped>\n",
       "    .dataframe tbody tr th:only-of-type {\n",
       "        vertical-align: middle;\n",
       "    }\n",
       "\n",
       "    .dataframe tbody tr th {\n",
       "        vertical-align: top;\n",
       "    }\n",
       "\n",
       "    .dataframe thead th {\n",
       "        text-align: right;\n",
       "    }\n",
       "</style>\n",
       "<table border=\"1\" class=\"dataframe\">\n",
       "  <thead>\n",
       "    <tr style=\"text-align: right;\">\n",
       "      <th></th>\n",
       "      <th>Unnamed: 0</th>\n",
       "      <th>region</th>\n",
       "      <th>state</th>\n",
       "      <th>individuals</th>\n",
       "      <th>family_members</th>\n",
       "      <th>state_pop</th>\n",
       "    </tr>\n",
       "  </thead>\n",
       "  <tbody>\n",
       "    <tr>\n",
       "      <th>3</th>\n",
       "      <td>3</td>\n",
       "      <td>West South Central</td>\n",
       "      <td>Arkansas</td>\n",
       "      <td>2280.0</td>\n",
       "      <td>432.0</td>\n",
       "      <td>3009733</td>\n",
       "    </tr>\n",
       "  </tbody>\n",
       "</table>\n",
       "</div>"
      ],
      "text/plain": [
       "   Unnamed: 0              region     state  individuals  family_members  \\\n",
       "3           3  West South Central  Arkansas       2280.0           432.0   \n",
       "\n",
       "   state_pop  \n",
       "3    3009733  "
      ]
     },
     "execution_count": 204,
     "metadata": {},
     "output_type": "execute_result"
    }
   ],
   "source": [
    "# Subsetting based on text\n",
    "df[df['state'] == \"Arkansas\"]"
   ]
  },
  {
   "cell_type": "code",
   "execution_count": 205,
   "id": "0594064d",
   "metadata": {},
   "outputs": [
    {
     "data": {
      "application/vnd.microsoft.datawrangler.viewer.v0+json": {
       "columns": [
        {
         "name": "index",
         "rawType": "int64",
         "type": "integer"
        },
        {
         "name": "Unnamed: 0",
         "rawType": "int64",
         "type": "integer"
        },
        {
         "name": "region",
         "rawType": "object",
         "type": "string"
        },
        {
         "name": "state",
         "rawType": "object",
         "type": "string"
        },
        {
         "name": "individuals",
         "rawType": "float64",
         "type": "float"
        },
        {
         "name": "family_members",
         "rawType": "float64",
         "type": "float"
        },
        {
         "name": "state_pop",
         "rawType": "int64",
         "type": "integer"
        }
       ],
       "ref": "a553bfe9-31cb-4ade-a3f8-ab41b2a1c3ba",
       "rows": [
        [
         "50",
         "50",
         "Mountain",
         "Wyoming",
         "434.0",
         "205.0",
         "577601"
        ]
       ],
       "shape": {
        "columns": 6,
        "rows": 1
       }
      },
      "text/html": [
       "<div>\n",
       "<style scoped>\n",
       "    .dataframe tbody tr th:only-of-type {\n",
       "        vertical-align: middle;\n",
       "    }\n",
       "\n",
       "    .dataframe tbody tr th {\n",
       "        vertical-align: top;\n",
       "    }\n",
       "\n",
       "    .dataframe thead th {\n",
       "        text-align: right;\n",
       "    }\n",
       "</style>\n",
       "<table border=\"1\" class=\"dataframe\">\n",
       "  <thead>\n",
       "    <tr style=\"text-align: right;\">\n",
       "      <th></th>\n",
       "      <th>Unnamed: 0</th>\n",
       "      <th>region</th>\n",
       "      <th>state</th>\n",
       "      <th>individuals</th>\n",
       "      <th>family_members</th>\n",
       "      <th>state_pop</th>\n",
       "    </tr>\n",
       "  </thead>\n",
       "  <tbody>\n",
       "    <tr>\n",
       "      <th>50</th>\n",
       "      <td>50</td>\n",
       "      <td>Mountain</td>\n",
       "      <td>Wyoming</td>\n",
       "      <td>434.0</td>\n",
       "      <td>205.0</td>\n",
       "      <td>577601</td>\n",
       "    </tr>\n",
       "  </tbody>\n",
       "</table>\n",
       "</div>"
      ],
      "text/plain": [
       "    Unnamed: 0    region    state  individuals  family_members  state_pop\n",
       "50          50  Mountain  Wyoming        434.0           205.0     577601"
      ]
     },
     "execution_count": 205,
     "metadata": {},
     "output_type": "execute_result"
    }
   ],
   "source": [
    "# Subsetting based on multiple conditions\n",
    "under_400_fm = df['family_members'] < 400\n",
    "region_mountain = df['region'] == \"Mountain\"\n",
    "df[under_400_fm & region_mountain]"
   ]
  },
  {
   "cell_type": "code",
   "execution_count": 206,
   "id": "dee1b834",
   "metadata": {},
   "outputs": [
    {
     "data": {
      "application/vnd.microsoft.datawrangler.viewer.v0+json": {
       "columns": [
        {
         "name": "index",
         "rawType": "int64",
         "type": "integer"
        },
        {
         "name": "Unnamed: 0",
         "rawType": "int64",
         "type": "integer"
        },
        {
         "name": "region",
         "rawType": "object",
         "type": "string"
        },
        {
         "name": "state",
         "rawType": "object",
         "type": "string"
        },
        {
         "name": "individuals",
         "rawType": "float64",
         "type": "float"
        },
        {
         "name": "family_members",
         "rawType": "float64",
         "type": "float"
        },
        {
         "name": "state_pop",
         "rawType": "int64",
         "type": "integer"
        }
       ],
       "ref": "48563f24-a70b-47f3-8bd8-dfefb2677bca",
       "rows": [
        [
         "50",
         "50",
         "Mountain",
         "Wyoming",
         "434.0",
         "205.0",
         "577601"
        ]
       ],
       "shape": {
        "columns": 6,
        "rows": 1
       }
      },
      "text/html": [
       "<div>\n",
       "<style scoped>\n",
       "    .dataframe tbody tr th:only-of-type {\n",
       "        vertical-align: middle;\n",
       "    }\n",
       "\n",
       "    .dataframe tbody tr th {\n",
       "        vertical-align: top;\n",
       "    }\n",
       "\n",
       "    .dataframe thead th {\n",
       "        text-align: right;\n",
       "    }\n",
       "</style>\n",
       "<table border=\"1\" class=\"dataframe\">\n",
       "  <thead>\n",
       "    <tr style=\"text-align: right;\">\n",
       "      <th></th>\n",
       "      <th>Unnamed: 0</th>\n",
       "      <th>region</th>\n",
       "      <th>state</th>\n",
       "      <th>individuals</th>\n",
       "      <th>family_members</th>\n",
       "      <th>state_pop</th>\n",
       "    </tr>\n",
       "  </thead>\n",
       "  <tbody>\n",
       "    <tr>\n",
       "      <th>50</th>\n",
       "      <td>50</td>\n",
       "      <td>Mountain</td>\n",
       "      <td>Wyoming</td>\n",
       "      <td>434.0</td>\n",
       "      <td>205.0</td>\n",
       "      <td>577601</td>\n",
       "    </tr>\n",
       "  </tbody>\n",
       "</table>\n",
       "</div>"
      ],
      "text/plain": [
       "    Unnamed: 0    region    state  individuals  family_members  state_pop\n",
       "50          50  Mountain  Wyoming        434.0           205.0     577601"
      ]
     },
     "execution_count": 206,
     "metadata": {},
     "output_type": "execute_result"
    }
   ],
   "source": [
    "# Using .isin()\n",
    "condition = df['state'].isin(['Wyoming'])\n",
    "df[condition]"
   ]
  },
  {
   "cell_type": "markdown",
   "id": "26d599b6",
   "metadata": {},
   "source": [
    "## 2. Summary statistics"
   ]
  },
  {
   "cell_type": "code",
   "execution_count": 207,
   "id": "8c6d7386",
   "metadata": {},
   "outputs": [
    {
     "name": "stdout",
     "output_type": "stream",
     "text": [
      "Mean: 3504.8823529411766\n",
      "Median: 1482.0\n",
      "Mode: 0    3250.0\n",
      "Name: family_members, dtype: float64\n",
      "Var: 60924453.54588234\n",
      "Std: 7805.411811421761\n",
      "Sum: 178749.0\n",
      "Quantile 0.75: 3196.0\n",
      "Min: 75.0\n",
      "Max: 52070.0\n"
     ]
    }
   ],
   "source": [
    "# Summarising numerical data\n",
    "df.head()\n",
    "print(f\"Mean: {df['family_members'].mean()}\")\n",
    "print(f\"Median: {df['family_members'].median()}\")\n",
    "print(f\"Mode: {df['family_members'].mode()}\")\n",
    "print(f\"Var: {df['family_members'].var()}\")\n",
    "print(f\"Std: {df['family_members'].std()}\")\n",
    "print(f\"Sum: {df['family_members'].sum()}\")\n",
    "print(f\"Quantile 0.75: {df['family_members'].quantile(0.75)}\")\n",
    "print(f\"Min: {df['family_members'].min()}\")\n",
    "print(f\"Max: {df['family_members'].max()}\")"
   ]
  },
  {
   "cell_type": "markdown",
   "id": "bf684e4b",
   "metadata": {},
   "source": [
    "### 2.1 Summaries on multiple columns"
   ]
  },
  {
   "cell_type": "code",
   "execution_count": 208,
   "id": "be33ad55",
   "metadata": {},
   "outputs": [
    {
     "data": {
      "application/vnd.microsoft.datawrangler.viewer.v0+json": {
       "columns": [
        {
         "name": "index",
         "rawType": "object",
         "type": "string"
        },
        {
         "name": "family_members",
         "rawType": "float64",
         "type": "float"
        },
        {
         "name": "individuals",
         "rawType": "float64",
         "type": "float"
        }
       ],
       "ref": "bb9f732a-610e-42ae-a60d-3ff648a01c24",
       "rows": [
        [
         "mean",
         "3504.8823529411766",
         "7225.78431372549"
        ],
        [
         "median",
         "1482.0",
         "3082.0"
        ],
        [
         "var",
         "60924453.54588234",
         "255712883.21254897"
        ],
        [
         "std",
         "7805.411811421761",
         "15991.025083231812"
        ]
       ],
       "shape": {
        "columns": 2,
        "rows": 4
       }
      },
      "text/html": [
       "<div>\n",
       "<style scoped>\n",
       "    .dataframe tbody tr th:only-of-type {\n",
       "        vertical-align: middle;\n",
       "    }\n",
       "\n",
       "    .dataframe tbody tr th {\n",
       "        vertical-align: top;\n",
       "    }\n",
       "\n",
       "    .dataframe thead th {\n",
       "        text-align: right;\n",
       "    }\n",
       "</style>\n",
       "<table border=\"1\" class=\"dataframe\">\n",
       "  <thead>\n",
       "    <tr style=\"text-align: right;\">\n",
       "      <th></th>\n",
       "      <th>family_members</th>\n",
       "      <th>individuals</th>\n",
       "    </tr>\n",
       "  </thead>\n",
       "  <tbody>\n",
       "    <tr>\n",
       "      <th>mean</th>\n",
       "      <td>3.504882e+03</td>\n",
       "      <td>7.225784e+03</td>\n",
       "    </tr>\n",
       "    <tr>\n",
       "      <th>median</th>\n",
       "      <td>1.482000e+03</td>\n",
       "      <td>3.082000e+03</td>\n",
       "    </tr>\n",
       "    <tr>\n",
       "      <th>var</th>\n",
       "      <td>6.092445e+07</td>\n",
       "      <td>2.557129e+08</td>\n",
       "    </tr>\n",
       "    <tr>\n",
       "      <th>std</th>\n",
       "      <td>7.805412e+03</td>\n",
       "      <td>1.599103e+04</td>\n",
       "    </tr>\n",
       "  </tbody>\n",
       "</table>\n",
       "</div>"
      ],
      "text/plain": [
       "        family_members   individuals\n",
       "mean      3.504882e+03  7.225784e+03\n",
       "median    1.482000e+03  3.082000e+03\n",
       "var       6.092445e+07  2.557129e+08\n",
       "std       7.805412e+03  1.599103e+04"
      ]
     },
     "execution_count": 208,
     "metadata": {},
     "output_type": "execute_result"
    }
   ],
   "source": [
    "df[['family_members','individuals']].agg([\"mean\", \"median\", \"var\", \"std\"])"
   ]
  },
  {
   "cell_type": "markdown",
   "id": "a651012b",
   "metadata": {},
   "source": [
    "### 2.2 Dropping duplicates"
   ]
  },
  {
   "cell_type": "code",
   "execution_count": 209,
   "id": "b1e8c2da",
   "metadata": {},
   "outputs": [
    {
     "data": {
      "application/vnd.microsoft.datawrangler.viewer.v0+json": {
       "columns": [
        {
         "name": "index",
         "rawType": "int64",
         "type": "integer"
        },
        {
         "name": "Unnamed: 0",
         "rawType": "int64",
         "type": "integer"
        },
        {
         "name": "region",
         "rawType": "object",
         "type": "string"
        },
        {
         "name": "state",
         "rawType": "object",
         "type": "string"
        },
        {
         "name": "individuals",
         "rawType": "float64",
         "type": "float"
        },
        {
         "name": "family_members",
         "rawType": "float64",
         "type": "float"
        },
        {
         "name": "state_pop",
         "rawType": "int64",
         "type": "integer"
        }
       ],
       "ref": "ba428a8a-2bb6-4797-a8c0-0e3acf06fbb3",
       "rows": [
        [
         "0",
         "0",
         "East South Central",
         "Alabama",
         "2570.0",
         "864.0",
         "4887681"
        ],
        [
         "1",
         "1",
         "Pacific",
         "Alaska",
         "1434.0",
         "582.0",
         "735139"
        ],
        [
         "2",
         "2",
         "Mountain",
         "Arizona",
         "7259.0",
         "2606.0",
         "7158024"
        ],
        [
         "3",
         "3",
         "West South Central",
         "Arkansas",
         "2280.0",
         "432.0",
         "3009733"
        ],
        [
         "4",
         "4",
         "Pacific",
         "California",
         "109008.0",
         "20964.0",
         "39461588"
        ]
       ],
       "shape": {
        "columns": 6,
        "rows": 5
       }
      },
      "text/html": [
       "<div>\n",
       "<style scoped>\n",
       "    .dataframe tbody tr th:only-of-type {\n",
       "        vertical-align: middle;\n",
       "    }\n",
       "\n",
       "    .dataframe tbody tr th {\n",
       "        vertical-align: top;\n",
       "    }\n",
       "\n",
       "    .dataframe thead th {\n",
       "        text-align: right;\n",
       "    }\n",
       "</style>\n",
       "<table border=\"1\" class=\"dataframe\">\n",
       "  <thead>\n",
       "    <tr style=\"text-align: right;\">\n",
       "      <th></th>\n",
       "      <th>Unnamed: 0</th>\n",
       "      <th>region</th>\n",
       "      <th>state</th>\n",
       "      <th>individuals</th>\n",
       "      <th>family_members</th>\n",
       "      <th>state_pop</th>\n",
       "    </tr>\n",
       "  </thead>\n",
       "  <tbody>\n",
       "    <tr>\n",
       "      <th>0</th>\n",
       "      <td>0</td>\n",
       "      <td>East South Central</td>\n",
       "      <td>Alabama</td>\n",
       "      <td>2570.0</td>\n",
       "      <td>864.0</td>\n",
       "      <td>4887681</td>\n",
       "    </tr>\n",
       "    <tr>\n",
       "      <th>1</th>\n",
       "      <td>1</td>\n",
       "      <td>Pacific</td>\n",
       "      <td>Alaska</td>\n",
       "      <td>1434.0</td>\n",
       "      <td>582.0</td>\n",
       "      <td>735139</td>\n",
       "    </tr>\n",
       "    <tr>\n",
       "      <th>2</th>\n",
       "      <td>2</td>\n",
       "      <td>Mountain</td>\n",
       "      <td>Arizona</td>\n",
       "      <td>7259.0</td>\n",
       "      <td>2606.0</td>\n",
       "      <td>7158024</td>\n",
       "    </tr>\n",
       "    <tr>\n",
       "      <th>3</th>\n",
       "      <td>3</td>\n",
       "      <td>West South Central</td>\n",
       "      <td>Arkansas</td>\n",
       "      <td>2280.0</td>\n",
       "      <td>432.0</td>\n",
       "      <td>3009733</td>\n",
       "    </tr>\n",
       "    <tr>\n",
       "      <th>4</th>\n",
       "      <td>4</td>\n",
       "      <td>Pacific</td>\n",
       "      <td>California</td>\n",
       "      <td>109008.0</td>\n",
       "      <td>20964.0</td>\n",
       "      <td>39461588</td>\n",
       "    </tr>\n",
       "  </tbody>\n",
       "</table>\n",
       "</div>"
      ],
      "text/plain": [
       "   Unnamed: 0              region       state  individuals  family_members  \\\n",
       "0           0  East South Central     Alabama       2570.0           864.0   \n",
       "1           1             Pacific      Alaska       1434.0           582.0   \n",
       "2           2            Mountain     Arizona       7259.0          2606.0   \n",
       "3           3  West South Central    Arkansas       2280.0           432.0   \n",
       "4           4             Pacific  California     109008.0         20964.0   \n",
       "\n",
       "   state_pop  \n",
       "0    4887681  \n",
       "1     735139  \n",
       "2    7158024  \n",
       "3    3009733  \n",
       "4   39461588  "
      ]
     },
     "execution_count": 209,
     "metadata": {},
     "output_type": "execute_result"
    }
   ],
   "source": [
    "# Drop duplicated values\n",
    "df.drop_duplicates(subset=\"individuals\").head()"
   ]
  },
  {
   "cell_type": "markdown",
   "id": "5b5f7122",
   "metadata": {},
   "source": [
    "### 2.3 Inspect categorical columns"
   ]
  },
  {
   "cell_type": "code",
   "execution_count": 210,
   "id": "6bb7fb6a",
   "metadata": {},
   "outputs": [
    {
     "data": {
      "application/vnd.microsoft.datawrangler.viewer.v0+json": {
       "columns": [
        {
         "name": "region",
         "rawType": "object",
         "type": "string"
        },
        {
         "name": "count",
         "rawType": "int64",
         "type": "integer"
        }
       ],
       "ref": "43a6217c-ef4f-4989-8e90-6792dd9e6e80",
       "rows": [
        [
         "South Atlantic",
         "9"
        ],
        [
         "Mountain",
         "8"
        ],
        [
         "West North Central",
         "7"
        ],
        [
         "New England",
         "6"
        ],
        [
         "Pacific",
         "5"
        ]
       ],
       "shape": {
        "columns": 1,
        "rows": 5
       }
      },
      "text/plain": [
       "region\n",
       "South Atlantic        9\n",
       "Mountain              8\n",
       "West North Central    7\n",
       "New England           6\n",
       "Pacific               5\n",
       "Name: count, dtype: int64"
      ]
     },
     "execution_count": 210,
     "metadata": {},
     "output_type": "execute_result"
    }
   ],
   "source": [
    "# Each region count in descending order\n",
    "df['region'].value_counts(sort=True).head()"
   ]
  },
  {
   "cell_type": "code",
   "execution_count": 211,
   "id": "c74aba47",
   "metadata": {},
   "outputs": [
    {
     "data": {
      "application/vnd.microsoft.datawrangler.viewer.v0+json": {
       "columns": [
        {
         "name": "region",
         "rawType": "object",
         "type": "string"
        },
        {
         "name": "proportion",
         "rawType": "float64",
         "type": "float"
        }
       ],
       "ref": "1d482451-341b-4753-a315-a2b36431b5d7",
       "rows": [
        [
         "South Atlantic",
         "0.17647058823529413"
        ],
        [
         "Mountain",
         "0.1568627450980392"
        ],
        [
         "West North Central",
         "0.13725490196078433"
        ],
        [
         "New England",
         "0.11764705882352941"
        ],
        [
         "Pacific",
         "0.09803921568627451"
        ]
       ],
       "shape": {
        "columns": 1,
        "rows": 5
       }
      },
      "text/plain": [
       "region\n",
       "South Atlantic        0.176471\n",
       "Mountain              0.156863\n",
       "West North Central    0.137255\n",
       "New England           0.117647\n",
       "Pacific               0.098039\n",
       "Name: proportion, dtype: float64"
      ]
     },
     "execution_count": 211,
     "metadata": {},
     "output_type": "execute_result"
    }
   ],
   "source": [
    "# Proportions\n",
    "df['region'].value_counts(normalize=True).head()"
   ]
  },
  {
   "cell_type": "code",
   "execution_count": 212,
   "id": "73d287e7",
   "metadata": {},
   "outputs": [
    {
     "name": "stderr",
     "output_type": "stream",
     "text": [
      "/var/folders/bh/_p1bkhtn09b6syd7vz5f61pw0000gn/T/ipykernel_10764/283757470.py:2: DtypeWarning: Columns (17) have mixed types. Specify dtype option on import or set low_memory=False.\n",
      "  Bicycle = pd.read_csv(\"../ZDatasets/Bicycle.csv\")\n"
     ]
    },
    {
     "data": {
      "application/vnd.microsoft.datawrangler.viewer.v0+json": {
       "columns": [
        {
         "name": "index",
         "rawType": "int64",
         "type": "integer"
        },
        {
         "name": "Unique_ID",
         "rawType": "int64",
         "type": "integer"
        },
        {
         "name": "NB_TRAFFIC_SURVEY",
         "rawType": "int64",
         "type": "integer"
        },
        {
         "name": "NB_LOCATION_TRAFFIC_SURVEY",
         "rawType": "int64",
         "type": "integer"
        },
        {
         "name": "Sort Des",
         "rawType": "object",
         "type": "string"
        },
        {
         "name": "DS_LOCATION",
         "rawType": "object",
         "type": "string"
        },
        {
         "name": "DT_ANALYSIS_SUMMARY",
         "rawType": "object",
         "type": "string"
        },
        {
         "name": "NB_YEAR",
         "rawType": "int64",
         "type": "integer"
        },
        {
         "name": "NB_MONTH",
         "rawType": "int64",
         "type": "integer"
        },
        {
         "name": "NB_WEEKDAY_NONHOL_QTR",
         "rawType": "int64",
         "type": "integer"
        },
        {
         "name": "CT_VOLUME_AMPEAK",
         "rawType": "int64",
         "type": "integer"
        },
        {
         "name": "CT_VOLUME_PMPEAK",
         "rawType": "int64",
         "type": "integer"
        },
        {
         "name": "CT_VOLUME_4HOUR_OFFPEAK",
         "rawType": "int64",
         "type": "integer"
        },
        {
         "name": "CT_VOLUME_12HOUR",
         "rawType": "int64",
         "type": "integer"
        },
        {
         "name": "CT_VOLUME_24HOUR",
         "rawType": "int64",
         "type": "integer"
        },
        {
         "name": "DS_HOLIDAY",
         "rawType": "object",
         "type": "unknown"
        },
        {
         "name": "NB_SEASONALITY_PERIOD",
         "rawType": "int64",
         "type": "integer"
        },
        {
         "name": "NB_TYPE_PERIOD",
         "rawType": "int64",
         "type": "integer"
        },
        {
         "name": "Primary",
         "rawType": "object",
         "type": "unknown"
        },
        {
         "name": "weekend",
         "rawType": "bool",
         "type": "boolean"
        },
        {
         "name": "Quarter",
         "rawType": "int64",
         "type": "integer"
        },
        {
         "name": "Season",
         "rawType": "object",
         "type": "string"
        },
        {
         "name": "Cyclying Season",
         "rawType": "object",
         "type": "string"
        },
        {
         "name": "day",
         "rawType": "object",
         "type": "string"
        }
       ],
       "ref": "6bb96c07-582a-4fbc-950c-6f02dd65bec9",
       "rows": [
        [
         "0",
         "1",
         "9305",
         "3",
         "St Georges St Hawthorn",
         "(BIKE PATH)ST. GEORGES ST 2WAY 50M S OF HAWTHORN RD TEST SITE",
         "09/06/2007",
         "2007",
         "6",
         "0",
         "39",
         "46",
         "144",
         "390",
         "480",
         null,
         "11",
         "3",
         "False",
         "True",
         "2",
         "Winter",
         "Non-Cycling",
         "Sat"
        ],
        [
         "1",
         "2",
         "9306",
         "1",
         "Flemington Rd NW Bound Lane",
         "(BIKE LANE)FLEMINGTON RD NW BD 10M SE OF DRYBURGH ST",
         "17/03/2008",
         "2008",
         "3",
         "41",
         "62",
         "82",
         "176",
         "572",
         "654",
         null,
         "6",
         "1",
         "False",
         "False",
         "1",
         "Autumn",
         "Cycling",
         "Mon"
        ],
        [
         "2",
         "3",
         "9306",
         "1",
         "Flemington Rd NW Bound Lane",
         "(BIKE LANE)FLEMINGTON RD NW BD 10M SE OF DRYBURGH ST",
         "19/03/2008",
         "2008",
         "3",
         "41",
         "59",
         "117",
         "193",
         "672",
         "794",
         null,
         "6",
         "1",
         "False",
         "False",
         "1",
         "Autumn",
         "Cycling",
         "Wed"
        ],
        [
         "3",
         "4",
         "9306",
         "1",
         "Flemington Rd NW Bound Lane",
         "(BIKE LANE)FLEMINGTON RD NW BD 10M SE OF DRYBURGH ST",
         "20/03/2008",
         "2008",
         "3",
         "0",
         "59",
         "80",
         "208",
         "622",
         "732",
         "EASTHU",
         "7",
         "3",
         "False",
         "False",
         "1",
         "Autumn",
         "Cycling",
         "Thu"
        ],
        [
         "4",
         "5",
         "9306",
         "1",
         "Flemington Rd NW Bound Lane",
         "(BIKE LANE)FLEMINGTON RD NW BD 10M SE OF DRYBURGH ST",
         "21/03/2008",
         "2008",
         "3",
         "0",
         "18",
         "24",
         "62",
         "152",
         "221",
         "EASTER",
         "7",
         "3",
         "False",
         "False",
         "1",
         "Autumn",
         "Cycling",
         "Fri"
        ]
       ],
       "shape": {
        "columns": 23,
        "rows": 5
       }
      },
      "text/html": [
       "<div>\n",
       "<style scoped>\n",
       "    .dataframe tbody tr th:only-of-type {\n",
       "        vertical-align: middle;\n",
       "    }\n",
       "\n",
       "    .dataframe tbody tr th {\n",
       "        vertical-align: top;\n",
       "    }\n",
       "\n",
       "    .dataframe thead th {\n",
       "        text-align: right;\n",
       "    }\n",
       "</style>\n",
       "<table border=\"1\" class=\"dataframe\">\n",
       "  <thead>\n",
       "    <tr style=\"text-align: right;\">\n",
       "      <th></th>\n",
       "      <th>Unique_ID</th>\n",
       "      <th>NB_TRAFFIC_SURVEY</th>\n",
       "      <th>NB_LOCATION_TRAFFIC_SURVEY</th>\n",
       "      <th>Sort Des</th>\n",
       "      <th>DS_LOCATION</th>\n",
       "      <th>DT_ANALYSIS_SUMMARY</th>\n",
       "      <th>NB_YEAR</th>\n",
       "      <th>NB_MONTH</th>\n",
       "      <th>NB_WEEKDAY_NONHOL_QTR</th>\n",
       "      <th>CT_VOLUME_AMPEAK</th>\n",
       "      <th>...</th>\n",
       "      <th>CT_VOLUME_24HOUR</th>\n",
       "      <th>DS_HOLIDAY</th>\n",
       "      <th>NB_SEASONALITY_PERIOD</th>\n",
       "      <th>NB_TYPE_PERIOD</th>\n",
       "      <th>Primary</th>\n",
       "      <th>weekend</th>\n",
       "      <th>Quarter</th>\n",
       "      <th>Season</th>\n",
       "      <th>Cyclying Season</th>\n",
       "      <th>day</th>\n",
       "    </tr>\n",
       "  </thead>\n",
       "  <tbody>\n",
       "    <tr>\n",
       "      <th>0</th>\n",
       "      <td>1</td>\n",
       "      <td>9305</td>\n",
       "      <td>3</td>\n",
       "      <td>St Georges St Hawthorn</td>\n",
       "      <td>(BIKE PATH)ST. GEORGES ST 2WAY 50M S OF HAWTHO...</td>\n",
       "      <td>09/06/2007</td>\n",
       "      <td>2007</td>\n",
       "      <td>6</td>\n",
       "      <td>0</td>\n",
       "      <td>39</td>\n",
       "      <td>...</td>\n",
       "      <td>480</td>\n",
       "      <td>NaN</td>\n",
       "      <td>11</td>\n",
       "      <td>3</td>\n",
       "      <td>False</td>\n",
       "      <td>True</td>\n",
       "      <td>2</td>\n",
       "      <td>Winter</td>\n",
       "      <td>Non-Cycling</td>\n",
       "      <td>Sat</td>\n",
       "    </tr>\n",
       "    <tr>\n",
       "      <th>1</th>\n",
       "      <td>2</td>\n",
       "      <td>9306</td>\n",
       "      <td>1</td>\n",
       "      <td>Flemington Rd NW Bound Lane</td>\n",
       "      <td>(BIKE LANE)FLEMINGTON RD NW BD 10M SE OF DRYBU...</td>\n",
       "      <td>17/03/2008</td>\n",
       "      <td>2008</td>\n",
       "      <td>3</td>\n",
       "      <td>41</td>\n",
       "      <td>62</td>\n",
       "      <td>...</td>\n",
       "      <td>654</td>\n",
       "      <td>NaN</td>\n",
       "      <td>6</td>\n",
       "      <td>1</td>\n",
       "      <td>False</td>\n",
       "      <td>False</td>\n",
       "      <td>1</td>\n",
       "      <td>Autumn</td>\n",
       "      <td>Cycling</td>\n",
       "      <td>Mon</td>\n",
       "    </tr>\n",
       "    <tr>\n",
       "      <th>2</th>\n",
       "      <td>3</td>\n",
       "      <td>9306</td>\n",
       "      <td>1</td>\n",
       "      <td>Flemington Rd NW Bound Lane</td>\n",
       "      <td>(BIKE LANE)FLEMINGTON RD NW BD 10M SE OF DRYBU...</td>\n",
       "      <td>19/03/2008</td>\n",
       "      <td>2008</td>\n",
       "      <td>3</td>\n",
       "      <td>41</td>\n",
       "      <td>59</td>\n",
       "      <td>...</td>\n",
       "      <td>794</td>\n",
       "      <td>NaN</td>\n",
       "      <td>6</td>\n",
       "      <td>1</td>\n",
       "      <td>False</td>\n",
       "      <td>False</td>\n",
       "      <td>1</td>\n",
       "      <td>Autumn</td>\n",
       "      <td>Cycling</td>\n",
       "      <td>Wed</td>\n",
       "    </tr>\n",
       "    <tr>\n",
       "      <th>3</th>\n",
       "      <td>4</td>\n",
       "      <td>9306</td>\n",
       "      <td>1</td>\n",
       "      <td>Flemington Rd NW Bound Lane</td>\n",
       "      <td>(BIKE LANE)FLEMINGTON RD NW BD 10M SE OF DRYBU...</td>\n",
       "      <td>20/03/2008</td>\n",
       "      <td>2008</td>\n",
       "      <td>3</td>\n",
       "      <td>0</td>\n",
       "      <td>59</td>\n",
       "      <td>...</td>\n",
       "      <td>732</td>\n",
       "      <td>EASTHU</td>\n",
       "      <td>7</td>\n",
       "      <td>3</td>\n",
       "      <td>False</td>\n",
       "      <td>False</td>\n",
       "      <td>1</td>\n",
       "      <td>Autumn</td>\n",
       "      <td>Cycling</td>\n",
       "      <td>Thu</td>\n",
       "    </tr>\n",
       "    <tr>\n",
       "      <th>4</th>\n",
       "      <td>5</td>\n",
       "      <td>9306</td>\n",
       "      <td>1</td>\n",
       "      <td>Flemington Rd NW Bound Lane</td>\n",
       "      <td>(BIKE LANE)FLEMINGTON RD NW BD 10M SE OF DRYBU...</td>\n",
       "      <td>21/03/2008</td>\n",
       "      <td>2008</td>\n",
       "      <td>3</td>\n",
       "      <td>0</td>\n",
       "      <td>18</td>\n",
       "      <td>...</td>\n",
       "      <td>221</td>\n",
       "      <td>EASTER</td>\n",
       "      <td>7</td>\n",
       "      <td>3</td>\n",
       "      <td>False</td>\n",
       "      <td>False</td>\n",
       "      <td>1</td>\n",
       "      <td>Autumn</td>\n",
       "      <td>Cycling</td>\n",
       "      <td>Fri</td>\n",
       "    </tr>\n",
       "  </tbody>\n",
       "</table>\n",
       "<p>5 rows × 23 columns</p>\n",
       "</div>"
      ],
      "text/plain": [
       "   Unique_ID  NB_TRAFFIC_SURVEY  NB_LOCATION_TRAFFIC_SURVEY  \\\n",
       "0          1               9305                           3   \n",
       "1          2               9306                           1   \n",
       "2          3               9306                           1   \n",
       "3          4               9306                           1   \n",
       "4          5               9306                           1   \n",
       "\n",
       "                      Sort Des  \\\n",
       "0       St Georges St Hawthorn   \n",
       "1  Flemington Rd NW Bound Lane   \n",
       "2  Flemington Rd NW Bound Lane   \n",
       "3  Flemington Rd NW Bound Lane   \n",
       "4  Flemington Rd NW Bound Lane   \n",
       "\n",
       "                                         DS_LOCATION DT_ANALYSIS_SUMMARY  \\\n",
       "0  (BIKE PATH)ST. GEORGES ST 2WAY 50M S OF HAWTHO...          09/06/2007   \n",
       "1  (BIKE LANE)FLEMINGTON RD NW BD 10M SE OF DRYBU...          17/03/2008   \n",
       "2  (BIKE LANE)FLEMINGTON RD NW BD 10M SE OF DRYBU...          19/03/2008   \n",
       "3  (BIKE LANE)FLEMINGTON RD NW BD 10M SE OF DRYBU...          20/03/2008   \n",
       "4  (BIKE LANE)FLEMINGTON RD NW BD 10M SE OF DRYBU...          21/03/2008   \n",
       "\n",
       "   NB_YEAR  NB_MONTH  NB_WEEKDAY_NONHOL_QTR  CT_VOLUME_AMPEAK  ...  \\\n",
       "0     2007         6                      0                39  ...   \n",
       "1     2008         3                     41                62  ...   \n",
       "2     2008         3                     41                59  ...   \n",
       "3     2008         3                      0                59  ...   \n",
       "4     2008         3                      0                18  ...   \n",
       "\n",
       "   CT_VOLUME_24HOUR  DS_HOLIDAY  NB_SEASONALITY_PERIOD  NB_TYPE_PERIOD  \\\n",
       "0               480         NaN                     11               3   \n",
       "1               654         NaN                      6               1   \n",
       "2               794         NaN                      6               1   \n",
       "3               732      EASTHU                      7               3   \n",
       "4               221      EASTER                      7               3   \n",
       "\n",
       "  Primary  weekend  Quarter  Season  Cyclying Season  day  \n",
       "0   False     True        2  Winter      Non-Cycling  Sat  \n",
       "1   False    False        1  Autumn          Cycling  Mon  \n",
       "2   False    False        1  Autumn          Cycling  Wed  \n",
       "3   False    False        1  Autumn          Cycling  Thu  \n",
       "4   False    False        1  Autumn          Cycling  Fri  \n",
       "\n",
       "[5 rows x 23 columns]"
      ]
     },
     "execution_count": 212,
     "metadata": {},
     "output_type": "execute_result"
    }
   ],
   "source": [
    "# New dataframe\n",
    "Bicycle = pd.read_csv(\"../ZDatasets/Bicycle.csv\")\n",
    "Bicycle.head()"
   ]
  },
  {
   "cell_type": "markdown",
   "id": "6b9a0a14",
   "metadata": {},
   "source": [
    "### 2.4 Pivot tables"
   ]
  },
  {
   "cell_type": "code",
   "execution_count": 213,
   "id": "d7b54dfe",
   "metadata": {},
   "outputs": [
    {
     "data": {
      "application/vnd.microsoft.datawrangler.viewer.v0+json": {
       "columns": [
        {
         "name": "Season",
         "rawType": "object",
         "type": "string"
        },
        {
         "name": "Fri",
         "rawType": "float64",
         "type": "float"
        },
        {
         "name": "Mon",
         "rawType": "float64",
         "type": "float"
        },
        {
         "name": "Sat",
         "rawType": "float64",
         "type": "float"
        },
        {
         "name": "Sun",
         "rawType": "float64",
         "type": "float"
        },
        {
         "name": "Thu",
         "rawType": "float64",
         "type": "float"
        },
        {
         "name": "Tue",
         "rawType": "float64",
         "type": "float"
        },
        {
         "name": "Wed",
         "rawType": "float64",
         "type": "float"
        },
        {
         "name": "All",
         "rawType": "float64",
         "type": "float"
        }
       ],
       "ref": "35563a94-78e5-4ff0-91ce-8f8144737602",
       "rows": [
        [
         "Autumn",
         "86.0",
         "109.0",
         "50.0",
         "56.0",
         "108.0",
         "121.0",
         "118.0",
         "83.0"
        ],
        [
         "Spring",
         "79.0",
         "112.0",
         "45.0",
         "53.0",
         "105.5",
         "111.0",
         "115.0",
         "80.0"
        ],
        [
         "Summer",
         "72.0",
         "102.0",
         "43.0",
         "48.0",
         "99.0",
         "110.0",
         "101.0",
         "72.0"
        ],
        [
         "Winter",
         "66.0",
         "85.0",
         "41.0",
         "45.0",
         "81.0",
         "90.0",
         "86.0",
         "63.0"
        ],
        [
         "All",
         "75.0",
         "100.0",
         "44.0",
         "50.0",
         "98.0",
         "107.0",
         "103.0",
         "74.0"
        ]
       ],
       "shape": {
        "columns": 8,
        "rows": 5
       }
      },
      "text/html": [
       "<div>\n",
       "<style scoped>\n",
       "    .dataframe tbody tr th:only-of-type {\n",
       "        vertical-align: middle;\n",
       "    }\n",
       "\n",
       "    .dataframe tbody tr th {\n",
       "        vertical-align: top;\n",
       "    }\n",
       "\n",
       "    .dataframe thead th {\n",
       "        text-align: right;\n",
       "    }\n",
       "</style>\n",
       "<table border=\"1\" class=\"dataframe\">\n",
       "  <thead>\n",
       "    <tr style=\"text-align: right;\">\n",
       "      <th>day</th>\n",
       "      <th>Fri</th>\n",
       "      <th>Mon</th>\n",
       "      <th>Sat</th>\n",
       "      <th>Sun</th>\n",
       "      <th>Thu</th>\n",
       "      <th>Tue</th>\n",
       "      <th>Wed</th>\n",
       "      <th>All</th>\n",
       "    </tr>\n",
       "    <tr>\n",
       "      <th>Season</th>\n",
       "      <th></th>\n",
       "      <th></th>\n",
       "      <th></th>\n",
       "      <th></th>\n",
       "      <th></th>\n",
       "      <th></th>\n",
       "      <th></th>\n",
       "      <th></th>\n",
       "    </tr>\n",
       "  </thead>\n",
       "  <tbody>\n",
       "    <tr>\n",
       "      <th>Autumn</th>\n",
       "      <td>86.0</td>\n",
       "      <td>109.0</td>\n",
       "      <td>50.0</td>\n",
       "      <td>56.0</td>\n",
       "      <td>108.0</td>\n",
       "      <td>121.0</td>\n",
       "      <td>118.0</td>\n",
       "      <td>83.0</td>\n",
       "    </tr>\n",
       "    <tr>\n",
       "      <th>Spring</th>\n",
       "      <td>79.0</td>\n",
       "      <td>112.0</td>\n",
       "      <td>45.0</td>\n",
       "      <td>53.0</td>\n",
       "      <td>105.5</td>\n",
       "      <td>111.0</td>\n",
       "      <td>115.0</td>\n",
       "      <td>80.0</td>\n",
       "    </tr>\n",
       "    <tr>\n",
       "      <th>Summer</th>\n",
       "      <td>72.0</td>\n",
       "      <td>102.0</td>\n",
       "      <td>43.0</td>\n",
       "      <td>48.0</td>\n",
       "      <td>99.0</td>\n",
       "      <td>110.0</td>\n",
       "      <td>101.0</td>\n",
       "      <td>72.0</td>\n",
       "    </tr>\n",
       "    <tr>\n",
       "      <th>Winter</th>\n",
       "      <td>66.0</td>\n",
       "      <td>85.0</td>\n",
       "      <td>41.0</td>\n",
       "      <td>45.0</td>\n",
       "      <td>81.0</td>\n",
       "      <td>90.0</td>\n",
       "      <td>86.0</td>\n",
       "      <td>63.0</td>\n",
       "    </tr>\n",
       "    <tr>\n",
       "      <th>All</th>\n",
       "      <td>75.0</td>\n",
       "      <td>100.0</td>\n",
       "      <td>44.0</td>\n",
       "      <td>50.0</td>\n",
       "      <td>98.0</td>\n",
       "      <td>107.0</td>\n",
       "      <td>103.0</td>\n",
       "      <td>74.0</td>\n",
       "    </tr>\n",
       "  </tbody>\n",
       "</table>\n",
       "</div>"
      ],
      "text/plain": [
       "day      Fri    Mon   Sat   Sun    Thu    Tue    Wed   All\n",
       "Season                                                    \n",
       "Autumn  86.0  109.0  50.0  56.0  108.0  121.0  118.0  83.0\n",
       "Spring  79.0  112.0  45.0  53.0  105.5  111.0  115.0  80.0\n",
       "Summer  72.0  102.0  43.0  48.0   99.0  110.0  101.0  72.0\n",
       "Winter  66.0   85.0  41.0  45.0   81.0   90.0   86.0  63.0\n",
       "All     75.0  100.0  44.0  50.0   98.0  107.0  103.0  74.0"
      ]
     },
     "execution_count": 213,
     "metadata": {},
     "output_type": "execute_result"
    }
   ],
   "source": [
    "Bicycle.pivot_table(values=\"CT_VOLUME_PMPEAK\", index = \"Season\", columns = \"day\",aggfunc = \"median\", margins=True)"
   ]
  },
  {
   "cell_type": "markdown",
   "id": "6c527746",
   "metadata": {},
   "source": [
    "## 3. Explicit indexes"
   ]
  },
  {
   "cell_type": "markdown",
   "id": "e3ed8023",
   "metadata": {},
   "source": [
    "### 3.1 Setting a column as the index"
   ]
  },
  {
   "cell_type": "code",
   "execution_count": 214,
   "id": "628eaf8c",
   "metadata": {},
   "outputs": [
    {
     "data": {
      "application/vnd.microsoft.datawrangler.viewer.v0+json": {
       "columns": [
        {
         "name": "index",
         "rawType": "int64",
         "type": "integer"
        },
        {
         "name": "Unique_ID",
         "rawType": "int64",
         "type": "integer"
        },
        {
         "name": "NB_TRAFFIC_SURVEY",
         "rawType": "int64",
         "type": "integer"
        },
        {
         "name": "NB_LOCATION_TRAFFIC_SURVEY",
         "rawType": "int64",
         "type": "integer"
        },
        {
         "name": "Sort Des",
         "rawType": "object",
         "type": "string"
        },
        {
         "name": "DS_LOCATION",
         "rawType": "object",
         "type": "string"
        },
        {
         "name": "DT_ANALYSIS_SUMMARY",
         "rawType": "object",
         "type": "string"
        },
        {
         "name": "NB_YEAR",
         "rawType": "int64",
         "type": "integer"
        },
        {
         "name": "NB_MONTH",
         "rawType": "int64",
         "type": "integer"
        },
        {
         "name": "NB_WEEKDAY_NONHOL_QTR",
         "rawType": "int64",
         "type": "integer"
        },
        {
         "name": "CT_VOLUME_AMPEAK",
         "rawType": "int64",
         "type": "integer"
        },
        {
         "name": "CT_VOLUME_PMPEAK",
         "rawType": "int64",
         "type": "integer"
        },
        {
         "name": "CT_VOLUME_4HOUR_OFFPEAK",
         "rawType": "int64",
         "type": "integer"
        },
        {
         "name": "CT_VOLUME_12HOUR",
         "rawType": "int64",
         "type": "integer"
        },
        {
         "name": "CT_VOLUME_24HOUR",
         "rawType": "int64",
         "type": "integer"
        },
        {
         "name": "DS_HOLIDAY",
         "rawType": "object",
         "type": "unknown"
        },
        {
         "name": "NB_SEASONALITY_PERIOD",
         "rawType": "int64",
         "type": "integer"
        },
        {
         "name": "NB_TYPE_PERIOD",
         "rawType": "int64",
         "type": "integer"
        },
        {
         "name": "Primary",
         "rawType": "object",
         "type": "unknown"
        },
        {
         "name": "weekend",
         "rawType": "bool",
         "type": "boolean"
        },
        {
         "name": "Quarter",
         "rawType": "int64",
         "type": "integer"
        },
        {
         "name": "Season",
         "rawType": "object",
         "type": "string"
        },
        {
         "name": "Cyclying Season",
         "rawType": "object",
         "type": "string"
        },
        {
         "name": "day",
         "rawType": "object",
         "type": "string"
        }
       ],
       "ref": "3be42709-595f-4af6-80a5-a361f14870f1",
       "rows": [
        [
         "0",
         "1",
         "9305",
         "3",
         "St Georges St Hawthorn",
         "(BIKE PATH)ST. GEORGES ST 2WAY 50M S OF HAWTHORN RD TEST SITE",
         "09/06/2007",
         "2007",
         "6",
         "0",
         "39",
         "46",
         "144",
         "390",
         "480",
         null,
         "11",
         "3",
         "False",
         "True",
         "2",
         "Winter",
         "Non-Cycling",
         "Sat"
        ],
        [
         "1",
         "2",
         "9306",
         "1",
         "Flemington Rd NW Bound Lane",
         "(BIKE LANE)FLEMINGTON RD NW BD 10M SE OF DRYBURGH ST",
         "17/03/2008",
         "2008",
         "3",
         "41",
         "62",
         "82",
         "176",
         "572",
         "654",
         null,
         "6",
         "1",
         "False",
         "False",
         "1",
         "Autumn",
         "Cycling",
         "Mon"
        ],
        [
         "2",
         "3",
         "9306",
         "1",
         "Flemington Rd NW Bound Lane",
         "(BIKE LANE)FLEMINGTON RD NW BD 10M SE OF DRYBURGH ST",
         "19/03/2008",
         "2008",
         "3",
         "41",
         "59",
         "117",
         "193",
         "672",
         "794",
         null,
         "6",
         "1",
         "False",
         "False",
         "1",
         "Autumn",
         "Cycling",
         "Wed"
        ],
        [
         "3",
         "4",
         "9306",
         "1",
         "Flemington Rd NW Bound Lane",
         "(BIKE LANE)FLEMINGTON RD NW BD 10M SE OF DRYBURGH ST",
         "20/03/2008",
         "2008",
         "3",
         "0",
         "59",
         "80",
         "208",
         "622",
         "732",
         "EASTHU",
         "7",
         "3",
         "False",
         "False",
         "1",
         "Autumn",
         "Cycling",
         "Thu"
        ],
        [
         "4",
         "5",
         "9306",
         "1",
         "Flemington Rd NW Bound Lane",
         "(BIKE LANE)FLEMINGTON RD NW BD 10M SE OF DRYBURGH ST",
         "21/03/2008",
         "2008",
         "3",
         "0",
         "18",
         "24",
         "62",
         "152",
         "221",
         "EASTER",
         "7",
         "3",
         "False",
         "False",
         "1",
         "Autumn",
         "Cycling",
         "Fri"
        ],
        [
         "5",
         "6",
         "9306",
         "1",
         "Flemington Rd NW Bound Lane",
         "(BIKE LANE)FLEMINGTON RD NW BD 10M SE OF DRYBURGH ST",
         "22/03/2008",
         "2008",
         "3",
         "0",
         "19",
         "28",
         "86",
         "216",
         "271",
         "EASTER",
         "7",
         "3",
         "False",
         "True",
         "1",
         "Autumn",
         "Cycling",
         "Sat"
        ],
        [
         "6",
         "7",
         "9306",
         "1",
         "Flemington Rd NW Bound Lane",
         "(BIKE LANE)FLEMINGTON RD NW BD 10M SE OF DRYBURGH ST",
         "23/03/2008",
         "2008",
         "3",
         "0",
         "11",
         "33",
         "56",
         "186",
         "272",
         "EASTER",
         "7",
         "3",
         "False",
         "True",
         "1",
         "Autumn",
         "Cycling",
         "Sun"
        ],
        [
         "7",
         "8",
         "9306",
         "1",
         "Flemington Rd NW Bound Lane",
         "(BIKE LANE)FLEMINGTON RD NW BD 10M SE OF DRYBURGH ST",
         "24/03/2008",
         "2008",
         "3",
         "0",
         "16",
         "27",
         "51",
         "170",
         "227",
         "EASTER",
         "7",
         "3",
         "False",
         "False",
         "1",
         "Autumn",
         "Cycling",
         "Mon"
        ],
        [
         "8",
         "9",
         "9306",
         "1",
         "Flemington Rd NW Bound Lane",
         "(BIKE LANE)FLEMINGTON RD NW BD 10M SE OF DRYBURGH ST",
         "25/03/2008",
         "2008",
         "3",
         "0",
         "18",
         "59",
         "55",
         "278",
         "375",
         "EASTUE",
         "7",
         "3",
         "False",
         "False",
         "1",
         "Autumn",
         "Cycling",
         "Tue"
        ],
        [
         "9",
         "10",
         "9306",
         "1",
         "Flemington Rd NW Bound Lane",
         "(BIKE LANE)FLEMINGTON RD NW BD 10M SE OF DRYBURGH ST",
         "26/03/2008",
         "2008",
         "3",
         "0",
         "27",
         "124",
         "109",
         "447",
         "542",
         "S/HOLS",
         "8",
         "2",
         "False",
         "False",
         "1",
         "Autumn",
         "Cycling",
         "Wed"
        ],
        [
         "10",
         "11",
         "9306",
         "1",
         "Flemington Rd NW Bound Lane",
         "(BIKE LANE)FLEMINGTON RD NW BD 10M SE OF DRYBURGH ST",
         "27/03/2008",
         "2008",
         "3",
         "0",
         "34",
         "63",
         "120",
         "400",
         "490",
         "S/HOLS",
         "8",
         "2",
         "False",
         "False",
         "1",
         "Autumn",
         "Cycling",
         "Thu"
        ],
        [
         "11",
         "12",
         "9306",
         "1",
         "Flemington Rd NW Bound Lane",
         "(BIKE LANE)FLEMINGTON RD NW BD 10M SE OF DRYBURGH ST",
         "28/03/2008",
         "2008",
         "3",
         "0",
         "26",
         "170",
         "113",
         "484",
         "567",
         "S/HOLS",
         "8",
         "2",
         "False",
         "False",
         "1",
         "Autumn",
         "Cycling",
         "Fri"
        ],
        [
         "12",
         "13",
         "9306",
         "1",
         "Flemington Rd NW Bound Lane",
         "(BIKE LANE)FLEMINGTON RD NW BD 10M SE OF DRYBURGH ST",
         "29/03/2008",
         "2008",
         "3",
         "0",
         "26",
         "39",
         "92",
         "251",
         "341",
         "S/HOLS",
         "8",
         "2",
         "False",
         "True",
         "1",
         "Autumn",
         "Cycling",
         "Sat"
        ],
        [
         "13",
         "14",
         "9306",
         "1",
         "Flemington Rd NW Bound Lane",
         "(BIKE LANE)FLEMINGTON RD NW BD 10M SE OF DRYBURGH ST",
         "30/03/2008",
         "2008",
         "3",
         "0",
         "24",
         "33",
         "90",
         "228",
         "286",
         "S/HOLS",
         "8",
         "2",
         "False",
         "True",
         "1",
         "Autumn",
         "Cycling",
         "Sun"
        ],
        [
         "14",
         "15",
         "9306",
         "1",
         "Flemington Rd NW Bound Lane",
         "(BIKE LANE)FLEMINGTON RD NW BD 10M SE OF DRYBURGH ST",
         "11/12/2010",
         "2010",
         "12",
         "0",
         "9",
         "24",
         "34",
         "116",
         "179",
         null,
         "19",
         "1",
         "False",
         "True",
         "4",
         "Summer",
         "Cycling",
         "Sat"
        ],
        [
         "15",
         "16",
         "9306",
         "1",
         "Flemington Rd NW Bound Lane",
         "(BIKE LANE)FLEMINGTON RD NW BD 10M SE OF DRYBURGH ST",
         "12/12/2010",
         "2010",
         "12",
         "0",
         "10",
         "17",
         "26",
         "97",
         "133",
         null,
         "19",
         "1",
         "False",
         "True",
         "4",
         "Summer",
         "Cycling",
         "Sun"
        ],
        [
         "16",
         "17",
         "9306",
         "1",
         "Flemington Rd NW Bound Lane",
         "(BIKE LANE)FLEMINGTON RD NW BD 10M SE OF DRYBURGH ST",
         "13/12/2010",
         "2010",
         "12",
         "0",
         "15",
         "101",
         "42",
         "325",
         "386",
         null,
         "20",
         "3",
         "False",
         "False",
         "4",
         "Summer",
         "Cycling",
         "Mon"
        ],
        [
         "17",
         "18",
         "9306",
         "1",
         "Flemington Rd NW Bound Lane",
         "(BIKE LANE)FLEMINGTON RD NW BD 10M SE OF DRYBURGH ST",
         "14/12/2010",
         "2010",
         "12",
         "0",
         "10",
         "135",
         "46",
         "350",
         "435",
         null,
         "20",
         "3",
         "False",
         "False",
         "4",
         "Summer",
         "Cycling",
         "Tue"
        ],
        [
         "18",
         "19",
         "9306",
         "1",
         "Flemington Rd NW Bound Lane",
         "(BIKE LANE)FLEMINGTON RD NW BD 10M SE OF DRYBURGH ST",
         "15/12/2010",
         "2010",
         "12",
         "0",
         "12",
         "99",
         "41",
         "307",
         "385",
         null,
         "20",
         "3",
         "False",
         "False",
         "4",
         "Summer",
         "Cycling",
         "Wed"
        ],
        [
         "19",
         "20",
         "9306",
         "1",
         "Flemington Rd NW Bound Lane",
         "(BIKE LANE)FLEMINGTON RD NW BD 10M SE OF DRYBURGH ST",
         "16/12/2010",
         "2010",
         "12",
         "0",
         "13",
         "95",
         "28",
         "303",
         "396",
         null,
         "20",
         "3",
         "False",
         "False",
         "4",
         "Summer",
         "Cycling",
         "Thu"
        ],
        [
         "20",
         "21",
         "9306",
         "1",
         "Flemington Rd NW Bound Lane",
         "(BIKE LANE)FLEMINGTON RD NW BD 10M SE OF DRYBURGH ST",
         "17/12/2010",
         "2010",
         "12",
         "0",
         "33",
         "67",
         "25",
         "204",
         "277",
         null,
         "20",
         "3",
         "False",
         "False",
         "4",
         "Summer",
         "Cycling",
         "Fri"
        ],
        [
         "21",
         "22",
         "9306",
         "1",
         "Flemington Rd NW Bound Lane",
         "(BIKE LANE)FLEMINGTON RD NW BD 10M SE OF DRYBURGH ST",
         "18/12/2010",
         "2010",
         "12",
         "0",
         "8",
         "10",
         "27",
         "76",
         "122",
         "S/HOLS",
         "20",
         "3",
         "False",
         "True",
         "4",
         "Summer",
         "Cycling",
         "Sat"
        ],
        [
         "22",
         "23",
         "9306",
         "1",
         "Flemington Rd NW Bound Lane",
         "(BIKE LANE)FLEMINGTON RD NW BD 10M SE OF DRYBURGH ST",
         "19/12/2010",
         "2010",
         "12",
         "0",
         "12",
         "11",
         "27",
         "68",
         "107",
         "S/HOLS",
         "20",
         "3",
         "False",
         "True",
         "4",
         "Summer",
         "Cycling",
         "Sun"
        ],
        [
         "23",
         "24",
         "9306",
         "1",
         "Flemington Rd NW Bound Lane",
         "(BIKE LANE)FLEMINGTON RD NW BD 10M SE OF DRYBURGH ST",
         "20/12/2010",
         "2010",
         "12",
         "0",
         "11",
         "79",
         "30",
         "221",
         "283",
         "S/HOLS",
         "20",
         "3",
         "False",
         "False",
         "4",
         "Summer",
         "Cycling",
         "Mon"
        ],
        [
         "24",
         "25",
         "9306",
         "1",
         "Flemington Rd NW Bound Lane",
         "(BIKE LANE)FLEMINGTON RD NW BD 10M SE OF DRYBURGH ST",
         "21/12/2010",
         "2010",
         "12",
         "0",
         "9",
         "96",
         "35",
         "252",
         "309",
         "S/HOLS",
         "20",
         "3",
         "False",
         "False",
         "4",
         "Summer",
         "Cycling",
         "Tue"
        ],
        [
         "25",
         "26",
         "9306",
         "1",
         "Flemington Rd NW Bound Lane",
         "(BIKE LANE)FLEMINGTON RD NW BD 10M SE OF DRYBURGH ST",
         "22/12/2010",
         "2010",
         "12",
         "0",
         "14",
         "85",
         "37",
         "267",
         "355",
         "S/HOLS",
         "20",
         "3",
         "False",
         "False",
         "4",
         "Summer",
         "Cycling",
         "Wed"
        ],
        [
         "26",
         "27",
         "9306",
         "1",
         "Flemington Rd NW Bound Lane",
         "(BIKE LANE)FLEMINGTON RD NW BD 10M SE OF DRYBURGH ST",
         "23/12/2010",
         "2010",
         "12",
         "0",
         "9",
         "54",
         "40",
         "228",
         "290",
         "S/HOLS",
         "20",
         "3",
         "False",
         "False",
         "4",
         "Summer",
         "Cycling",
         "Thu"
        ],
        [
         "27",
         "28",
         "9306",
         "1",
         "Flemington Rd NW Bound Lane",
         "(BIKE LANE)FLEMINGTON RD NW BD 10M SE OF DRYBURGH ST",
         "24/12/2010",
         "2010",
         "12",
         "0",
         "11",
         "26",
         "55",
         "168",
         "192",
         "S/HOLS",
         "20",
         "3",
         "False",
         "False",
         "4",
         "Summer",
         "Cycling",
         "Fri"
        ],
        [
         "28",
         "29",
         "9306",
         "1",
         "Flemington Rd NW Bound Lane",
         "(BIKE LANE)FLEMINGTON RD NW BD 10M SE OF DRYBURGH ST",
         "25/12/2010",
         "2010",
         "12",
         "0",
         "6",
         "11",
         "18",
         "40",
         "61",
         "XMAS",
         "21",
         "3",
         "False",
         "True",
         "4",
         "Summer",
         "Cycling",
         "Sat"
        ],
        [
         "29",
         "30",
         "9306",
         "1",
         "Flemington Rd NW Bound Lane",
         "(BIKE LANE)FLEMINGTON RD NW BD 10M SE OF DRYBURGH ST",
         "26/12/2010",
         "2010",
         "12",
         "0",
         "10",
         "11",
         "26",
         "80",
         "102",
         "BOXING",
         "22",
         "3",
         "False",
         "True",
         "4",
         "Summer",
         "Cycling",
         "Sun"
        ],
        [
         "30",
         "31",
         "9306",
         "1",
         "Flemington Rd NW Bound Lane",
         "(BIKE LANE)FLEMINGTON RD NW BD 10M SE OF DRYBURGH ST",
         "27/12/2010",
         "2010",
         "12",
         "0",
         "13",
         "13",
         "20",
         "75",
         "102",
         "XMSHOL",
         "23",
         "3",
         "False",
         "False",
         "4",
         "Summer",
         "Cycling",
         "Mon"
        ],
        [
         "31",
         "32",
         "9306",
         "1",
         "Flemington Rd NW Bound Lane",
         "(BIKE LANE)FLEMINGTON RD NW BD 10M SE OF DRYBURGH ST",
         "28/12/2010",
         "2010",
         "12",
         "0",
         "11",
         "17",
         "25",
         "102",
         "130",
         "BOXHOL",
         "23",
         "3",
         "False",
         "False",
         "4",
         "Summer",
         "Cycling",
         "Tue"
        ],
        [
         "32",
         "33",
         "9306",
         "1",
         "Flemington Rd NW Bound Lane",
         "(BIKE LANE)FLEMINGTON RD NW BD 10M SE OF DRYBURGH ST",
         "29/12/2010",
         "2010",
         "12",
         "0",
         "10",
         "37",
         "38",
         "151",
         "202",
         "S/HOLS",
         "23",
         "3",
         "False",
         "False",
         "4",
         "Summer",
         "Cycling",
         "Wed"
        ],
        [
         "33",
         "34",
         "9306",
         "1",
         "Flemington Rd NW Bound Lane",
         "(BIKE LANE)FLEMINGTON RD NW BD 10M SE OF DRYBURGH ST",
         "30/12/2010",
         "2010",
         "12",
         "0",
         "9",
         "31",
         "28",
         "142",
         "191",
         "S/HOLS",
         "23",
         "3",
         "False",
         "False",
         "4",
         "Summer",
         "Cycling",
         "Thu"
        ],
        [
         "34",
         "35",
         "9306",
         "1",
         "Flemington Rd NW Bound Lane",
         "(BIKE LANE)FLEMINGTON RD NW BD 10M SE OF DRYBURGH ST",
         "31/12/2010",
         "2010",
         "12",
         "0",
         "6",
         "17",
         "31",
         "107",
         "136",
         "S/HOLS",
         "23",
         "3",
         "False",
         "False",
         "4",
         "Summer",
         "Cycling",
         "Fri"
        ],
        [
         "35",
         "36",
         "9306",
         "1",
         "Flemington Rd NW Bound Lane",
         "(BIKE LANE)FLEMINGTON RD NW BD 10M SE OF DRYBURGH ST",
         "01/01/2011",
         "2011",
         "1",
         "0",
         "6",
         "9",
         "13",
         "35",
         "81",
         "N/YEAR",
         "1",
         "3",
         "False",
         "True",
         "1",
         "Summer",
         "Cycling",
         "Sat"
        ],
        [
         "36",
         "37",
         "9306",
         "1",
         "Flemington Rd NW Bound Lane",
         "(BIKE LANE)FLEMINGTON RD NW BD 10M SE OF DRYBURGH ST",
         "02/01/2011",
         "2011",
         "1",
         "0",
         "9",
         "10",
         "21",
         "67",
         "91",
         "S/HOLS",
         "23",
         "3",
         "False",
         "True",
         "1",
         "Summer",
         "Cycling",
         "Sun"
        ],
        [
         "37",
         "38",
         "9306",
         "1",
         "Flemington Rd NW Bound Lane",
         "(BIKE LANE)FLEMINGTON RD NW BD 10M SE OF DRYBURGH ST",
         "03/01/2011",
         "2011",
         "1",
         "0",
         "10",
         "14",
         "38",
         "91",
         "120",
         "NYRHOL",
         "23",
         "3",
         "False",
         "False",
         "1",
         "Summer",
         "Cycling",
         "Mon"
        ],
        [
         "38",
         "39",
         "9306",
         "1",
         "Flemington Rd NW Bound Lane",
         "(BIKE LANE)FLEMINGTON RD NW BD 10M SE OF DRYBURGH ST",
         "04/01/2011",
         "2011",
         "1",
         "0",
         "8",
         "72",
         "25",
         "221",
         "277",
         "S/HOLS",
         "25",
         "3",
         "False",
         "False",
         "1",
         "Summer",
         "Cycling",
         "Tue"
        ],
        [
         "39",
         "40",
         "9306",
         "1",
         "Flemington Rd NW Bound Lane",
         "(BIKE LANE)FLEMINGTON RD NW BD 10M SE OF DRYBURGH ST",
         "05/01/2011",
         "2011",
         "1",
         "0",
         "10",
         "77",
         "28",
         "211",
         "285",
         "S/HOLS",
         "25",
         "3",
         "False",
         "False",
         "1",
         "Summer",
         "Cycling",
         "Wed"
        ],
        [
         "40",
         "41",
         "9306",
         "1",
         "Flemington Rd NW Bound Lane",
         "(BIKE LANE)FLEMINGTON RD NW BD 10M SE OF DRYBURGH ST",
         "06/01/2011",
         "2011",
         "1",
         "0",
         "13",
         "76",
         "40",
         "251",
         "318",
         "S/HOLS",
         "25",
         "3",
         "False",
         "False",
         "1",
         "Summer",
         "Cycling",
         "Thu"
        ],
        [
         "41",
         "42",
         "9306",
         "1",
         "Flemington Rd NW Bound Lane",
         "(BIKE LANE)FLEMINGTON RD NW BD 10M SE OF DRYBURGH ST",
         "07/01/2011",
         "2011",
         "1",
         "0",
         "8",
         "44",
         "32",
         "167",
         "235",
         "S/HOLS",
         "25",
         "3",
         "False",
         "False",
         "1",
         "Summer",
         "Cycling",
         "Fri"
        ],
        [
         "42",
         "43",
         "9306",
         "1",
         "Flemington Rd NW Bound Lane",
         "(BIKE LANE)FLEMINGTON RD NW BD 10M SE OF DRYBURGH ST",
         "08/01/2011",
         "2011",
         "1",
         "0",
         "10",
         "14",
         "31",
         "96",
         "129",
         "S/HOLS",
         "26",
         "3",
         "False",
         "True",
         "1",
         "Summer",
         "Cycling",
         "Sat"
        ],
        [
         "43",
         "44",
         "9306",
         "1",
         "Flemington Rd NW Bound Lane",
         "(BIKE LANE)FLEMINGTON RD NW BD 10M SE OF DRYBURGH ST",
         "09/01/2011",
         "2011",
         "1",
         "0",
         "10",
         "17",
         "34",
         "98",
         "139",
         "S/HOLS",
         "26",
         "3",
         "False",
         "True",
         "1",
         "Summer",
         "Cycling",
         "Sun"
        ],
        [
         "44",
         "45",
         "9306",
         "1",
         "Flemington Rd NW Bound Lane",
         "(BIKE LANE)FLEMINGTON RD NW BD 10M SE OF DRYBURGH ST",
         "10/01/2011",
         "2011",
         "1",
         "0",
         "11",
         "74",
         "22",
         "216",
         "256",
         "S/HOLS",
         "26",
         "3",
         "False",
         "False",
         "1",
         "Summer",
         "Cycling",
         "Mon"
        ],
        [
         "45",
         "46",
         "9306",
         "1",
         "Flemington Rd NW Bound Lane",
         "(BIKE LANE)FLEMINGTON RD NW BD 10M SE OF DRYBURGH ST",
         "11/01/2011",
         "2011",
         "1",
         "0",
         "15",
         "72",
         "27",
         "241",
         "300",
         "S/HOLS",
         "26",
         "3",
         "False",
         "False",
         "1",
         "Summer",
         "Cycling",
         "Tue"
        ],
        [
         "46",
         "47",
         "9306",
         "1",
         "Flemington Rd NW Bound Lane",
         "(BIKE LANE)FLEMINGTON RD NW BD 10M SE OF DRYBURGH ST",
         "12/01/2011",
         "2011",
         "1",
         "0",
         "7",
         "51",
         "20",
         "149",
         "221",
         "S/HOLS",
         "26",
         "3",
         "False",
         "False",
         "1",
         "Summer",
         "Cycling",
         "Wed"
        ],
        [
         "47",
         "48",
         "9306",
         "1",
         "Flemington Rd NW Bound Lane",
         "(BIKE LANE)FLEMINGTON RD NW BD 10M SE OF DRYBURGH ST",
         "13/01/2011",
         "2011",
         "1",
         "0",
         "12",
         "74",
         "36",
         "224",
         "271",
         "S/HOLS",
         "26",
         "3",
         "False",
         "False",
         "1",
         "Summer",
         "Cycling",
         "Thu"
        ],
        [
         "48",
         "49",
         "9306",
         "1",
         "Flemington Rd NW Bound Lane",
         "(BIKE LANE)FLEMINGTON RD NW BD 10M SE OF DRYBURGH ST",
         "14/01/2011",
         "2011",
         "1",
         "0",
         "7",
         "47",
         "21",
         "135",
         "190",
         "S/HOLS",
         "26",
         "3",
         "False",
         "False",
         "1",
         "Summer",
         "Cycling",
         "Fri"
        ],
        [
         "49",
         "50",
         "9306",
         "1",
         "Flemington Rd NW Bound Lane",
         "(BIKE LANE)FLEMINGTON RD NW BD 10M SE OF DRYBURGH ST",
         "15/01/2011",
         "2011",
         "1",
         "0",
         "8",
         "13",
         "26",
         "84",
         "134",
         "S/HOLS",
         "2",
         "2",
         "False",
         "True",
         "1",
         "Summer",
         "Cycling",
         "Sat"
        ]
       ],
       "shape": {
        "columns": 23,
        "rows": 57003
       }
      },
      "text/html": [
       "<div>\n",
       "<style scoped>\n",
       "    .dataframe tbody tr th:only-of-type {\n",
       "        vertical-align: middle;\n",
       "    }\n",
       "\n",
       "    .dataframe tbody tr th {\n",
       "        vertical-align: top;\n",
       "    }\n",
       "\n",
       "    .dataframe thead th {\n",
       "        text-align: right;\n",
       "    }\n",
       "</style>\n",
       "<table border=\"1\" class=\"dataframe\">\n",
       "  <thead>\n",
       "    <tr style=\"text-align: right;\">\n",
       "      <th></th>\n",
       "      <th>Unique_ID</th>\n",
       "      <th>NB_TRAFFIC_SURVEY</th>\n",
       "      <th>NB_LOCATION_TRAFFIC_SURVEY</th>\n",
       "      <th>Sort Des</th>\n",
       "      <th>DS_LOCATION</th>\n",
       "      <th>DT_ANALYSIS_SUMMARY</th>\n",
       "      <th>NB_YEAR</th>\n",
       "      <th>NB_MONTH</th>\n",
       "      <th>NB_WEEKDAY_NONHOL_QTR</th>\n",
       "      <th>CT_VOLUME_AMPEAK</th>\n",
       "      <th>...</th>\n",
       "      <th>CT_VOLUME_24HOUR</th>\n",
       "      <th>DS_HOLIDAY</th>\n",
       "      <th>NB_SEASONALITY_PERIOD</th>\n",
       "      <th>NB_TYPE_PERIOD</th>\n",
       "      <th>Primary</th>\n",
       "      <th>weekend</th>\n",
       "      <th>Quarter</th>\n",
       "      <th>Season</th>\n",
       "      <th>Cyclying Season</th>\n",
       "      <th>day</th>\n",
       "    </tr>\n",
       "  </thead>\n",
       "  <tbody>\n",
       "    <tr>\n",
       "      <th>0</th>\n",
       "      <td>1</td>\n",
       "      <td>9305</td>\n",
       "      <td>3</td>\n",
       "      <td>St Georges St Hawthorn</td>\n",
       "      <td>(BIKE PATH)ST. GEORGES ST 2WAY 50M S OF HAWTHO...</td>\n",
       "      <td>09/06/2007</td>\n",
       "      <td>2007</td>\n",
       "      <td>6</td>\n",
       "      <td>0</td>\n",
       "      <td>39</td>\n",
       "      <td>...</td>\n",
       "      <td>480</td>\n",
       "      <td>NaN</td>\n",
       "      <td>11</td>\n",
       "      <td>3</td>\n",
       "      <td>False</td>\n",
       "      <td>True</td>\n",
       "      <td>2</td>\n",
       "      <td>Winter</td>\n",
       "      <td>Non-Cycling</td>\n",
       "      <td>Sat</td>\n",
       "    </tr>\n",
       "    <tr>\n",
       "      <th>1</th>\n",
       "      <td>2</td>\n",
       "      <td>9306</td>\n",
       "      <td>1</td>\n",
       "      <td>Flemington Rd NW Bound Lane</td>\n",
       "      <td>(BIKE LANE)FLEMINGTON RD NW BD 10M SE OF DRYBU...</td>\n",
       "      <td>17/03/2008</td>\n",
       "      <td>2008</td>\n",
       "      <td>3</td>\n",
       "      <td>41</td>\n",
       "      <td>62</td>\n",
       "      <td>...</td>\n",
       "      <td>654</td>\n",
       "      <td>NaN</td>\n",
       "      <td>6</td>\n",
       "      <td>1</td>\n",
       "      <td>False</td>\n",
       "      <td>False</td>\n",
       "      <td>1</td>\n",
       "      <td>Autumn</td>\n",
       "      <td>Cycling</td>\n",
       "      <td>Mon</td>\n",
       "    </tr>\n",
       "    <tr>\n",
       "      <th>2</th>\n",
       "      <td>3</td>\n",
       "      <td>9306</td>\n",
       "      <td>1</td>\n",
       "      <td>Flemington Rd NW Bound Lane</td>\n",
       "      <td>(BIKE LANE)FLEMINGTON RD NW BD 10M SE OF DRYBU...</td>\n",
       "      <td>19/03/2008</td>\n",
       "      <td>2008</td>\n",
       "      <td>3</td>\n",
       "      <td>41</td>\n",
       "      <td>59</td>\n",
       "      <td>...</td>\n",
       "      <td>794</td>\n",
       "      <td>NaN</td>\n",
       "      <td>6</td>\n",
       "      <td>1</td>\n",
       "      <td>False</td>\n",
       "      <td>False</td>\n",
       "      <td>1</td>\n",
       "      <td>Autumn</td>\n",
       "      <td>Cycling</td>\n",
       "      <td>Wed</td>\n",
       "    </tr>\n",
       "    <tr>\n",
       "      <th>3</th>\n",
       "      <td>4</td>\n",
       "      <td>9306</td>\n",
       "      <td>1</td>\n",
       "      <td>Flemington Rd NW Bound Lane</td>\n",
       "      <td>(BIKE LANE)FLEMINGTON RD NW BD 10M SE OF DRYBU...</td>\n",
       "      <td>20/03/2008</td>\n",
       "      <td>2008</td>\n",
       "      <td>3</td>\n",
       "      <td>0</td>\n",
       "      <td>59</td>\n",
       "      <td>...</td>\n",
       "      <td>732</td>\n",
       "      <td>EASTHU</td>\n",
       "      <td>7</td>\n",
       "      <td>3</td>\n",
       "      <td>False</td>\n",
       "      <td>False</td>\n",
       "      <td>1</td>\n",
       "      <td>Autumn</td>\n",
       "      <td>Cycling</td>\n",
       "      <td>Thu</td>\n",
       "    </tr>\n",
       "    <tr>\n",
       "      <th>4</th>\n",
       "      <td>5</td>\n",
       "      <td>9306</td>\n",
       "      <td>1</td>\n",
       "      <td>Flemington Rd NW Bound Lane</td>\n",
       "      <td>(BIKE LANE)FLEMINGTON RD NW BD 10M SE OF DRYBU...</td>\n",
       "      <td>21/03/2008</td>\n",
       "      <td>2008</td>\n",
       "      <td>3</td>\n",
       "      <td>0</td>\n",
       "      <td>18</td>\n",
       "      <td>...</td>\n",
       "      <td>221</td>\n",
       "      <td>EASTER</td>\n",
       "      <td>7</td>\n",
       "      <td>3</td>\n",
       "      <td>False</td>\n",
       "      <td>False</td>\n",
       "      <td>1</td>\n",
       "      <td>Autumn</td>\n",
       "      <td>Cycling</td>\n",
       "      <td>Fri</td>\n",
       "    </tr>\n",
       "    <tr>\n",
       "      <th>...</th>\n",
       "      <td>...</td>\n",
       "      <td>...</td>\n",
       "      <td>...</td>\n",
       "      <td>...</td>\n",
       "      <td>...</td>\n",
       "      <td>...</td>\n",
       "      <td>...</td>\n",
       "      <td>...</td>\n",
       "      <td>...</td>\n",
       "      <td>...</td>\n",
       "      <td>...</td>\n",
       "      <td>...</td>\n",
       "      <td>...</td>\n",
       "      <td>...</td>\n",
       "      <td>...</td>\n",
       "      <td>...</td>\n",
       "      <td>...</td>\n",
       "      <td>...</td>\n",
       "      <td>...</td>\n",
       "      <td>...</td>\n",
       "      <td>...</td>\n",
       "    </tr>\n",
       "    <tr>\n",
       "      <th>56998</th>\n",
       "      <td>56999</td>\n",
       "      <td>9304</td>\n",
       "      <td>3</td>\n",
       "      <td>Scotchmans Creek Trail</td>\n",
       "      <td>(BIKE PATH)SCOTCHMANS CREEK TRAIL 52M E OF 61 ...</td>\n",
       "      <td>06/12/2012</td>\n",
       "      <td>2012</td>\n",
       "      <td>12</td>\n",
       "      <td>44</td>\n",
       "      <td>18</td>\n",
       "      <td>...</td>\n",
       "      <td>156</td>\n",
       "      <td>NaN</td>\n",
       "      <td>19</td>\n",
       "      <td>1</td>\n",
       "      <td>NaN</td>\n",
       "      <td>False</td>\n",
       "      <td>4</td>\n",
       "      <td>Summer</td>\n",
       "      <td>Cycling</td>\n",
       "      <td>Thu</td>\n",
       "    </tr>\n",
       "    <tr>\n",
       "      <th>56999</th>\n",
       "      <td>57000</td>\n",
       "      <td>9304</td>\n",
       "      <td>3</td>\n",
       "      <td>Scotchmans Creek Trail</td>\n",
       "      <td>(BIKE PATH)SCOTCHMANS CREEK TRAIL 52M E OF 61 ...</td>\n",
       "      <td>07/12/2012</td>\n",
       "      <td>2012</td>\n",
       "      <td>12</td>\n",
       "      <td>44</td>\n",
       "      <td>15</td>\n",
       "      <td>...</td>\n",
       "      <td>186</td>\n",
       "      <td>NaN</td>\n",
       "      <td>19</td>\n",
       "      <td>1</td>\n",
       "      <td>NaN</td>\n",
       "      <td>False</td>\n",
       "      <td>4</td>\n",
       "      <td>Summer</td>\n",
       "      <td>Cycling</td>\n",
       "      <td>Fri</td>\n",
       "    </tr>\n",
       "    <tr>\n",
       "      <th>57000</th>\n",
       "      <td>57001</td>\n",
       "      <td>9304</td>\n",
       "      <td>3</td>\n",
       "      <td>Scotchmans Creek Trail</td>\n",
       "      <td>(BIKE PATH)SCOTCHMANS CREEK TRAIL 52M E OF 61 ...</td>\n",
       "      <td>08/12/2012</td>\n",
       "      <td>2012</td>\n",
       "      <td>12</td>\n",
       "      <td>0</td>\n",
       "      <td>25</td>\n",
       "      <td>...</td>\n",
       "      <td>121</td>\n",
       "      <td>NaN</td>\n",
       "      <td>19</td>\n",
       "      <td>1</td>\n",
       "      <td>NaN</td>\n",
       "      <td>True</td>\n",
       "      <td>4</td>\n",
       "      <td>Summer</td>\n",
       "      <td>Cycling</td>\n",
       "      <td>Sat</td>\n",
       "    </tr>\n",
       "    <tr>\n",
       "      <th>57001</th>\n",
       "      <td>57002</td>\n",
       "      <td>9304</td>\n",
       "      <td>3</td>\n",
       "      <td>Scotchmans Creek Trail</td>\n",
       "      <td>(BIKE PATH)SCOTCHMANS CREEK TRAIL 52M E OF 61 ...</td>\n",
       "      <td>09/12/2012</td>\n",
       "      <td>2012</td>\n",
       "      <td>12</td>\n",
       "      <td>0</td>\n",
       "      <td>26</td>\n",
       "      <td>...</td>\n",
       "      <td>249</td>\n",
       "      <td>NaN</td>\n",
       "      <td>19</td>\n",
       "      <td>1</td>\n",
       "      <td>NaN</td>\n",
       "      <td>True</td>\n",
       "      <td>4</td>\n",
       "      <td>Summer</td>\n",
       "      <td>Cycling</td>\n",
       "      <td>Sun</td>\n",
       "    </tr>\n",
       "    <tr>\n",
       "      <th>57002</th>\n",
       "      <td>57003</td>\n",
       "      <td>9304</td>\n",
       "      <td>3</td>\n",
       "      <td>Scotchmans Creek Trail</td>\n",
       "      <td>(BIKE PATH)SCOTCHMANS CREEK TRAIL 52M E OF 61 ...</td>\n",
       "      <td>10/12/2012</td>\n",
       "      <td>2012</td>\n",
       "      <td>12</td>\n",
       "      <td>0</td>\n",
       "      <td>23</td>\n",
       "      <td>...</td>\n",
       "      <td>200</td>\n",
       "      <td>LEADUP</td>\n",
       "      <td>20</td>\n",
       "      <td>3</td>\n",
       "      <td>NaN</td>\n",
       "      <td>False</td>\n",
       "      <td>4</td>\n",
       "      <td>Summer</td>\n",
       "      <td>Cycling</td>\n",
       "      <td>Mon</td>\n",
       "    </tr>\n",
       "  </tbody>\n",
       "</table>\n",
       "<p>57003 rows × 23 columns</p>\n",
       "</div>"
      ],
      "text/plain": [
       "       Unique_ID  NB_TRAFFIC_SURVEY  NB_LOCATION_TRAFFIC_SURVEY  \\\n",
       "0              1               9305                           3   \n",
       "1              2               9306                           1   \n",
       "2              3               9306                           1   \n",
       "3              4               9306                           1   \n",
       "4              5               9306                           1   \n",
       "...          ...                ...                         ...   \n",
       "56998      56999               9304                           3   \n",
       "56999      57000               9304                           3   \n",
       "57000      57001               9304                           3   \n",
       "57001      57002               9304                           3   \n",
       "57002      57003               9304                           3   \n",
       "\n",
       "                          Sort Des  \\\n",
       "0           St Georges St Hawthorn   \n",
       "1      Flemington Rd NW Bound Lane   \n",
       "2      Flemington Rd NW Bound Lane   \n",
       "3      Flemington Rd NW Bound Lane   \n",
       "4      Flemington Rd NW Bound Lane   \n",
       "...                            ...   \n",
       "56998       Scotchmans Creek Trail   \n",
       "56999       Scotchmans Creek Trail   \n",
       "57000       Scotchmans Creek Trail   \n",
       "57001       Scotchmans Creek Trail   \n",
       "57002       Scotchmans Creek Trail   \n",
       "\n",
       "                                             DS_LOCATION DT_ANALYSIS_SUMMARY  \\\n",
       "0      (BIKE PATH)ST. GEORGES ST 2WAY 50M S OF HAWTHO...          09/06/2007   \n",
       "1      (BIKE LANE)FLEMINGTON RD NW BD 10M SE OF DRYBU...          17/03/2008   \n",
       "2      (BIKE LANE)FLEMINGTON RD NW BD 10M SE OF DRYBU...          19/03/2008   \n",
       "3      (BIKE LANE)FLEMINGTON RD NW BD 10M SE OF DRYBU...          20/03/2008   \n",
       "4      (BIKE LANE)FLEMINGTON RD NW BD 10M SE OF DRYBU...          21/03/2008   \n",
       "...                                                  ...                 ...   \n",
       "56998  (BIKE PATH)SCOTCHMANS CREEK TRAIL 52M E OF 61 ...          06/12/2012   \n",
       "56999  (BIKE PATH)SCOTCHMANS CREEK TRAIL 52M E OF 61 ...          07/12/2012   \n",
       "57000  (BIKE PATH)SCOTCHMANS CREEK TRAIL 52M E OF 61 ...          08/12/2012   \n",
       "57001  (BIKE PATH)SCOTCHMANS CREEK TRAIL 52M E OF 61 ...          09/12/2012   \n",
       "57002  (BIKE PATH)SCOTCHMANS CREEK TRAIL 52M E OF 61 ...          10/12/2012   \n",
       "\n",
       "       NB_YEAR  NB_MONTH  NB_WEEKDAY_NONHOL_QTR  CT_VOLUME_AMPEAK  ...  \\\n",
       "0         2007         6                      0                39  ...   \n",
       "1         2008         3                     41                62  ...   \n",
       "2         2008         3                     41                59  ...   \n",
       "3         2008         3                      0                59  ...   \n",
       "4         2008         3                      0                18  ...   \n",
       "...        ...       ...                    ...               ...  ...   \n",
       "56998     2012        12                     44                18  ...   \n",
       "56999     2012        12                     44                15  ...   \n",
       "57000     2012        12                      0                25  ...   \n",
       "57001     2012        12                      0                26  ...   \n",
       "57002     2012        12                      0                23  ...   \n",
       "\n",
       "       CT_VOLUME_24HOUR  DS_HOLIDAY  NB_SEASONALITY_PERIOD  NB_TYPE_PERIOD  \\\n",
       "0                   480         NaN                     11               3   \n",
       "1                   654         NaN                      6               1   \n",
       "2                   794         NaN                      6               1   \n",
       "3                   732      EASTHU                      7               3   \n",
       "4                   221      EASTER                      7               3   \n",
       "...                 ...         ...                    ...             ...   \n",
       "56998               156         NaN                     19               1   \n",
       "56999               186         NaN                     19               1   \n",
       "57000               121         NaN                     19               1   \n",
       "57001               249         NaN                     19               1   \n",
       "57002               200      LEADUP                     20               3   \n",
       "\n",
       "      Primary  weekend  Quarter  Season  Cyclying Season  day  \n",
       "0       False     True        2  Winter      Non-Cycling  Sat  \n",
       "1       False    False        1  Autumn          Cycling  Mon  \n",
       "2       False    False        1  Autumn          Cycling  Wed  \n",
       "3       False    False        1  Autumn          Cycling  Thu  \n",
       "4       False    False        1  Autumn          Cycling  Fri  \n",
       "...       ...      ...      ...     ...              ...  ...  \n",
       "56998     NaN    False        4  Summer          Cycling  Thu  \n",
       "56999     NaN    False        4  Summer          Cycling  Fri  \n",
       "57000     NaN     True        4  Summer          Cycling  Sat  \n",
       "57001     NaN     True        4  Summer          Cycling  Sun  \n",
       "57002     NaN    False        4  Summer          Cycling  Mon  \n",
       "\n",
       "[57003 rows x 23 columns]"
      ]
     },
     "execution_count": 214,
     "metadata": {},
     "output_type": "execute_result"
    }
   ],
   "source": [
    "# Set and remove an index\n",
    "Bicycle.set_index(\"Unique_ID\")\n",
    "Bicycle.reset_index(drop = True) # If you want to drop it as well"
   ]
  },
  {
   "cell_type": "markdown",
   "id": "75242871",
   "metadata": {},
   "source": [
    "## 4. Visualising data"
   ]
  },
  {
   "cell_type": "code",
   "execution_count": 215,
   "id": "4e8ca64a",
   "metadata": {},
   "outputs": [
    {
     "data": {
      "text/plain": [
       "<Axes: >"
      ]
     },
     "execution_count": 215,
     "metadata": {},
     "output_type": "execute_result"
    },
    {
     "data": {
      "image/png": "[encoded data removed]",
      "text/plain": [
       "<Figure size 500x300 with 1 Axes>"
      ]
     },
     "metadata": {},
     "output_type": "display_data"
    }
   ],
   "source": [
    "# Histogram\n",
    "Bicycle['NB_TRAFFIC_SURVEY'].hist(bins=20)"
   ]
  },
  {
   "cell_type": "code",
   "execution_count": 224,
   "id": "fa7cda5e",
   "metadata": {},
   "outputs": [
    {
     "data": {
      "image/png": "[encoded data removed]",
      "text/plain": [
       "<Figure size 500x300 with 1 Axes>"
      ]
     },
     "metadata": {},
     "output_type": "display_data"
    }
   ],
   "source": [
    "# Transparent Barplot\n",
    "Bicycle[Bicycle['NB_YEAR'] == 2007]['NB_TRAFFIC_SURVEY'].hist(alpha = 0.5)\n",
    "Bicycle[Bicycle['NB_YEAR'] == 2008]['NB_TRAFFIC_SURVEY'].hist(alpha = 0.5)\n",
    "plt.legend([2007,2008])\n",
    "plt.xticks(np.linspace(min(Bicycle[\"NB_TRAFFIC_SURVEY\"]), max(Bicycle[\"NB_TRAFFIC_SURVEY\"]), 6))\n",
    "plt.show()"
   ]
  },
  {
   "cell_type": "code",
   "execution_count": null,
   "id": "0737da42",
   "metadata": {},
   "outputs": [],
   "source": []
  },
  {
   "cell_type": "markdown",
   "id": "20ab4c75",
   "metadata": {},
   "source": [
    "## 5. Missing data"
   ]
  },
  {
   "cell_type": "markdown",
   "id": "80566ad1",
   "metadata": {},
   "source": [
    "### 5.1 Detecting missing values"
   ]
  },
  {
   "cell_type": "code",
   "execution_count": 217,
   "id": "48da511a",
   "metadata": {},
   "outputs": [
    {
     "data": {
      "application/vnd.microsoft.datawrangler.viewer.v0+json": {
       "columns": [
        {
         "name": "index",
         "rawType": "object",
         "type": "string"
        },
        {
         "name": "0",
         "rawType": "int64",
         "type": "integer"
        }
       ],
       "ref": "e92c5c14-7616-4c89-a3ee-cb5f548a4fb3",
       "rows": [
        [
         "DS_HOLIDAY",
         "41566"
        ],
        [
         "Primary",
         "631"
        ],
        [
         "Unique_ID",
         "0"
        ],
        [
         "CT_VOLUME_12HOUR",
         "0"
        ],
        [
         "Cyclying Season",
         "0"
        ]
       ],
       "shape": {
        "columns": 1,
        "rows": 5
       }
      },
      "text/plain": [
       "DS_HOLIDAY          41566\n",
       "Primary               631\n",
       "Unique_ID               0\n",
       "CT_VOLUME_12HOUR        0\n",
       "Cyclying Season         0\n",
       "dtype: int64"
      ]
     },
     "execution_count": 217,
     "metadata": {},
     "output_type": "execute_result"
    }
   ],
   "source": [
    "# Quick overview\n",
    "first_five_columns = Bicycle.isna().sum().sort_values(ascending=False).head()\n",
    "first_five_columns"
   ]
  },
  {
   "cell_type": "code",
   "execution_count": 228,
   "id": "55fe43da",
   "metadata": {},
   "outputs": [
    {
     "data": {
      "image/png": "[encoded data removed]",
      "text/plain": [
       "<Figure size 500x300 with 1 Axes>"
      ]
     },
     "metadata": {},
     "output_type": "display_data"
    }
   ],
   "source": [
    "# Plot missing data\n",
    "first_five_columns.plot(kind=\"bar\", rot=35, title=\"Missing values\")\n",
    "plt.show()"
   ]
  },
  {
   "cell_type": "code",
   "execution_count": 232,
   "id": "c1d494de",
   "metadata": {},
   "outputs": [
    {
     "data": {
      "application/vnd.microsoft.datawrangler.viewer.v0+json": {
       "columns": [
        {
         "name": "index",
         "rawType": "int64",
         "type": "integer"
        },
        {
         "name": "Unique_ID",
         "rawType": "int64",
         "type": "integer"
        },
        {
         "name": "NB_TRAFFIC_SURVEY",
         "rawType": "int64",
         "type": "integer"
        },
        {
         "name": "NB_LOCATION_TRAFFIC_SURVEY",
         "rawType": "int64",
         "type": "integer"
        },
        {
         "name": "Sort Des",
         "rawType": "object",
         "type": "string"
        },
        {
         "name": "DS_LOCATION",
         "rawType": "object",
         "type": "string"
        },
        {
         "name": "DT_ANALYSIS_SUMMARY",
         "rawType": "object",
         "type": "string"
        },
        {
         "name": "NB_YEAR",
         "rawType": "int64",
         "type": "integer"
        },
        {
         "name": "NB_MONTH",
         "rawType": "int64",
         "type": "integer"
        },
        {
         "name": "NB_WEEKDAY_NONHOL_QTR",
         "rawType": "int64",
         "type": "integer"
        },
        {
         "name": "CT_VOLUME_AMPEAK",
         "rawType": "int64",
         "type": "integer"
        },
        {
         "name": "CT_VOLUME_PMPEAK",
         "rawType": "int64",
         "type": "integer"
        },
        {
         "name": "CT_VOLUME_4HOUR_OFFPEAK",
         "rawType": "int64",
         "type": "integer"
        },
        {
         "name": "CT_VOLUME_12HOUR",
         "rawType": "int64",
         "type": "integer"
        },
        {
         "name": "CT_VOLUME_24HOUR",
         "rawType": "int64",
         "type": "integer"
        },
        {
         "name": "DS_HOLIDAY",
         "rawType": "object",
         "type": "unknown"
        },
        {
         "name": "NB_SEASONALITY_PERIOD",
         "rawType": "int64",
         "type": "integer"
        },
        {
         "name": "NB_TYPE_PERIOD",
         "rawType": "int64",
         "type": "integer"
        },
        {
         "name": "Primary",
         "rawType": "object",
         "type": "unknown"
        },
        {
         "name": "weekend",
         "rawType": "bool",
         "type": "boolean"
        },
        {
         "name": "Quarter",
         "rawType": "int64",
         "type": "integer"
        },
        {
         "name": "Season",
         "rawType": "object",
         "type": "string"
        },
        {
         "name": "Cyclying Season",
         "rawType": "object",
         "type": "string"
        },
        {
         "name": "day",
         "rawType": "object",
         "type": "string"
        }
       ],
       "ref": "63a06b9d-f61d-48bb-b76a-bd6e33e7cd24",
       "rows": [
        [
         "0",
         "1",
         "9305",
         "3",
         "St Georges St Hawthorn",
         "(BIKE PATH)ST. GEORGES ST 2WAY 50M S OF HAWTHORN RD TEST SITE",
         "09/06/2007",
         "2007",
         "6",
         "0",
         "39",
         "46",
         "144",
         "390",
         "480",
         "0",
         "11",
         "3",
         "False",
         "True",
         "2",
         "Winter",
         "Non-Cycling",
         "Sat"
        ],
        [
         "1",
         "2",
         "9306",
         "1",
         "Flemington Rd NW Bound Lane",
         "(BIKE LANE)FLEMINGTON RD NW BD 10M SE OF DRYBURGH ST",
         "17/03/2008",
         "2008",
         "3",
         "41",
         "62",
         "82",
         "176",
         "572",
         "654",
         "0",
         "6",
         "1",
         "False",
         "False",
         "1",
         "Autumn",
         "Cycling",
         "Mon"
        ],
        [
         "2",
         "3",
         "9306",
         "1",
         "Flemington Rd NW Bound Lane",
         "(BIKE LANE)FLEMINGTON RD NW BD 10M SE OF DRYBURGH ST",
         "19/03/2008",
         "2008",
         "3",
         "41",
         "59",
         "117",
         "193",
         "672",
         "794",
         "0",
         "6",
         "1",
         "False",
         "False",
         "1",
         "Autumn",
         "Cycling",
         "Wed"
        ],
        [
         "3",
         "4",
         "9306",
         "1",
         "Flemington Rd NW Bound Lane",
         "(BIKE LANE)FLEMINGTON RD NW BD 10M SE OF DRYBURGH ST",
         "20/03/2008",
         "2008",
         "3",
         "0",
         "59",
         "80",
         "208",
         "622",
         "732",
         "EASTHU",
         "7",
         "3",
         "False",
         "False",
         "1",
         "Autumn",
         "Cycling",
         "Thu"
        ],
        [
         "4",
         "5",
         "9306",
         "1",
         "Flemington Rd NW Bound Lane",
         "(BIKE LANE)FLEMINGTON RD NW BD 10M SE OF DRYBURGH ST",
         "21/03/2008",
         "2008",
         "3",
         "0",
         "18",
         "24",
         "62",
         "152",
         "221",
         "EASTER",
         "7",
         "3",
         "False",
         "False",
         "1",
         "Autumn",
         "Cycling",
         "Fri"
        ]
       ],
       "shape": {
        "columns": 23,
        "rows": 5
       }
      },
      "text/html": [
       "<div>\n",
       "<style scoped>\n",
       "    .dataframe tbody tr th:only-of-type {\n",
       "        vertical-align: middle;\n",
       "    }\n",
       "\n",
       "    .dataframe tbody tr th {\n",
       "        vertical-align: top;\n",
       "    }\n",
       "\n",
       "    .dataframe thead th {\n",
       "        text-align: right;\n",
       "    }\n",
       "</style>\n",
       "<table border=\"1\" class=\"dataframe\">\n",
       "  <thead>\n",
       "    <tr style=\"text-align: right;\">\n",
       "      <th></th>\n",
       "      <th>Unique_ID</th>\n",
       "      <th>NB_TRAFFIC_SURVEY</th>\n",
       "      <th>NB_LOCATION_TRAFFIC_SURVEY</th>\n",
       "      <th>Sort Des</th>\n",
       "      <th>DS_LOCATION</th>\n",
       "      <th>DT_ANALYSIS_SUMMARY</th>\n",
       "      <th>NB_YEAR</th>\n",
       "      <th>NB_MONTH</th>\n",
       "      <th>NB_WEEKDAY_NONHOL_QTR</th>\n",
       "      <th>CT_VOLUME_AMPEAK</th>\n",
       "      <th>...</th>\n",
       "      <th>CT_VOLUME_24HOUR</th>\n",
       "      <th>DS_HOLIDAY</th>\n",
       "      <th>NB_SEASONALITY_PERIOD</th>\n",
       "      <th>NB_TYPE_PERIOD</th>\n",
       "      <th>Primary</th>\n",
       "      <th>weekend</th>\n",
       "      <th>Quarter</th>\n",
       "      <th>Season</th>\n",
       "      <th>Cyclying Season</th>\n",
       "      <th>day</th>\n",
       "    </tr>\n",
       "  </thead>\n",
       "  <tbody>\n",
       "    <tr>\n",
       "      <th>0</th>\n",
       "      <td>1</td>\n",
       "      <td>9305</td>\n",
       "      <td>3</td>\n",
       "      <td>St Georges St Hawthorn</td>\n",
       "      <td>(BIKE PATH)ST. GEORGES ST 2WAY 50M S OF HAWTHO...</td>\n",
       "      <td>09/06/2007</td>\n",
       "      <td>2007</td>\n",
       "      <td>6</td>\n",
       "      <td>0</td>\n",
       "      <td>39</td>\n",
       "      <td>...</td>\n",
       "      <td>480</td>\n",
       "      <td>0</td>\n",
       "      <td>11</td>\n",
       "      <td>3</td>\n",
       "      <td>False</td>\n",
       "      <td>True</td>\n",
       "      <td>2</td>\n",
       "      <td>Winter</td>\n",
       "      <td>Non-Cycling</td>\n",
       "      <td>Sat</td>\n",
       "    </tr>\n",
       "    <tr>\n",
       "      <th>1</th>\n",
       "      <td>2</td>\n",
       "      <td>9306</td>\n",
       "      <td>1</td>\n",
       "      <td>Flemington Rd NW Bound Lane</td>\n",
       "      <td>(BIKE LANE)FLEMINGTON RD NW BD 10M SE OF DRYBU...</td>\n",
       "      <td>17/03/2008</td>\n",
       "      <td>2008</td>\n",
       "      <td>3</td>\n",
       "      <td>41</td>\n",
       "      <td>62</td>\n",
       "      <td>...</td>\n",
       "      <td>654</td>\n",
       "      <td>0</td>\n",
       "      <td>6</td>\n",
       "      <td>1</td>\n",
       "      <td>False</td>\n",
       "      <td>False</td>\n",
       "      <td>1</td>\n",
       "      <td>Autumn</td>\n",
       "      <td>Cycling</td>\n",
       "      <td>Mon</td>\n",
       "    </tr>\n",
       "    <tr>\n",
       "      <th>2</th>\n",
       "      <td>3</td>\n",
       "      <td>9306</td>\n",
       "      <td>1</td>\n",
       "      <td>Flemington Rd NW Bound Lane</td>\n",
       "      <td>(BIKE LANE)FLEMINGTON RD NW BD 10M SE OF DRYBU...</td>\n",
       "      <td>19/03/2008</td>\n",
       "      <td>2008</td>\n",
       "      <td>3</td>\n",
       "      <td>41</td>\n",
       "      <td>59</td>\n",
       "      <td>...</td>\n",
       "      <td>794</td>\n",
       "      <td>0</td>\n",
       "      <td>6</td>\n",
       "      <td>1</td>\n",
       "      <td>False</td>\n",
       "      <td>False</td>\n",
       "      <td>1</td>\n",
       "      <td>Autumn</td>\n",
       "      <td>Cycling</td>\n",
       "      <td>Wed</td>\n",
       "    </tr>\n",
       "    <tr>\n",
       "      <th>3</th>\n",
       "      <td>4</td>\n",
       "      <td>9306</td>\n",
       "      <td>1</td>\n",
       "      <td>Flemington Rd NW Bound Lane</td>\n",
       "      <td>(BIKE LANE)FLEMINGTON RD NW BD 10M SE OF DRYBU...</td>\n",
       "      <td>20/03/2008</td>\n",
       "      <td>2008</td>\n",
       "      <td>3</td>\n",
       "      <td>0</td>\n",
       "      <td>59</td>\n",
       "      <td>...</td>\n",
       "      <td>732</td>\n",
       "      <td>EASTHU</td>\n",
       "      <td>7</td>\n",
       "      <td>3</td>\n",
       "      <td>False</td>\n",
       "      <td>False</td>\n",
       "      <td>1</td>\n",
       "      <td>Autumn</td>\n",
       "      <td>Cycling</td>\n",
       "      <td>Thu</td>\n",
       "    </tr>\n",
       "    <tr>\n",
       "      <th>4</th>\n",
       "      <td>5</td>\n",
       "      <td>9306</td>\n",
       "      <td>1</td>\n",
       "      <td>Flemington Rd NW Bound Lane</td>\n",
       "      <td>(BIKE LANE)FLEMINGTON RD NW BD 10M SE OF DRYBU...</td>\n",
       "      <td>21/03/2008</td>\n",
       "      <td>2008</td>\n",
       "      <td>3</td>\n",
       "      <td>0</td>\n",
       "      <td>18</td>\n",
       "      <td>...</td>\n",
       "      <td>221</td>\n",
       "      <td>EASTER</td>\n",
       "      <td>7</td>\n",
       "      <td>3</td>\n",
       "      <td>False</td>\n",
       "      <td>False</td>\n",
       "      <td>1</td>\n",
       "      <td>Autumn</td>\n",
       "      <td>Cycling</td>\n",
       "      <td>Fri</td>\n",
       "    </tr>\n",
       "  </tbody>\n",
       "</table>\n",
       "<p>5 rows × 23 columns</p>\n",
       "</div>"
      ],
      "text/plain": [
       "   Unique_ID  NB_TRAFFIC_SURVEY  NB_LOCATION_TRAFFIC_SURVEY  \\\n",
       "0          1               9305                           3   \n",
       "1          2               9306                           1   \n",
       "2          3               9306                           1   \n",
       "3          4               9306                           1   \n",
       "4          5               9306                           1   \n",
       "\n",
       "                      Sort Des  \\\n",
       "0       St Georges St Hawthorn   \n",
       "1  Flemington Rd NW Bound Lane   \n",
       "2  Flemington Rd NW Bound Lane   \n",
       "3  Flemington Rd NW Bound Lane   \n",
       "4  Flemington Rd NW Bound Lane   \n",
       "\n",
       "                                         DS_LOCATION DT_ANALYSIS_SUMMARY  \\\n",
       "0  (BIKE PATH)ST. GEORGES ST 2WAY 50M S OF HAWTHO...          09/06/2007   \n",
       "1  (BIKE LANE)FLEMINGTON RD NW BD 10M SE OF DRYBU...          17/03/2008   \n",
       "2  (BIKE LANE)FLEMINGTON RD NW BD 10M SE OF DRYBU...          19/03/2008   \n",
       "3  (BIKE LANE)FLEMINGTON RD NW BD 10M SE OF DRYBU...          20/03/2008   \n",
       "4  (BIKE LANE)FLEMINGTON RD NW BD 10M SE OF DRYBU...          21/03/2008   \n",
       "\n",
       "   NB_YEAR  NB_MONTH  NB_WEEKDAY_NONHOL_QTR  CT_VOLUME_AMPEAK  ...  \\\n",
       "0     2007         6                      0                39  ...   \n",
       "1     2008         3                     41                62  ...   \n",
       "2     2008         3                     41                59  ...   \n",
       "3     2008         3                      0                59  ...   \n",
       "4     2008         3                      0                18  ...   \n",
       "\n",
       "   CT_VOLUME_24HOUR  DS_HOLIDAY  NB_SEASONALITY_PERIOD  NB_TYPE_PERIOD  \\\n",
       "0               480           0                     11               3   \n",
       "1               654           0                      6               1   \n",
       "2               794           0                      6               1   \n",
       "3               732      EASTHU                      7               3   \n",
       "4               221      EASTER                      7               3   \n",
       "\n",
       "  Primary  weekend  Quarter  Season  Cyclying Season  day  \n",
       "0   False     True        2  Winter      Non-Cycling  Sat  \n",
       "1   False    False        1  Autumn          Cycling  Mon  \n",
       "2   False    False        1  Autumn          Cycling  Wed  \n",
       "3   False    False        1  Autumn          Cycling  Thu  \n",
       "4   False    False        1  Autumn          Cycling  Fri  \n",
       "\n",
       "[5 rows x 23 columns]"
      ]
     },
     "execution_count": 232,
     "metadata": {},
     "output_type": "execute_result"
    }
   ],
   "source": [
    "# Drop missing values\n",
    "Bicycle.dropna()\n",
    "# Replace missing values\n",
    "Bicycle.fillna(0).head()"
   ]
  }
 ],
 "metadata": {
  "kernelspec": {
   "display_name": "base",
   "language": "python",
   "name": "python3"
  },
  "language_info": {
   "codemirror_mode": {
    "name": "ipython",
    "version": 3
   },
   "file_extension": ".py",
   "mimetype": "text/x-python",
   "name": "python",
   "nbconvert_exporter": "python",
   "pygments_lexer": "ipython3",
   "version": "3.13.5"
  }
 },
 "nbformat": 4,
 "nbformat_minor": 5
}
